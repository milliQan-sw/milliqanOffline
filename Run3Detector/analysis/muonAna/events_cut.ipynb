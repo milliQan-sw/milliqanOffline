{
 "cells": [
  {
   "cell_type": "code",
   "execution_count": 1,
   "id": "9b4b4bd1-5bdd-4dc9-a129-a89a122891c2",
   "metadata": {},
   "outputs": [
    {
     "name": "stdout",
     "output_type": "stream",
     "text": [
      "Welcome to JupyROOT 6.24/07\n"
     ]
    },
    {
     "name": "stderr",
     "output_type": "stream",
     "text": [
      "/cvmfs/cms.cern.ch/slc7_amd64_gcc10/external/py3-setuptools/60.9.3-ddcab3b6a742c72fed5554de8ccaaf18/lib/python3.9/site-packages/_distutils_hack/__init__.py:17: UserWarning: Distutils was imported before Setuptools, but importing Setuptools also replaces the `distutils` module in `sys.modules`. This may lead to undesirable behaviors or errors. To avoid these issues, avoid using distutils directly, ensure that setuptools is installed in the traditional way (e.g. not an editable install), and/or make sure that setuptools is always imported before distutils.\n",
      "  warnings.warn(\n",
      "/cvmfs/cms.cern.ch/slc7_amd64_gcc10/external/py3-setuptools/60.9.3-ddcab3b6a742c72fed5554de8ccaaf18/lib/python3.9/site-packages/_distutils_hack/__init__.py:30: UserWarning: Setuptools is replacing distutils.\n",
      "  warnings.warn(\"Setuptools is replacing distutils.\")\n",
      "Matplotlib is building the font cache; this may take a moment.\n"
     ]
    },
    {
     "name": "stdout",
     "output_type": "stream",
     "text": [
      "----------------------------\n",
      "MilliQan Scheduler:\n",
      "\t0. boardMatchCut\n",
      "\t1. pickupCut\n",
      "\t2. layerCut\n",
      "\t3. fourLayerCut\n",
      "\t4. straightLineCut\n",
      "\t5. firstChanPulse\n",
      "\t6. barCut\n",
      "----------------------------\n",
      "please be aware that plotter is not being used now\n",
      "Number of processed events 1000\n",
      "Number of events after cuts: 2\n"
     ]
    }
   ],
   "source": [
    "#importing packages\n",
    "import os\n",
    "import ROOT as r\n",
    "import uproot\n",
    "import hist\n",
    "import matplotlib.pyplot as plt\n",
    "import awkward as ak\n",
    "import numpy as np\n",
    "import pandas as pd\n",
    "import array as arr\n",
    "import sys\n",
    "sys.path.append('../utilities')\n",
    "from milliqanProcessor import *\n",
    "from milliqanScheduler import *\n",
    "from milliqanCuts import *\n",
    "from milliqanPlotter import *\n",
    "\n",
    "#define a file list to run over\n",
    "filelist = ['/mnt/hadoop/se/store/user/milliqan/trees/v34/1000/MilliQan_Run1006.4_v34.root:t']\n",
    "\n",
    "#define the necessary branches to run over\n",
    "branches = ['pickupFlag', 'boardsMatched', 'height', 'area', 'column', 'row', 'layer', 'chan', 'ipulse', 'type']\n",
    "\n",
    "#define the milliqan cuts object\n",
    "mycuts = milliqanCuts()\n",
    "\n",
    "#require pulses are not pickup\n",
    "pickupCut = mycuts.getCut(mycuts.pickupCut, 'pickupCut', cut=True, branches=branches)\n",
    "\n",
    "#require that all digitizer boards are matched\n",
    "boardMatchCut = mycuts.getCut(mycuts.boardsMatched, 'boardMatchCut', cut=True, branches=branches)\n",
    "\n",
    "#Add four layer cut\n",
    "fourLayerCut = mycuts.getCut(mycuts.fourLayerCut, 'fourLayerCut', cut=False)\n",
    "\n",
    "#defining the cutflow\n",
    "cutflow = [boardMatchCut, pickupCut, mycuts.layerCut, fourLayerCut, mycuts.straightLineCut, mycuts.firstChanPulse, mycuts.barCut]\n",
    "\n",
    "#create a schedule of the cuts\n",
    "myschedule = milliQanScheduler(cutflow, mycuts)\n",
    "\n",
    "#print out the schedule\n",
    "myschedule.printSchedule()\n",
    "\n",
    "#create the milliqan processor object\n",
    "myiterator = milliqanProcessor(filelist, branches, myschedule, mycuts)\n",
    "\n",
    "#run the milliqan processor\n",
    "myiterator.run()\n",
    "\n",
    "#check the number of events remaining\n",
    "num_events_after_cuts = len(mycuts.events[mycuts.events[\"straightLineCut\"]])\n",
    "print(f\"Number of events after cuts: {num_events_after_cuts}\")"
   ]
  },
  {
   "cell_type": "code",
   "execution_count": null,
   "id": "bc2b47a5-2c2b-4e03-9a52-18172f8bdbbe",
   "metadata": {},
   "outputs": [],
   "source": []
  },
  {
   "cell_type": "code",
   "execution_count": null,
   "id": "2baad518-4674-48f4-9133-7b90a7bd2907",
   "metadata": {},
   "outputs": [],
   "source": []
  }
 ],
 "metadata": {
  "kernelspec": {
   "display_name": "Python 3 (ipykernel)",
   "language": "python",
   "name": "python3"
  },
  "language_info": {
   "codemirror_mode": {
    "name": "ipython",
    "version": 3
   },
   "file_extension": ".py",
   "mimetype": "text/x-python",
   "name": "python",
   "nbconvert_exporter": "python",
   "pygments_lexer": "ipython3",
   "version": "3.9.6"
  }
 },
 "nbformat": 4,
 "nbformat_minor": 5
}
