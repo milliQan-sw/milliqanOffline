{
 "cells": [
  {
   "cell_type": "code",
   "execution_count": 1,
   "id": "34e8cb0e-3aec-4c8a-ad6c-44193e8b1bf8",
   "metadata": {},
   "outputs": [],
   "source": [
    "import os\n",
    "import sys\n",
    "sys.path.append(\"../utilities/\")\n",
    "\n",
    "import ROOT as r\n",
    "\n",
    "from milliqanProcessor import milliqanProcessor\n",
    "from milliqanScheduler import milliQanScheduler\n",
    "from milliqanPlotter import milliqanPlotter\n",
    "from milliqanCuts import milliqanCuts\n"
   ]
  },
  {
   "cell_type": "markdown",
   "id": "3e2a2767-a9ed-4e66-8274-8705e9f145a7",
   "metadata": {},
   "source": [
    "Setup file list and branches that processor should use"
   ]
  },
  {
   "cell_type": "code",
   "execution_count": 2,
   "id": "563884c4-4f8c-4ef7-93c4-d892309756a0",
   "metadata": {},
   "outputs": [],
   "source": [
    "file_list = [\"/home/ryan/Documents/Data/MilliQan/beam_muon_slabMilliQan_flat.root:t\"]\n",
    "branch_list = [\"layer\", \"row\", \"column\", \"nPE\"]"
   ]
  },
  {
   "cell_type": "markdown",
   "id": "a22890c5-1961-4ab9-ac60-0b78a4c99653",
   "metadata": {},
   "source": [
    "Setup Cuts"
   ]
  },
  {
   "cell_type": "code",
   "execution_count": 3,
   "id": "d5c86324-8388-4c55-80fc-ad8807078532",
   "metadata": {},
   "outputs": [],
   "source": [
    "my_cuts = milliqanCuts()\n",
    "four_layer_cut = my_cuts.getCut(my_cuts.fourLayerCut, 'four_layer_cut', cut=True)"
   ]
  },
  {
   "cell_type": "markdown",
   "id": "ca6fd9cb-ca7f-4905-b113-bf0244056830",
   "metadata": {},
   "source": [
    "Setup Plotter"
   ]
  },
  {
   "cell_type": "code",
   "execution_count": 4,
   "id": "4c93841e-f2ee-4295-9b7b-411bbe227d5a",
   "metadata": {},
   "outputs": [],
   "source": [
    "my_plotter = milliqanPlotter()\n",
    "h_npe = r.TH1F(\"h_npe\", \"npe\", 140, 0, 1500)\n",
    "my_plotter.addHistograms(h_npe, 'nPE')\n"
   ]
  },
  {
   "cell_type": "markdown",
   "id": "9e21721f-a42e-4197-8052-8eca51fbbeff",
   "metadata": {},
   "source": [
    "Setup Scheduler"
   ]
  },
  {
   "cell_type": "code",
   "execution_count": 5,
   "id": "96608de2-d48c-4d51-b565-c39760edc7a0",
   "metadata": {},
   "outputs": [],
   "source": [
    "cutflow = [my_plotter.dict[\"h_npe\"], my_cuts.fourLayerCut, my_plotter.dict[\"h_npe\"]]\n",
    "my_schedule = milliQanScheduler(cutflow, my_cuts, my_plotter)"
   ]
  },
  {
   "cell_type": "markdown",
   "id": "e3098aca-6c11-4bb8-8a5f-0a6d109ffb28",
   "metadata": {},
   "source": [
    "Setup Processor"
   ]
  },
  {
   "cell_type": "code",
   "execution_count": 6,
   "id": "6d275d70-93c5-4c2a-833a-31e4f7b7ad7f",
   "metadata": {
    "collapsed": true,
    "jupyter": {
     "outputs_hidden": true
    },
    "scrolled": true
   },
   "outputs": [
    {
     "name": "stdout",
     "output_type": "stream",
     "text": [
      "Fields ['layer', 'row', 'column', 'nPE']\n",
      "Fields ['layer', 'row', 'column', 'nPE', 'fourLayerCut']\n",
      "Fields ['layer', 'row', 'column', 'nPE']\n",
      "Fields ['layer', 'row', 'column', 'nPE', 'fourLayerCut']\n",
      "Fields ['layer', 'row', 'column', 'nPE']\n",
      "Fields ['layer', 'row', 'column', 'nPE', 'fourLayerCut']\n",
      "Fields ['layer', 'row', 'column', 'nPE']\n",
      "Fields ['layer', 'row', 'column', 'nPE', 'fourLayerCut']\n",
      "Fields ['layer', 'row', 'column', 'nPE']\n",
      "Fields ['layer', 'row', 'column', 'nPE', 'fourLayerCut']\n",
      "Fields ['layer', 'row', 'column', 'nPE']\n",
      "Fields ['layer', 'row', 'column', 'nPE', 'fourLayerCut']\n",
      "Fields ['layer', 'row', 'column', 'nPE']\n",
      "Fields ['layer', 'row', 'column', 'nPE', 'fourLayerCut']\n",
      "Fields ['layer', 'row', 'column', 'nPE']\n",
      "Fields ['layer', 'row', 'column', 'nPE', 'fourLayerCut']\n",
      "Fields ['layer', 'row', 'column', 'nPE']\n",
      "Fields ['layer', 'row', 'column', 'nPE', 'fourLayerCut']\n",
      "Fields ['layer', 'row', 'column', 'nPE']\n",
      "Fields ['layer', 'row', 'column', 'nPE', 'fourLayerCut']\n",
      "Fields ['layer', 'row', 'column', 'nPE']\n",
      "Fields ['layer', 'row', 'column', 'nPE', 'fourLayerCut']\n",
      "Fields ['layer', 'row', 'column', 'nPE']\n",
      "Fields ['layer', 'row', 'column', 'nPE', 'fourLayerCut']\n",
      "Fields ['layer', 'row', 'column', 'nPE']\n",
      "Fields ['layer', 'row', 'column', 'nPE', 'fourLayerCut']\n",
      "Fields ['layer', 'row', 'column', 'nPE']\n",
      "Fields ['layer', 'row', 'column', 'nPE', 'fourLayerCut']\n",
      "Fields ['layer', 'row', 'column', 'nPE']\n",
      "Fields ['layer', 'row', 'column', 'nPE', 'fourLayerCut']\n",
      "Fields ['layer', 'row', 'column', 'nPE']\n",
      "Fields ['layer', 'row', 'column', 'nPE', 'fourLayerCut']\n",
      "Fields ['layer', 'row', 'column', 'nPE']\n",
      "Fields ['layer', 'row', 'column', 'nPE', 'fourLayerCut']\n",
      "Fields ['layer', 'row', 'column', 'nPE']\n",
      "Fields ['layer', 'row', 'column', 'nPE', 'fourLayerCut']\n",
      "Fields ['layer', 'row', 'column', 'nPE']\n",
      "Fields ['layer', 'row', 'column', 'nPE', 'fourLayerCut']\n",
      "Fields ['layer', 'row', 'column', 'nPE']\n",
      "Fields ['layer', 'row', 'column', 'nPE', 'fourLayerCut']\n",
      "Fields ['layer', 'row', 'column', 'nPE']\n",
      "Fields ['layer', 'row', 'column', 'nPE', 'fourLayerCut']\n",
      "Fields ['layer', 'row', 'column', 'nPE']\n",
      "Fields ['layer', 'row', 'column', 'nPE', 'fourLayerCut']\n",
      "Fields ['layer', 'row', 'column', 'nPE']\n",
      "Fields ['layer', 'row', 'column', 'nPE', 'fourLayerCut']\n",
      "Fields ['layer', 'row', 'column', 'nPE']\n",
      "Fields ['layer', 'row', 'column', 'nPE', 'fourLayerCut']\n",
      "Fields ['layer', 'row', 'column', 'nPE']\n",
      "Fields ['layer', 'row', 'column', 'nPE', 'fourLayerCut']\n",
      "Fields ['layer', 'row', 'column', 'nPE']\n",
      "Fields ['layer', 'row', 'column', 'nPE', 'fourLayerCut']\n",
      "Fields ['layer', 'row', 'column', 'nPE']\n",
      "Fields ['layer', 'row', 'column', 'nPE', 'fourLayerCut']\n",
      "Fields ['layer', 'row', 'column', 'nPE']\n",
      "Fields ['layer', 'row', 'column', 'nPE', 'fourLayerCut']\n",
      "Fields ['layer', 'row', 'column', 'nPE']\n",
      "Fields ['layer', 'row', 'column', 'nPE', 'fourLayerCut']\n",
      "Fields ['layer', 'row', 'column', 'nPE']\n",
      "Fields ['layer', 'row', 'column', 'nPE', 'fourLayerCut']\n",
      "Fields ['layer', 'row', 'column', 'nPE']\n",
      "Fields ['layer', 'row', 'column', 'nPE', 'fourLayerCut']\n",
      "Fields ['layer', 'row', 'column', 'nPE']\n",
      "Fields ['layer', 'row', 'column', 'nPE', 'fourLayerCut']\n",
      "Fields ['layer', 'row', 'column', 'nPE']\n",
      "Fields ['layer', 'row', 'column', 'nPE', 'fourLayerCut']\n",
      "Number of events 32126\n"
     ]
    }
   ],
   "source": [
    "my_processor = milliqanProcessor(file_list, branch_list, my_schedule, my_cuts, my_plotter)\n",
    "my_processor.run()"
   ]
  },
  {
   "cell_type": "code",
   "execution_count": 7,
   "id": "6670bfaf-e82b-40eb-8dc3-3517e27f74d4",
   "metadata": {},
   "outputs": [
    {
     "data": {
      "image/png": "[encoded data removed]",
      "text/plain": [
       "<IPython.core.display.Image object>"
      ]
     },
     "metadata": {},
     "output_type": "display_data"
    }
   ],
   "source": [
    "c1 = r.TCanvas(\"c1\", \"c1\", 400, 400)\n",
    "c1.cd()\n",
    "h_npe.Draw()\n",
    "c1.Draw()"
   ]
  }
 ],
 "metadata": {
  "kernelspec": {
   "display_name": "Python 3 (ipykernel)",
   "language": "python",
   "name": "python3"
  },
  "language_info": {
   "codemirror_mode": {
    "name": "ipython",
    "version": 3
   },
   "file_extension": ".py",
   "mimetype": "text/x-python",
   "name": "python",
   "nbconvert_exporter": "python",
   "pygments_lexer": "ipython3",
   "version": "3.12.4"
  }
 },
 "nbformat": 4,
 "nbformat_minor": 5
}
