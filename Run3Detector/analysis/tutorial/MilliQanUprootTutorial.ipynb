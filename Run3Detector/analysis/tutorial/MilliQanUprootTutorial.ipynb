{
 "cells": [
  {
   "cell_type": "markdown",
   "metadata": {
    "id": "8LQrQmeudVkb"
   },
   "source": [
    "<h1 align=center> MilliQan Uproot Tutorial</h1>\n",
    "\n",
    "This jupyter notebook was developed for the 6th MilliQan conference as a tutorial for using the MilliQan data and analysis framework. The framework has been built using the uproot package. Uproot allows root files to be read in as either awkward arrays, numpy arrays, or pandas dataframes. This facilitates faster columnar analysis on the data.\n",
    "\n",
    "For more information on uproot see the documentation and a tutorials given by J Pivarski and Mason Proffitt below.\n",
    "\n",
    "[1] https://uproot.readthedocs.io/en/latest/ <br>\n",
    "[2] https://github.com/jpivarski-talks/2021-06-14-uproot-awkward-columnar-hats/blob/main/2-uproot.ipynb <br>\n",
    "[3] https://masonproffitt.github.io/uproot-tutorial/aio/index.html\n",
    "\n",
    "For more information on awkward arrays see the awkward array documentation and tutorial by J Pivarski below.\n",
    "\n",
    "[1] https://awkward-array.org/doc/main/user-guide/index.html <br>\n",
    "[2] https://github.com/jpivarski-talks/2021-06-14-uproot-awkward-columnar-hats/blob/main/3-awkward-array.ipynb\n"
   ]
  },
  {
   "cell_type": "markdown",
   "metadata": {
    "id": "p48Sn6eFdVkc"
   },
   "source": [
    "## Useful Documents\n",
    "\n",
    "### Channel Mapping\n",
    "<img src=\"https://github.com/carriganm95/milliqanOffline/blob/tutorial/Run3Detector/analysis/tutorial/channelMapping.png?raw=1\" alt=\"Alternative text\" />\n",
    "\n",
    "### Offline Branches: \n",
    "https://docs.google.com/document/d/1W-IhqTyuc8L9usIJ3deU526K9qoin0g4_5Q0Zc0dv5Q/edit "
   ]
  },
  {
   "cell_type": "markdown",
   "metadata": {
    "id": "l1a-Jum5dVkd"
   },
   "source": [
    "## Importing Packages\n",
    "\n",
    "The first step will be to import all packages we need. The root and uproot packages are both necessary for our purposes. These need to be installed into this workspace.\n",
    "\n",
    "To load our files with uproot we also need at least one of awkward, numpy, or pandas. We can easily switch between these different formats and use different packages for different tasks.\n",
    "\n",
    "We will also import the hist and matplotlib.pyplot packages to make histograms.\n",
    "\n",
    "Finally we will use the array package to allow us to fill root histograms."
   ]
  },
  {
   "cell_type": "code",
   "execution_count": null,
   "metadata": {
    "colab": {
     "base_uri": "https://localhost:8080/"
    },
    "id": "tMisiG9FjRai",
    "outputId": "069afac2-c5c5-4775-fbd2-1a3e8b6c37b9"
   },
   "outputs": [],
   "source": [
    "import os\n",
    "if not os.path.exists('root_v6.30.02.Linux-ubuntu22.04-x86_64-gcc11.4.tar.gz'):\n",
    "  !wget https://root.cern/download/root_v6.30.02.Linux-ubuntu22.04-x86_64-gcc11.4.tar.gz\n",
    "if not os.path.exists('root/bin/thisroot.sh'):\n",
    "  !tar -xzvf root_v6.30.02.Linux-ubuntu22.04-x86_64-gcc11.4.tar.gz\n",
    "!source root/bin/thisroot.sh\n",
    "!pip install uproot\n",
    "!pip install hist"
   ]
  },
  {
   "cell_type": "code",
   "execution_count": null,
   "metadata": {
    "id": "2vdjJ8j9dVkd"
   },
   "outputs": [],
   "source": [
    "import sys\n",
    "sys.path.append(\"/content/root/lib\")\n",
    "\n",
    "import ROOT as r\n",
    "import uproot\n",
    "\n",
    "import hist\n",
    "import matplotlib.pyplot as plt\n",
    "\n",
    "import awkward as ak\n",
    "import numpy as np\n",
    "import pandas as pd\n",
    "\n",
    "import array as arr"
   ]
  },
  {
   "cell_type": "markdown",
   "metadata": {
    "id": "9JSIGxcidVke"
   },
   "source": [
    "## Opening File with Uproot\n",
    "\n",
    "First we need to download our root file, we will use run 1190 which contains beam-on data. Then we can open our root file and load in the correct tree the same way we do with traditional root."
   ]
  },
  {
   "cell_type": "code",
   "execution_count": null,
   "metadata": {
    "colab": {
     "base_uri": "https://localhost:8080/"
    },
    "id": "m1Kq9n_mdVke",
    "outputId": "14a80977-558c-4886-d50f-3177c2741ae2"
   },
   "outputs": [],
   "source": [
    "if not os.path.isfile('MilliQan_Run1190_v34.root'):\n",
    "    print(\"Downloading our example file...\")\n",
    "    filePath = 'https://cernbox.cern.ch/s/7aVy5emV9tivPrl/download'\n",
    "    os.system(\"wget -O $PWD/MilliQan_Run1190_v34.root {0} \".format(filePath))\n",
    "else:\n",
    "    print(\"We already have our file!\")\n"
   ]
  },
  {
   "cell_type": "code",
   "execution_count": null,
   "metadata": {
    "colab": {
     "base_uri": "https://localhost:8080/"
    },
    "id": "4yvRbuiAdVke",
    "outputId": "d2b6b8cb-1f2c-4863-82e0-58f4218e5bb8"
   },
   "outputs": [],
   "source": [
    "upfile = uproot.open(\"MilliQan_Run1190_v34.root\") #load the root file\n",
    "uptree = upfile[\"t\"] #open the tree \"t\"\n",
    "uptree.show() #print out all branches"
   ]
  },
  {
   "cell_type": "markdown",
   "metadata": {
    "id": "t6nwBnX_dVke"
   },
   "source": [
    "Note that in the above print out showing our root file there is also a list of types. There are some types that are vectors and others that are not. For most python dataframes this would cause an issue (numpy, pandas), however the awkward array package was designed to solve this issue. In the same event we can have arrays of different sizes saved."
   ]
  },
  {
   "cell_type": "code",
   "execution_count": null,
   "metadata": {
    "id": "55MP0yMJdVke"
   },
   "outputs": [],
   "source": [
    "#Optionally we can load in the tree at the same time we load the file by appending \":\\<treename>\\\" to the end of the file\n",
    "\n",
    "uptree = uproot.open(\"MilliQan_Run1190_v34.root:t\")"
   ]
  },
  {
   "cell_type": "markdown",
   "metadata": {
    "id": "Gen6pCbFdVke"
   },
   "source": [
    "There are some other useful functions for looking at the contents of our tree."
   ]
  },
  {
   "cell_type": "code",
   "execution_count": null,
   "metadata": {
    "id": "o_XRUjGNdVke",
    "outputId": "a0d58fe1-cd0a-4216-eb1a-954fecfe4063"
   },
   "outputs": [],
   "source": [
    "uptree.keys() #print the branches"
   ]
  },
  {
   "cell_type": "code",
   "execution_count": null,
   "metadata": {
    "id": "A_GQCuxNdVkf",
    "outputId": "cad71c9c-a1c9-48e7-cd3a-121d7856e895"
   },
   "outputs": [],
   "source": [
    "uptree.typenames() #print branches and type"
   ]
  },
  {
   "cell_type": "markdown",
   "metadata": {
    "id": "kwh_itNDdVkf"
   },
   "source": [
    "### Selecting Branches\n",
    "\n",
    "We can also select specific branches by using the arrays method of uproot. Note that in the below example we can also create a cut, set the library to use, and determine how many events to load.\n",
    "\n",
    "library = data format to load branches into. Options are awkward (ak, default), pandas (pd), and numpy (np). <br>\n",
    "cut = string making a cut on the data, cut is applied at this time <br>\n",
    "entry_stop = sets the number of events to load <br>"
   ]
  },
  {
   "cell_type": "code",
   "execution_count": null,
   "metadata": {
    "id": "sTPRl0g0dVkf",
    "outputId": "814aa3ad-d60a-4132-d216-a7f62a45ef73"
   },
   "outputs": [],
   "source": [
    "#using numpy\n",
    "\n",
    "branches = uptree.arrays([\"height\", \"area\"], library=\"np\", entry_stop=1) #note that making a cut here cannot be done\n",
    "branches #print numpy array"
   ]
  },
  {
   "cell_type": "code",
   "execution_count": null,
   "metadata": {
    "id": "i9iAMioZdVkf",
    "outputId": "9dccd01f-c273-4511-b5ab-fc2c4d3532ed"
   },
   "outputs": [],
   "source": [
    "#using pandas\n",
    "\n",
    "branches = uptree.arrays([\"height\", \"area\"], library=\"pd\", entry_stop=10) #note that making a cut here cannot be done\n",
    "branches #print pandas dataframe"
   ]
  },
  {
   "cell_type": "code",
   "execution_count": null,
   "metadata": {
    "id": "PVzr4U6rdVkf",
    "outputId": "325fc7db-3c2f-4427-82f8-f4e71b06797f"
   },
   "outputs": [],
   "source": [
    "#using awkward\n",
    "\n",
    "branches = uptree.arrays([\"height\", \"area\"], cut=\"height >= 500\", entry_stop=100000)\n",
    "branches[:10] #print first 10 events"
   ]
  },
  {
   "cell_type": "markdown",
   "metadata": {
    "id": "7orQoebIdVkf"
   },
   "source": [
    "We can also make more cuts by defining a cut and then applying it to our branches. The cut will be arrays of booleans for each pulse that we can then apply to our data to \"make the cut\"."
   ]
  },
  {
   "cell_type": "code",
   "execution_count": null,
   "metadata": {
    "id": "qWN65RkTdVkf",
    "outputId": "3adef060-b3d6-4a85-f69c-231307749e92"
   },
   "outputs": [],
   "source": [
    "area_cut = branches['area'] >= 500 #cut requires area >= 500 pulse by pulse\n",
    "height_cut = branches['height'] >= 700 #cut requires height >= 700 pulse by pulse\n",
    "area_cut #print the area cut"
   ]
  },
  {
   "cell_type": "code",
   "execution_count": null,
   "metadata": {
    "id": "WpVI-1JudVkf",
    "outputId": "6ba77d6e-bb2d-435f-a4c2-2d33cae51288"
   },
   "outputs": [],
   "source": [
    "branches_cut = branches[area_cut] #here we make the cut by saving only those pulses that have a True value for the cut\n",
    "branches_cut #print"
   ]
  },
  {
   "cell_type": "markdown",
   "metadata": {
    "id": "xT0rg-_-dVkf"
   },
   "source": [
    "We can make a quick plot of this data by using the hist package. First we need to define our histogram (bins, start, stop) the same as in root. Then we need to fill the histogram with a flattened awkward array."
   ]
  },
  {
   "cell_type": "code",
   "execution_count": null,
   "metadata": {
    "id": "5ZnWA7s2dVkh",
    "outputId": "ac0b23e3-3603-40f7-9e50-b93eab981191"
   },
   "outputs": [],
   "source": [
    "h1 = hist.Hist.new.Reg(1000, 0, 200000, name=\"Area\").Double()\n",
    "h1.fill(ak.flatten(branches_cut['area']))"
   ]
  },
  {
   "cell_type": "code",
   "execution_count": null,
   "metadata": {
    "id": "7eSqyDl-dVkh",
    "outputId": "3f282752-3f08-4338-d11d-671e2aa9274c"
   },
   "outputs": [],
   "source": [
    "branches_cut = branches[area_cut & height_cut] #here we apply both the area and height cuts with & (can also use either with |, and not with ~)\n",
    "branches_cut #print"
   ]
  },
  {
   "cell_type": "code",
   "execution_count": null,
   "metadata": {
    "id": "VbGY0VuJdVkh",
    "outputId": "5eccb67e-0e87-4b85-a371-d69ffee029f4"
   },
   "outputs": [],
   "source": [
    "h1 = hist.Hist.new.Reg(1000, 0, 200000, name=\"Area\").Double()\n",
    "h1.fill(ak.flatten(branches_cut['area']))"
   ]
  },
  {
   "cell_type": "markdown",
   "metadata": {
    "id": "6tm3TGtTdVkh"
   },
   "source": [
    "## Plotting\n",
    "\n",
    "### Hist Package\n",
    "\n",
    "The hist package is designed to quickly make plots in jupyter notebooks."
   ]
  },
  {
   "cell_type": "code",
   "execution_count": null,
   "metadata": {
    "id": "SGdXntdHdVkh",
    "outputId": "6663a967-0e65-42d3-f308-8b5bc2ebcd3d"
   },
   "outputs": [],
   "source": [
    "#Define a histogram\n",
    "h1 = hist.Hist.new.Reg(130, 0, 1300, name=\"Height\").Double()\n",
    "h1.fill(ak.flatten(branches['height']))"
   ]
  },
  {
   "cell_type": "markdown",
   "metadata": {
    "id": "EJGztqYcdVki"
   },
   "source": [
    "### MatPlotlib\n",
    "\n",
    "We can also use matplotlib plots to take advantage of python tools for plotting."
   ]
  },
  {
   "cell_type": "code",
   "execution_count": null,
   "metadata": {
    "id": "xrocC7D2dVki",
    "outputId": "fc61a22f-fb27-46cb-9375-635530001d13"
   },
   "outputs": [],
   "source": [
    "plt.hist(ak.flatten(branches['height']), bins=140, range=(0, 1400))\n",
    "plt.show()"
   ]
  },
  {
   "cell_type": "markdown",
   "metadata": {
    "id": "aBKL4TlFdVki"
   },
   "source": [
    "### Root Histograms\n",
    "\n",
    "Finally we can still use root histograms by converting our entries to array objects. This method of plotting is a bit slow but allows us to use the traditional root tools and save our histograms to root files."
   ]
  },
  {
   "cell_type": "code",
   "execution_count": null,
   "metadata": {
    "id": "ge1QqYQ_dVki",
    "outputId": "b3998f53-90a9-44f7-f427-fcd36b70556c"
   },
   "outputs": [],
   "source": [
    "#define root histogram\n",
    "h_height = r.TH1F(\"h_height\", \"Height\", 140, 0, 1400)\n",
    "\n",
    "#create array from awkward array\n",
    "heights = arr.array('d', ak.flatten(branches['height']))\n",
    "\n",
    "#fill the histogram\n",
    "#inputs are number of entries, values, and weights\n",
    "h_height.FillN(len(heights), heights, np.ones(len(heights)))\n",
    "\n",
    "#create a TCanvas to draw on\n",
    "c1 = r.TCanvas(\"c1\", \"c1\", 500, 400)\n",
    "\n",
    "c1.cd()\n",
    "h_height.Draw()\n",
    "c1.Draw()"
   ]
  },
  {
   "cell_type": "markdown",
   "metadata": {
    "id": "ZMjPrRQNdVki"
   },
   "source": [
    "## Iterating Over Multiple Files\n",
    "\n",
    "The equivalent of TChains is running with uproot iterate. This is what most of the analysis framework is based on."
   ]
  },
  {
   "cell_type": "code",
   "execution_count": null,
   "metadata": {
    "id": "5C03dchTdVki",
    "outputId": "27ea1f57-3342-4d0a-bc06-9f9b9baa1a9d"
   },
   "outputs": [],
   "source": [
    "#define total events\n",
    "totalEvents = 0 #count total events\n",
    "passingEvents = 0 #count events passing cuts\n",
    "\n",
    "#define histograms\n",
    "h_npulses = r.TH1F(\"h_npulses\", \"Number of Pulses\", 50, 0, 50)\n",
    "h_npulsesCut = r.TH1F(\"h_npulsesCut\", \"Number of Pulses After Cuts\", 50, 0, 50)\n",
    "\n",
    "#define TCanvas for plotting\n",
    "c = r.TCanvas(\"c1\", \"c1\", 1000, 800)\n",
    "\n",
    "#use the uproot iterate method to loop over all files in our filelist\n",
    "#https://uproot.readthedocs.io/en/latest/uproot.behaviors.TBranch.iterate.html\n",
    "for events in uproot.iterate(\n",
    "\n",
    "        #list of files to run over\n",
    "        [\"MilliQan_Run1190_v34.root\"],\n",
    "\n",
    "        #branches defined above\n",
    "        [\"area\", \"height\", \"npulses\", \"chan\", \"type\"],\n",
    "\n",
    "        #if we want to make a cut we can define it here\n",
    "        #note cannot do this with jagged array (ex event and pulse level quantities)\n",
    "        cut=\"height>=0\",\n",
    "\n",
    "        #library used to load data\n",
    "        #default is awkward array (ak), can also use pandas (pd) or numpy (np)\n",
    "        library = 'ak',\n",
    "\n",
    "        #number of events or size per batch\n",
    "        step_size=1000,\n",
    "\n",
    "        #number of processors\n",
    "        num_workers=8\n",
    "\n",
    "    ):\n",
    "\n",
    "        totalEvents += len(events)\n",
    "\n",
    "        #next we can make some cuts on the data\n",
    "        #ex veto events with hits in top panels\n",
    "        panel_cut1 = ak.any(events[:, 'chan'] == 68, axis=1) #check if any pulse in event is channel 68 (front top), axis=1 to check for any in event\n",
    "        panel_cut2 = ak.any(events[:, 'chan'] == 69, axis=1) #back top panel\n",
    "\n",
    "        passing = events[~panel_cut1 & ~panel_cut2]\n",
    "        passingEvents += len(passing)\n",
    "\n",
    "        npulses_pre = ak.count(events['npulses'], axis=1) #count number of pulses in events, note cannot use npulses because some events have empty arrays due to cuts\n",
    "        npulses_post = ak.count(passing['npulses'], axis=1) #count number of pulses after panel cut\n",
    "\n",
    "        #turn awkward arrays into arrays\n",
    "        npulses_pre = arr.array('d', npulses_pre.to_list())\n",
    "        npulses_post = arr.array('d', npulses_post.to_list())\n",
    "\n",
    "        #fill histograms\n",
    "        if len(npulses_pre) > 0: h_npulses.FillN(len(npulses_pre), npulses_pre, np.ones(len(npulses_pre)))\n",
    "        if len(npulses_post) > 0: h_npulsesCut.FillN(len(npulses_post), npulses_post, np.ones(len(npulses_post)))\n",
    "\n",
    "print(\"{0} events passing cuts out of {1} total\".format(passingEvents, totalEvents))\n",
    "\n",
    "\n"
   ]
  },
  {
   "cell_type": "markdown",
   "metadata": {
    "id": "4R4H7eAqdVki"
   },
   "source": [
    "Make plot showing the number of pulses before and after cutting on top pannels."
   ]
  },
  {
   "cell_type": "code",
   "execution_count": null,
   "metadata": {
    "id": "1YV35NtcdVki",
    "outputId": "62f6ece1-43f2-4d28-eeac-fdd91af78e98"
   },
   "outputs": [],
   "source": [
    "c.cd()\n",
    "\n",
    "r.gStyle.SetOptStat(0000) #remove stats box\n",
    "\n",
    "h_npulses.GetYaxis().SetTitle(\"Number of Events\")\n",
    "h_npulses.GetXaxis().SetTitle(\"Number of Pulses\")\n",
    "h_npulses.SetFillColorAlpha(4, 0.3)\n",
    "h_npulses.Draw()\n",
    "h_npulsesCut.SetLineColor(2)\n",
    "h_npulsesCut.SetFillColorAlpha(2, 0.3)\n",
    "h_npulsesCut.Draw(\"same\")\n",
    "\n",
    "l1 = r.TLegend(0.5, 0.6, 0.8, 0.7)\n",
    "l1.AddEntry(h_npulses)\n",
    "l1.AddEntry(h_npulsesCut)\n",
    "l1.Draw()\n",
    "\n",
    "c.Draw()"
   ]
  },
  {
   "cell_type": "markdown",
   "metadata": {
    "id": "8O0biAEXdVki"
   },
   "source": [
    "## MilliQan Processor"
   ]
  },
  {
   "cell_type": "markdown",
   "metadata": {},
   "source": [
    "To simplify the offline analysis we have designed some tools to work with our data and the uproot packages. The purpose is to centralize the code we use so that we can develop and use the same tools.\n",
    "\n",
    "We will need to load in the necessary packages from the analysis/utilities/ directory in order to take full advantage of the milliqan analysis framework. The tools we will use are \n",
    "\n",
    "milliqanProcessor: Essentially a wrapper for uproot iterate method. Runs over the given files list and applies all cuts, makes plots, and runs custom functions.\n",
    "\n",
    "milliqanScheduler: Creates schedule of cuts and plots to apply in the processor.\n",
    "\n",
    "milliqanCuts: Class defining generic cuts, centralize how we define our cuts. \n",
    "\n",
    "milliqanPlotter: Class for defining plots."
   ]
  },
  {
   "cell_type": "code",
   "execution_count": null,
   "metadata": {
    "id": "6MhP5vhkdVki"
   },
   "outputs": [],
   "source": [
    "import os\n",
    "import sys\n",
    "sys.path.append(os.getcwd() + '/../utilities/')\n",
    "from milliqanProcessor import *\n",
    "from milliqanScheduler import *\n",
    "from milliqanCuts import *\n",
    "from milliqanPlotter import *\n",
    "\n",
    "%jsroot on\n",
    "\n",
    "%load_ext autoreload\n",
    "%autoreload 2"
   ]
  },
  {
   "cell_type": "markdown",
   "metadata": {},
   "source": [
    "Similar to in uproot iterate we need to define a filelist that we want to run over and define the branches that we require to do our analysis."
   ]
  },
  {
   "cell_type": "code",
   "execution_count": null,
   "metadata": {},
   "outputs": [],
   "source": [
    "#define a file list to run over\n",
    "filelist = ['MilliQan_Run1190_v34.root:t']\n",
    "\n",
    "#define the necessary branches to run over\n",
    "branches = ['boardsMatched', 'time_module_calibrated', 'height', 'area', 'column', 'row', 'layer']"
   ]
  },
  {
   "cell_type": "markdown",
   "metadata": {},
   "source": [
    "Next we want to define our cuts object and add all of the cuts we want to make for our analysis. \n",
    "\n",
    "The cuts can either come directly from the milliqanCuts class or they can be modifications of those functions using the \"getCut\" method. This method creates a lambda function of the existing cuts but allows us to change variables in the existing functions.\n",
    "\n",
    "Inputs for getCut are: <br>\n",
    "\n",
    "1. original cut function <br>\n",
    "2. name for the new branch <br>\n",
    "3. cut value(s) <br>\n",
    "    "
   ]
  },
  {
   "cell_type": "code",
   "execution_count": null,
   "metadata": {},
   "outputs": [],
   "source": [
    "#define the milliqan cuts object\n",
    "mycuts = milliqanCuts()\n",
    "\n",
    "#example of changing cut value\n",
    "heightCut200 = mycuts.getCut(mycuts.heightCut, 'heightCut200', cut=500)\n",
    "\n",
    "#example of cutting on events\n",
    "fourLayerCut = mycuts.getCut(mycuts.fourLayerCut, 'fourLayerCut', cut=False)"
   ]
  },
  {
   "cell_type": "markdown",
   "metadata": {},
   "source": [
    "It is also possible to create a cut that combined multiple other cuts using the combineCuts function as the original cut function. When using this option the third argument is a list of the branches to combine."
   ]
  },
  {
   "cell_type": "code",
   "execution_count": null,
   "metadata": {},
   "outputs": [],
   "source": [
    "#example of creating a combined cut\n",
    "eventCuts = mycuts.getCut(mycuts.combineCuts, 'eventCuts', ['fourLayerCut', 'straightLineCut', 'heightCut200'])"
   ]
  },
  {
   "cell_type": "markdown",
   "metadata": {},
   "source": [
    "Now we can define the plots to make.\n",
    "\n",
    "First we define the milliqanPlotter object that will be passed to the milliqanProcessor.\n",
    "\n",
    "Next we need to define the root histograms that we want to be created.\n",
    "\n",
    "Finally we need to add the histogram to our plotter using the addHistograms function. This functions takes as inputs <br>\n",
    "\n",
    "1. the root histogram <br>\n",
    "2. the branch to be plotted <br>\n",
    "3. any cuts to be applied before plotting (optional) <br>"
   ]
  },
  {
   "cell_type": "code",
   "execution_count": null,
   "metadata": {},
   "outputs": [],
   "source": [
    "#define milliqan plotter\n",
    "myplotter = milliqanPlotter()\n",
    "\n",
    "#create root histogram \n",
    "h_height = r.TH1F(\"h_height\", \"Height\", 140, 0, 1400)\n",
    "\n",
    "#add root histogram to plotter\n",
    "myplotter.addHistograms(h_height, 'height', 'eventCuts')"
   ]
  },
  {
   "cell_type": "markdown",
   "metadata": {},
   "source": [
    "We can now define the order that we would like to create our cuts and plots. We do this by defining a list of both cuts and plots. \n",
    "\n",
    "Then we can create a milliQanScheduler object and pass our cutflow to the scheduler.\n",
    "\n",
    "If we want to inspect our schedule we can also print it out."
   ]
  },
  {
   "cell_type": "code",
   "execution_count": null,
   "metadata": {},
   "outputs": [],
   "source": [
    "#defining the cutflow\n",
    "cutflow = [mycuts.layerCut, mycuts.fourLayerCut, mycuts.straightLineCut, heightCut200, eventCuts, myplotter.dict['h_height']]\n",
    "\n",
    "#create a schedule of the cuts\n",
    "myschedule = milliQanScheduler(cutflow, mycuts, myplotter)\n",
    "\n",
    "#print out the schedule\n",
    "myschedule.printSchedule()"
   ]
  },
  {
   "cell_type": "markdown",
   "metadata": {},
   "source": [
    "Finally we can define our milliqanProcessor object!\n",
    "\n",
    " We need to pass this object:\n",
    " 1. List of files to run over\n",
    " 2. List of necessary input branches from root files\n",
    " 3. The schedule we created\n",
    " 4. The cut object we created\n",
    " 5. The plotter object we created\n",
    " \n",
    " Optionally we can also pass: <br>\n",
    " 1. max events to run over"
   ]
  },
  {
   "cell_type": "code",
   "execution_count": null,
   "metadata": {},
   "outputs": [],
   "source": [
    "#create the milliqan processor object\n",
    "myiterator = milliqanProcessor(filelist, branches, myschedule, mycuts, myplotter, max_events=1000)"
   ]
  },
  {
   "cell_type": "markdown",
   "metadata": {},
   "source": [
    "We can now also optionally set a \"custom function\" that will be run inside the iterate loop. This is useful because it gives us access to the iterate method without changing the milliqanProcessor."
   ]
  },
  {
   "cell_type": "code",
   "execution_count": null,
   "metadata": {},
   "outputs": [],
   "source": [
    "#set custom functions inside iterator if desired\n",
    "#myiterator.setCustomFunction(getMaxPulseTime)"
   ]
  },
  {
   "cell_type": "markdown",
   "metadata": {},
   "source": [
    "The last step is to run the processor!"
   ]
  },
  {
   "cell_type": "code",
   "execution_count": null,
   "metadata": {},
   "outputs": [],
   "source": [
    "#run the milliqan processor\n",
    "myiterator.run()"
   ]
  },
  {
   "cell_type": "markdown",
   "metadata": {},
   "source": [
    "We can now plot the histograms that we created"
   ]
  },
  {
   "cell_type": "code",
   "execution_count": null,
   "metadata": {},
   "outputs": [],
   "source": [
    "c1 = r.TCanvas(\"c1\", \"c1\", 400, 400)\n",
    "c1.cd()\n",
    "h_height.Draw()\n",
    "c1.Draw()"
   ]
  },
  {
   "cell_type": "markdown",
   "metadata": {},
   "source": [
    "## Example Analysis: Finding Beam Muons\n",
    "\n",
    "As an example analysis we will try to look for beam muons by comparing one run with beam on vs another with beam off. Some initial criteria we need to consider for this is\n",
    "\n",
    "### Event and Pulse Cuts:\n",
    "1. Boards Matched: Require that all digitizer boards are matched in the event\n",
    "2. Pickup Flag: Only use pulses passing the pickup flag cut\n",
    "\n",
    "### Branches \n",
    "1. 4 layers hit: we want there to be hits in all four layers of the detector\n",
    "2. Straight pulse path: we want to have pulses in a straight line path through the detector\n",
    "3. Channel pulse selection: there can be multiple pulses in a given channel. We need to decide which to use\n",
    "4. Bar hits: require all hits that we look at are in bars"
   ]
  },
  {
   "cell_type": "markdown",
   "metadata": {},
   "source": [
    "We also want to define a new cut function to create a branch for the things we want to plot. Here we want to recreate the plot made in the run 2 milliQan analysis looking at cosmic vs beam muon times between layers 1 and 3 (see below). Therefore we will create a function that calculates the times between pulses in different layers.\n",
    "\n",
    "<img src=\"https://github.com/carriganm95/milliqanOffline/blob/updateProcessor/Run3Detector/analysis/tutorial/milliqan_beam_muon_Run2.png?raw=true\" alt=\"Alternative text\" />"
   ]
  },
  {
   "cell_type": "code",
   "execution_count": null,
   "metadata": {},
   "outputs": [],
   "source": [
    "#define function to get the time difference between pulses in layer1 and layer3\n",
    "def getPulseDiff(self):\n",
    "      times = self.events['timeFit_module_calibrated'][self.events['eventCuts']]\n",
    "      layer = self.events['layer'][self.events['eventCuts']]\n",
    "\n",
    "      #require only 4 pulses in the event (possible multiple straight line paths were found)\n",
    "      count = ak.count(times, keepdims=True, axis=1)\n",
    "      count = count == 4\n",
    "      count, times = ak.broadcast_arrays(count, times)\n",
    "      times = times[count]\n",
    "      layer = layer[count]\n",
    "\n",
    "      times0 = times[layer == 0]\n",
    "      times1 = times[layer == 1]\n",
    "      times2 = times[layer == 2]\n",
    "      times3 = times[layer == 3]\n",
    "\n",
    "      #get time difference between two layers (here 3 and 1)\n",
    "      t_out = times3-times1\n",
    "      self.events['timeDiff'] = t_out"
   ]
  },
  {
   "cell_type": "markdown",
   "metadata": {},
   "source": [
    "### Creating our processor:\n",
    "\n",
    "Now we want to run on our beam on file: Run 1031\n",
    "\n",
    "We will select the branches that we need for this analysis and develop the cuts"
   ]
  },
  {
   "cell_type": "code",
   "execution_count": null,
   "metadata": {},
   "outputs": [],
   "source": [
    "#define a file list to run over\n",
    "filelist = ['MilliQan_Run1031_v34.root:t']\n",
    "\n",
    "#define the necessary branches to run over\n",
    "branches = ['pickupFlag', 'boardsMatched', 'timeFit_module_calibrated', 'height', 'area', 'column', 'row', 'layer', 'chan', 'ipulse', 'type']\n",
    "\n",
    "#define the milliqan cuts object\n",
    "mycuts = milliqanCuts()\n",
    "\n",
    "#require pulses are not pickup\n",
    "pickupCut = mycuts.getCut(mycuts.pickupCut, 'pickupCut', cut=True, branches=branches)\n",
    "\n",
    "#require that all digitizer boards are matched\n",
    "boardMatchCut = mycuts.getCut(mycuts.boardsMatched, 'boardMatchCut', cut=True, branches=branches)\n",
    "\n",
    "#Add our custom function\n",
    "setattr(milliqanCuts, 'getPulseDiff', getPulseDiff)\n",
    "\n",
    "#Add four layer cut\n",
    "fourLayerCut = mycuts.getCut(mycuts.fourLayerCut, 'fourLayerCut', cut=False)\n",
    "\n",
    "#create our combined cut\n",
    "eventCuts = mycuts.getCut(mycuts.combineCuts, 'eventCuts', ['fourLayerCut', 'straightPulseCut', 'firstChanPulse', 'barCut'])\n",
    "\n",
    "#define milliqan plotter\n",
    "myplotter = milliqanPlotter()\n",
    "\n",
    "#create root histogram \n",
    "h_timeDiff_beamOn = r.TH1F(\"h_timeDiff_beamOn\", \"Time Diff\", 80, -40, 40)\n",
    "\n",
    "#add root histogram to plotter\n",
    "myplotter.addHistograms(h_timeDiff_beamOn, 'timeDiff')\n",
    "\n",
    "#defining the cutflow\n",
    "cutflow = [boardMatchCut, pickupCut, mycuts.layerCut, mycuts.fourLayerCut, mycuts.straightLineCut, mycuts.firstChanPulse, mycuts.barCut, eventCuts, mycuts.getPulseDiff, myplotter.dict['h_timeDiff_beamOn']]\n",
    "\n",
    "#create a schedule of the cuts\n",
    "myschedule = milliQanScheduler(cutflow, mycuts, myplotter)\n",
    "\n",
    "#print out the schedule\n",
    "myschedule.printSchedule()\n",
    "\n",
    "#create the milliqan processor object\n",
    "myiterator = milliqanProcessor(filelist, branches, myschedule, mycuts, myplotter)\n",
    "\n",
    "#run the milliqan processor\n",
    "myiterator.run()"
   ]
  },
  {
   "cell_type": "code",
   "execution_count": null,
   "metadata": {},
   "outputs": [],
   "source": [
    "#check out output histogram\n",
    "\n",
    "c1 = r.TCanvas(\"c1\", \"c1\", 400, 400)\n",
    "c1.cd()\n",
    "h_timeDiff.Draw()\n",
    "c1.Draw()"
   ]
  },
  {
   "cell_type": "markdown",
   "metadata": {},
   "source": [
    "Now we will repeat the same process but with the beam off file: Run 1035"
   ]
  },
  {
   "cell_type": "code",
   "execution_count": null,
   "metadata": {},
   "outputs": [],
   "source": [
    "#define a file list to run over\n",
    "filelist = ['MilliQan_Run1035_v34.root:t']\n",
    "\n",
    "#define the necessary branches to run over\n",
    "branches = ['pickupFlag', 'boardsMatched', 'timeFit_module_calibrated', 'height', 'area', 'column', 'row', 'layer', 'chan', 'ipulse', 'type']\n",
    "\n",
    "#define the milliqan cuts object\n",
    "mycuts = milliqanCuts()\n",
    "\n",
    "#require pulses are not pickup\n",
    "pickupCut = mycuts.getCut(mycuts.pickupCut, 'pickupCut', cut=True, branches=branches)\n",
    "\n",
    "#require that all digitizer boards are matched\n",
    "boardMatchCut = mycuts.getCut(mycuts.boardsMatched, 'boardMatchCut', cut=True, branches=branches)\n",
    "\n",
    "#Add our custom function\n",
    "setattr(milliqanCuts, 'getPulseDiff', getPulseDiff)\n",
    "\n",
    "#Add four layer cut\n",
    "fourLayerCut = mycuts.getCut(mycuts.fourLayerCut, 'fourLayerCut', cut=False)\n",
    "\n",
    "#create our combined cut\n",
    "eventCuts = mycuts.getCut(mycuts.combineCuts, 'eventCuts', ['fourLayerCut', 'straightPulseCut', 'firstChanPulse', 'barCut'])\n",
    "\n",
    "#define milliqan plotter\n",
    "myplotter = milliqanPlotter()\n",
    "\n",
    "#create root histogram \n",
    "h_timeDiff_beamOff = r.TH1F(\"h_timeDiff_beamOff\", \"Time Diff\", 80, -40, 40)\n",
    "\n",
    "#add root histogram to plotter\n",
    "myplotter.addHistograms(h_timeDiff_beamOff, 'timeDiff')\n",
    "\n",
    "#defining the cutflow\n",
    "cutflow = [boardMatchCut, pickupCut, mycuts.layerCut, mycuts.fourLayerCut, mycuts.straightLineCut, mycuts.firstChanPulse, mycuts.barCut, eventCuts, mycuts.getPulseDiff, myplotter.dict['h_timeDiff_beamOff']]\n",
    "\n",
    "#create a schedule of the cuts\n",
    "myschedule = milliQanScheduler(cutflow, mycuts, myplotter)\n",
    "\n",
    "#print out the schedule\n",
    "myschedule.printSchedule()\n",
    "\n",
    "#create the milliqan processor object\n",
    "myiterator = milliqanProcessor(filelist, branches, myschedule, mycuts, myplotter)\n",
    "\n",
    "#run the milliqan processor\n",
    "myiterator.run()"
   ]
  },
  {
   "cell_type": "code",
   "execution_count": null,
   "metadata": {},
   "outputs": [],
   "source": [
    "\n",
    "h1_scaled = h_timeDiff_beamOn.Clone()\n",
    "scale1 = h1_scaled.Integral(20, 60)\n",
    "if scale1>0: h1_scaled.Scale(1/scale1)\n",
    "\n",
    "h_timeDiff_beamOff.SetLineColor(2)\n",
    "h2_scaled = h_timeDiff_beamOff.Clone()\n",
    "scale2 = h2_scaled.Integral(20, 60)\n",
    "if scale2>0: h2_scaled.Scale(1/scale2)\n",
    "\n",
    "h1_scaled.Draw(\"hist\")\n",
    "h2_scaled.Draw(\"hist sames\")\n",
    "\n",
    "c1.Draw()\n",
    "\n",
    "print(\"Beam On: \\n\\tEntries: {0}\\n\\tMean: {1} +/- {2}\\n\\tstd: {3}\".format(h_timeDiff_beamOn.GetEntries(), h_timeDiff_beamOn.GetMean(), h_timeDiff_beamOn.GetMeanError(), h_timeDiff_beamOn.GetStdDev()))\n",
    "print(\"Beam Off: \\n\\tEntries: {0}\\n\\tMean: {1} +/- {2}\\n\\tstd: {3}\".format(h_timeDiff_beamOff.GetEntries(), h_timeDiff_beamOff.GetMean(), h_timeDiff_beamOff.GetMeanError(), h_timeDiff_beamOff.GetStdDev()))"
   ]
  },
  {
   "cell_type": "code",
   "execution_count": null,
   "metadata": {},
   "outputs": [],
   "source": []
  },
  {
   "cell_type": "code",
   "execution_count": null,
   "metadata": {},
   "outputs": [],
   "source": []
  }
 ],
 "metadata": {
  "colab": {
   "provenance": []
  },
  "kernelspec": {
   "display_name": "Python 3 (ipykernel)",
   "language": "python",
   "name": "python3"
  },
  "language_info": {
   "codemirror_mode": {
    "name": "ipython",
    "version": 3
   },
   "file_extension": ".py",
   "mimetype": "text/x-python",
   "name": "python",
   "nbconvert_exporter": "python",
   "pygments_lexer": "ipython3",
   "version": "3.10.13"
  }
 },
 "nbformat": 4,
 "nbformat_minor": 4
}
