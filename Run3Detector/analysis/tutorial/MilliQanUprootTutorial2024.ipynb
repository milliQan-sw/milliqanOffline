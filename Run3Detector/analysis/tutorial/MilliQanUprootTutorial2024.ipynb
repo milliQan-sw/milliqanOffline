{
 "cells": [
  {
   "cell_type": "markdown",
   "metadata": {
    "id": "8LQrQmeudVkb"
   },
   "source": [
    "<h1 align=center> MilliQan Uproot Tutorial</h1>\n",
    "\n",
    "This jupyter notebook was developed for the 6th MilliQan conference as a tutorial for using the MilliQan data and analysis framework. The framework has been built using the uproot package. Uproot allows root files to be read in as either awkward arrays, numpy arrays, or pandas dataframes. This facilitates faster columnar analysis on the data.\n",
    "\n",
    "For more information on uproot see the documentation and a tutorials given by J Pivarski and Mason Proffitt below.\n",
    "\n",
    "[1] https://uproot.readthedocs.io/en/latest/ <br>\n",
    "[2] https://github.com/jpivarski-talks/2021-06-14-uproot-awkward-columnar-hats/blob/main/2-uproot.ipynb <br>\n",
    "[3] https://masonproffitt.github.io/uproot-tutorial/aio/index.html\n",
    "\n",
    "For more information on awkward arrays see the awkward array documentation and tutorial by J Pivarski below.\n",
    "\n",
    "[1] https://awkward-array.org/doc/main/user-guide/index.html <br>\n",
    "[2] https://github.com/jpivarski-talks/2021-06-14-uproot-awkward-columnar-hats/blob/main/3-awkward-array.ipynb\n"
   ]
  },
  {
   "cell_type": "markdown",
   "metadata": {
    "id": "p48Sn6eFdVkc",
    "jp-MarkdownHeadingCollapsed": true
   },
   "source": [
    "## Useful Documents\n",
    "\n",
    "### Channel Mapping\n",
    "<img src=\"https://github.com/carriganm95/milliqanOffline/blob/tutorial/Run3Detector/analysis/tutorial/channelMapping.png?raw=1\" alt=\"Alternative text\" />\n",
    "\n",
    "### Offline Branches: \n",
    "https://docs.google.com/document/d/1W-IhqTyuc8L9usIJ3deU526K9qoin0g4_5Q0Zc0dv5Q/edit "
   ]
  },
  {
   "cell_type": "markdown",
   "metadata": {
    "id": "l1a-Jum5dVkd"
   },
   "source": [
    "## Importing Packages\n",
    "\n",
    "The first step will be to import all packages we need. The root and uproot packages are both necessary for our purposes. These need to be installed into this workspace.\n",
    "\n",
    "To load our files with uproot we also need at least one of awkward, numpy, or pandas. We can easily switch between these different formats and use different packages for different tasks.\n",
    "\n",
    "We will also import the hist and matplotlib.pyplot packages to make histograms.\n",
    "\n",
    "Finally we will use the array package to allow us to fill root histograms."
   ]
  },
  {
   "cell_type": "code",
   "execution_count": 1,
   "metadata": {
    "id": "2vdjJ8j9dVkd"
   },
   "outputs": [],
   "source": [
    "import sys\n",
    "\n",
    "import ROOT as r\n",
    "import uproot\n",
    "\n",
    "import hist\n",
    "import matplotlib.pyplot as plt\n",
    "\n",
    "import awkward as ak\n",
    "import numpy as np\n",
    "import pandas as pd\n",
    "\n",
    "import array as arr"
   ]
  },
  {
   "cell_type": "code",
   "execution_count": 2,
   "metadata": {},
   "outputs": [
    {
     "name": "stdout",
     "output_type": "stream",
     "text": [
      "2.7.1\n",
      "5.5.1\n"
     ]
    }
   ],
   "source": [
    "#note if your version of awkward is <2 you should install a newer version\n",
    "\n",
    "print(ak.__version__)\n",
    "\n",
    "#also upgrade uproot if below version 5\n",
    "\n",
    "print(uproot.__version__)\n",
    "\n",
    "#run below only if needed"
   ]
  },
  {
   "cell_type": "code",
   "execution_count": 3,
   "metadata": {},
   "outputs": [
    {
     "name": "stdout",
     "output_type": "stream",
     "text": [
      "Requirement already satisfied: awkward==2.7.1 in /eos/user/r/rdelossa/.local/lib/python3.11/site-packages (2.7.1)\n",
      "Requirement already satisfied: awkward-cpp==42 in /eos/user/r/rdelossa/.local/lib/python3.11/site-packages (from awkward==2.7.1) (42)\n",
      "Requirement already satisfied: fsspec>=2022.11.0 in /cvmfs/sft.cern.ch/lcg/views/LCG_106a_swan/x86_64-el9-gcc13-opt/lib/python3.11/site-packages (from awkward==2.7.1) (2024.6.1)\n",
      "Requirement already satisfied: importlib-metadata>=4.13.0 in /cvmfs/sft.cern.ch/lcg/views/LCG_106a_swan/x86_64-el9-gcc13-opt/lib/python3.11/site-packages (from awkward==2.7.1) (6.6.0)\n",
      "Requirement already satisfied: numpy>=1.18.0 in /cvmfs/sft.cern.ch/lcg/views/LCG_106a_swan/x86_64-el9-gcc13-opt/lib/python3.11/site-packages (from awkward==2.7.1) (1.26.4)\n",
      "Requirement already satisfied: packaging in /cvmfs/sft.cern.ch/lcg/views/LCG_106a_swan/x86_64-el9-gcc13-opt/lib/python3.11/site-packages (from awkward==2.7.1) (23.2)\n",
      "Requirement already satisfied: zipp>=0.5 in /cvmfs/sft.cern.ch/lcg/views/LCG_106a_swan/x86_64-el9-gcc13-opt/lib/python3.11/site-packages (from importlib-metadata>=4.13.0->awkward==2.7.1) (3.15.0)\n",
      "\u001b[33mDEPRECATION: gosam 2.1.1-4b98559 has a non-standard version number. pip 24.0 will enforce this behaviour change. A possible replacement is to upgrade to a newer version of gosam or contact the author to suggest that they release a version with a conforming version number. Discussion can be found at https://github.com/pypa/pip/issues/12063\u001b[0m\u001b[33m\n",
      "\u001b[0mNote: you may need to restart the kernel to use updated packages.\n"
     ]
    }
   ],
   "source": [
    "pip install --user awkward==2.7.1\n"
   ]
  },
  {
   "cell_type": "code",
   "execution_count": 4,
   "metadata": {},
   "outputs": [
    {
     "name": "stdout",
     "output_type": "stream",
     "text": [
      "Requirement already satisfied: uproot==5.5.1 in /eos/user/r/rdelossa/.local/lib/python3.11/site-packages (5.5.1)\n",
      "Requirement already satisfied: awkward>=2.4.6 in /eos/user/r/rdelossa/.local/lib/python3.11/site-packages (from uproot==5.5.1) (2.7.1)\n",
      "Requirement already satisfied: cramjam>=2.5.0 in /cvmfs/sft.cern.ch/lcg/views/LCG_106a_swan/x86_64-el9-gcc13-opt/lib/python3.11/site-packages (from uproot==5.5.1) (2.8.3)\n",
      "Requirement already satisfied: fsspec in /cvmfs/sft.cern.ch/lcg/views/LCG_106a_swan/x86_64-el9-gcc13-opt/lib/python3.11/site-packages (from uproot==5.5.1) (2024.6.1)\n",
      "Requirement already satisfied: numpy in /cvmfs/sft.cern.ch/lcg/views/LCG_106a_swan/x86_64-el9-gcc13-opt/lib/python3.11/site-packages (from uproot==5.5.1) (1.26.4)\n",
      "Requirement already satisfied: packaging in /cvmfs/sft.cern.ch/lcg/views/LCG_106a_swan/x86_64-el9-gcc13-opt/lib/python3.11/site-packages (from uproot==5.5.1) (23.2)\n",
      "Requirement already satisfied: xxhash in /cvmfs/sft.cern.ch/lcg/views/LCG_106a_swan/x86_64-el9-gcc13-opt/lib/python3.11/site-packages (from uproot==5.5.1) (3.4.1)\n",
      "Requirement already satisfied: awkward-cpp==42 in /eos/user/r/rdelossa/.local/lib/python3.11/site-packages (from awkward>=2.4.6->uproot==5.5.1) (42)\n",
      "Requirement already satisfied: importlib-metadata>=4.13.0 in /cvmfs/sft.cern.ch/lcg/views/LCG_106a_swan/x86_64-el9-gcc13-opt/lib/python3.11/site-packages (from awkward>=2.4.6->uproot==5.5.1) (6.6.0)\n",
      "Requirement already satisfied: zipp>=0.5 in /cvmfs/sft.cern.ch/lcg/views/LCG_106a_swan/x86_64-el9-gcc13-opt/lib/python3.11/site-packages (from importlib-metadata>=4.13.0->awkward>=2.4.6->uproot==5.5.1) (3.15.0)\n",
      "\u001b[33mDEPRECATION: gosam 2.1.1-4b98559 has a non-standard version number. pip 24.0 will enforce this behaviour change. A possible replacement is to upgrade to a newer version of gosam or contact the author to suggest that they release a version with a conforming version number. Discussion can be found at https://github.com/pypa/pip/issues/12063\u001b[0m\u001b[33m\n",
      "\u001b[0mNote: you may need to restart the kernel to use updated packages.\n"
     ]
    }
   ],
   "source": [
    "pip install --user uproot==5.5.1"
   ]
  },
  {
   "cell_type": "code",
   "execution_count": 5,
   "metadata": {},
   "outputs": [
    {
     "name": "stdout",
     "output_type": "stream",
     "text": [
      "Defaulting to user installation because normal site-packages is not writeable\n",
      "Requirement already satisfied: awkward_pandas in /eos/user/r/rdelossa/.local/lib/python3.11/site-packages (2023.8.0)\n",
      "Requirement already satisfied: awkward>=2.0.0 in /eos/user/r/rdelossa/.local/lib/python3.11/site-packages (from awkward_pandas) (2.7.1)\n",
      "Requirement already satisfied: pandas>=1.2 in /cvmfs/sft.cern.ch/lcg/views/LCG_106a_swan/x86_64-el9-gcc13-opt/lib/python3.11/site-packages (from awkward_pandas) (2.2.2)\n",
      "Requirement already satisfied: awkward-cpp==42 in /eos/user/r/rdelossa/.local/lib/python3.11/site-packages (from awkward>=2.0.0->awkward_pandas) (42)\n",
      "Requirement already satisfied: fsspec>=2022.11.0 in /cvmfs/sft.cern.ch/lcg/views/LCG_106a_swan/x86_64-el9-gcc13-opt/lib/python3.11/site-packages (from awkward>=2.0.0->awkward_pandas) (2024.6.1)\n",
      "Requirement already satisfied: importlib-metadata>=4.13.0 in /cvmfs/sft.cern.ch/lcg/views/LCG_106a_swan/x86_64-el9-gcc13-opt/lib/python3.11/site-packages (from awkward>=2.0.0->awkward_pandas) (6.6.0)\n",
      "Requirement already satisfied: numpy>=1.18.0 in /cvmfs/sft.cern.ch/lcg/views/LCG_106a_swan/x86_64-el9-gcc13-opt/lib/python3.11/site-packages (from awkward>=2.0.0->awkward_pandas) (1.26.4)\n",
      "Requirement already satisfied: packaging in /cvmfs/sft.cern.ch/lcg/views/LCG_106a_swan/x86_64-el9-gcc13-opt/lib/python3.11/site-packages (from awkward>=2.0.0->awkward_pandas) (23.2)\n",
      "Requirement already satisfied: python-dateutil>=2.8.2 in /cvmfs/sft.cern.ch/lcg/views/LCG_106a_swan/x86_64-el9-gcc13-opt/lib/python3.11/site-packages (from pandas>=1.2->awkward_pandas) (2.9.0)\n",
      "Requirement already satisfied: pytz>=2020.1 in /cvmfs/sft.cern.ch/lcg/views/LCG_106a_swan/x86_64-el9-gcc13-opt/lib/python3.11/site-packages (from pandas>=1.2->awkward_pandas) (2022.7.1)\n",
      "Requirement already satisfied: tzdata>=2022.7 in /cvmfs/sft.cern.ch/lcg/views/LCG_106a_swan/x86_64-el9-gcc13-opt/lib/python3.11/site-packages (from pandas>=1.2->awkward_pandas) (2024.1)\n",
      "Requirement already satisfied: zipp>=0.5 in /cvmfs/sft.cern.ch/lcg/views/LCG_106a_swan/x86_64-el9-gcc13-opt/lib/python3.11/site-packages (from importlib-metadata>=4.13.0->awkward>=2.0.0->awkward_pandas) (3.15.0)\n",
      "Requirement already satisfied: six>=1.5 in /cvmfs/sft.cern.ch/lcg/views/LCG_106a_swan/x86_64-el9-gcc13-opt/lib/python3.11/site-packages (from python-dateutil>=2.8.2->pandas>=1.2->awkward_pandas) (1.16.0)\n",
      "\u001b[33mDEPRECATION: gosam 2.1.1-4b98559 has a non-standard version number. pip 24.0 will enforce this behaviour change. A possible replacement is to upgrade to a newer version of gosam or contact the author to suggest that they release a version with a conforming version number. Discussion can be found at https://github.com/pypa/pip/issues/12063\u001b[0m\u001b[33m\n",
      "\u001b[0mNote: you may need to restart the kernel to use updated packages.\n"
     ]
    }
   ],
   "source": [
    "pip install awkward_pandas"
   ]
  },
  {
   "cell_type": "markdown",
   "metadata": {
    "id": "9JSIGxcidVke",
    "slideshow": {
     "slide_type": ""
    },
    "tags": []
   },
   "source": [
    "## Opening File with Uproot\n",
    "\n",
    "We will use a signal skim from eos as an example. Then we can open our root file and load in the correct tree the same way we do with traditional root."
   ]
  },
  {
   "cell_type": "code",
   "execution_count": 6,
   "metadata": {
    "colab": {
     "base_uri": "https://localhost:8080/"
    },
    "id": "4yvRbuiAdVke",
    "outputId": "d2b6b8cb-1f2c-4863-82e0-58f4218e5bb8"
   },
   "outputs": [
    {
     "name": "stdout",
     "output_type": "stream",
     "text": [
      "name                 | typename                 | interpretation                \n",
      "---------------------+--------------------------+-------------------------------\n",
      "event                | int32_t                  | AsDtype('>i4')\n",
      "runNumber            | int64_t                  | AsDtype('>i8')\n",
      "fileNumber           | int64_t                  | AsDtype('>i8')\n",
      "boardsMatched        | bool                     | AsDtype('bool')\n",
      "DAQEventNumber       | int32_t                  | AsDtype('>i4')\n",
      "daqFileOpen          | uint64_t                 | AsDtype('>u8')\n",
      "daqFileClose         | uint64_t                 | AsDtype('>u8')\n",
      "maxPulseIndex        | int32_t                  | AsDtype('>i4')\n",
      "nConsecSamples       | std::vector<int32_t>     | AsJagged(AsDtype('>i4'), he...\n",
      "nConsecSamplesEnd    | std::vector<int32_t>     | AsJagged(AsDtype('>i4'), he...\n",
      "highThreshold        | std::vector<float>       | AsJagged(AsDtype('>f4'), he...\n",
      "lowThreshold         | std::vector<float>       | AsJagged(AsDtype('>f4'), he...\n",
      "totalFillLumi        | float                    | AsDtype('>f4')\n",
      "fillId               | int32_t                  | AsDtype('>i4')\n",
      "beamType             | TString                  | AsStrings()\n",
      "beamEnergy           | float                    | AsDtype('>f4')\n",
      "betaStar             | float                    | AsDtype('>f4')\n",
      "beamOn               | bool                     | AsDtype('bool')\n",
      "fillStart            | uint64_t                 | AsDtype('>u8')\n",
      "fillEnd              | uint64_t                 | AsDtype('>u8')\n",
      "beamInFill           | bool                     | AsDtype('bool')\n",
      "goodRunLoose         | bool                     | AsDtype('bool')\n",
      "goodRunMedium        | bool                     | AsDtype('bool')\n",
      "goodRunTight         | bool                     | AsDtype('bool')\n",
      "goodSingleTrigger    | bool                     | AsDtype('bool')\n",
      "triggerThreshold     | std::vector<float>       | AsJagged(AsDtype('>f4'), he...\n",
      "triggerEnable        | std::vector<bool>        | AsJagged(AsDtype('bool'), h...\n",
      "triggerMajority      | std::vector<int32_t>     | AsJagged(AsDtype('>i4'), he...\n",
      "triggerPolarity      | std::vector<int32_t>     | AsJagged(AsDtype('>i4'), he...\n",
      "triggerLogic         | std::vector<int32_t>     | AsJagged(AsDtype('>i4'), he...\n",
      "dynamicPedestal      | std::vector<float>       | AsJagged(AsDtype('>f4'), he...\n",
      "sidebandMean         | std::vector<float>       | AsJagged(AsDtype('>f4'), he...\n",
      "sidebandRMS          | std::vector<float>       | AsJagged(AsDtype('>f4'), he...\n",
      "sidebandMeanRaw      | std::vector<float>       | AsJagged(AsDtype('>f4'), he...\n",
      "sidebandRMSRaw       | std::vector<float>       | AsJagged(AsDtype('>f4'), he...\n",
      "maxThreeConsec       | std::vector<float>       | AsJagged(AsDtype('>f4'), he...\n",
      "chan                 | std::vector<int32_t>     | AsJagged(AsDtype('>i4'), he...\n",
      "chanWithinBoard      | std::vector<int32_t>     | AsJagged(AsDtype('>i4'), he...\n",
      "row                  | std::vector<int32_t>     | AsJagged(AsDtype('>i4'), he...\n",
      "column               | std::vector<int32_t>     | AsJagged(AsDtype('>i4'), he...\n",
      "layer                | std::vector<int32_t>     | AsJagged(AsDtype('>i4'), he...\n",
      "type                 | std::vector<int32_t>     | AsJagged(AsDtype('>i4'), he...\n",
      "board                | std::vector<int32_t>     | AsJagged(AsDtype('>i4'), he...\n",
      "height               | std::vector<float>       | AsJagged(AsDtype('>f4'), he...\n",
      "area                 | std::vector<float>       | AsJagged(AsDtype('>f4'), he...\n",
      "pickupFlag           | std::vector<bool>        | AsJagged(AsDtype('bool'), h...\n",
      "pickupFlagTight      | std::vector<bool>        | AsJagged(AsDtype('bool'), h...\n",
      "nPE                  | std::vector<float>       | AsJagged(AsDtype('>f4'), he...\n",
      "riseSamples          | std::vector<int32_t>     | AsJagged(AsDtype('>i4'), he...\n",
      "fallSamples          | std::vector<int32_t>     | AsJagged(AsDtype('>i4'), he...\n",
      "ipulse               | std::vector<int32_t>     | AsJagged(AsDtype('>i4'), he...\n",
      "npulses              | std::vector<int32_t>     | AsJagged(AsDtype('>i4'), he...\n",
      "pulseIndex           | std::vector<int32_t>     | AsJagged(AsDtype('>i4'), he...\n",
      "time                 | std::vector<float>       | AsJagged(AsDtype('>f4'), he...\n",
      "timeFit              | std::vector<float>       | AsJagged(AsDtype('>f4'), he...\n",
      "time_module_calib... | std::vector<float>       | AsJagged(AsDtype('>f4'), he...\n",
      "timeFit_module_ca... | std::vector<float>       | AsJagged(AsDtype('>f4'), he...\n",
      "duration             | std::vector<float>       | AsJagged(AsDtype('>f4'), he...\n",
      "delay                | std::vector<float>       | AsJagged(AsDtype('>f4'), he...\n",
      "max                  | std::vector<float>       | AsJagged(AsDtype('>f4'), he...\n",
      "iMaxPulseLayer       | std::vector<int32_t>     | AsJagged(AsDtype('>i4'), he...\n",
      "maxPulseTime         | std::vector<float>       | AsJagged(AsDtype('>f4'), he...\n",
      "present              | std::vector<int64_t>     | AsJagged(AsDtype('>i8'), he...\n",
      "event_trigger_tim... | std::vector<int64_t>     | AsJagged(AsDtype('>i8'), he...\n",
      "event_time           | std::vector<int64_t>     | AsJagged(AsDtype('>i8'), he...\n",
      "event_time_fromTDC   | double                   | AsDtype('>f8')\n",
      "v_groupTDC_g0        | std::vector<int64_t>     | AsJagged(AsDtype('>i8'), he...\n",
      "v_groupTDC_g1        | std::vector<int64_t>     | AsJagged(AsDtype('>i8'), he...\n",
      "v_groupTDC_g2        | std::vector<int64_t>     | AsJagged(AsDtype('>i8'), he...\n",
      "v_groupTDC_g3        | std::vector<int64_t>     | AsJagged(AsDtype('>i8'), he...\n",
      "v_groupTDC_g4        | std::vector<int64_t>     | AsJagged(AsDtype('>i8'), he...\n",
      "v_groupTDC_g5        | std::vector<int64_t>     | AsJagged(AsDtype('>i8'), he...\n",
      "v_groupTDC_g6        | std::vector<int64_t>     | AsJagged(AsDtype('>i8'), he...\n",
      "v_groupTDC_g7        | std::vector<int64_t>     | AsJagged(AsDtype('>i8'), he...\n",
      "tClockCycles         | uint64_t                 | AsDtype('>u8')\n",
      "tTime                | float                    | AsDtype('>f4')\n",
      "tStartTime           | float                    | AsDtype('>f4')\n",
      "tTrigger             | float                    | AsDtype('>f4')\n",
      "tTimeDiff            | float                    | AsDtype('>f4')\n",
      "tMatchingTimeCut     | float                    | AsDtype('>f4')\n",
      "tEvtNum              | int32_t                  | AsDtype('>i4')\n",
      "tRunNum              | int32_t                  | AsDtype('>i4')\n",
      "tTBEvent             | int32_t                  | AsDtype('>i4')\n",
      "totalFileLumi        | float                    | AsDtype('>f4')\n"
     ]
    }
   ],
   "source": [
    "upfile = uproot.open(\"/eos/experiment/milliqan/skims/signal/MilliQan_Run1500_v35_signal_beamOff_tight.root\") #load the root file\n",
    "uptree = upfile[\"t\"] #open the tree \"t\"\n",
    "uptree.show() #print out all branches"
   ]
  },
  {
   "cell_type": "markdown",
   "metadata": {
    "id": "t6nwBnX_dVke"
   },
   "source": [
    "Note that in the above print out showing our root file there is also a list of types. There are some types that are vectors and others that are not. For most python dataframes this would cause an issue (numpy, pandas), however the awkward array package was designed to solve this issue. In the same event we can have arrays of different sizes saved."
   ]
  },
  {
   "cell_type": "code",
   "execution_count": 7,
   "metadata": {
    "id": "55MP0yMJdVke"
   },
   "outputs": [],
   "source": [
    "#Optionally we can load in the tree at the same time we load the file by appending \":\\<treename>\\\" to the end of the file\n",
    "\n",
    "uptree = uproot.open(\"/eos/experiment/milliqan/skims/signal/MilliQan_Run1500_v35_signal_beamOff_tight.root:t\")"
   ]
  },
  {
   "cell_type": "markdown",
   "metadata": {
    "id": "Gen6pCbFdVke"
   },
   "source": [
    "There are some other useful functions for looking at the contents of our tree."
   ]
  },
  {
   "cell_type": "code",
   "execution_count": 8,
   "metadata": {
    "id": "o_XRUjGNdVke",
    "outputId": "a0d58fe1-cd0a-4216-eb1a-954fecfe4063"
   },
   "outputs": [
    {
     "data": {
      "text/plain": [
       "['event',\n",
       " 'runNumber',\n",
       " 'fileNumber',\n",
       " 'boardsMatched',\n",
       " 'DAQEventNumber',\n",
       " 'daqFileOpen',\n",
       " 'daqFileClose',\n",
       " 'maxPulseIndex',\n",
       " 'nConsecSamples',\n",
       " 'nConsecSamplesEnd',\n",
       " 'highThreshold',\n",
       " 'lowThreshold',\n",
       " 'totalFillLumi',\n",
       " 'fillId',\n",
       " 'beamType',\n",
       " 'beamEnergy',\n",
       " 'betaStar',\n",
       " 'beamOn',\n",
       " 'fillStart',\n",
       " 'fillEnd',\n",
       " 'beamInFill',\n",
       " 'goodRunLoose',\n",
       " 'goodRunMedium',\n",
       " 'goodRunTight',\n",
       " 'goodSingleTrigger',\n",
       " 'triggerThreshold',\n",
       " 'triggerEnable',\n",
       " 'triggerMajority',\n",
       " 'triggerPolarity',\n",
       " 'triggerLogic',\n",
       " 'dynamicPedestal',\n",
       " 'sidebandMean',\n",
       " 'sidebandRMS',\n",
       " 'sidebandMeanRaw',\n",
       " 'sidebandRMSRaw',\n",
       " 'maxThreeConsec',\n",
       " 'chan',\n",
       " 'chanWithinBoard',\n",
       " 'row',\n",
       " 'column',\n",
       " 'layer',\n",
       " 'type',\n",
       " 'board',\n",
       " 'height',\n",
       " 'area',\n",
       " 'pickupFlag',\n",
       " 'pickupFlagTight',\n",
       " 'nPE',\n",
       " 'riseSamples',\n",
       " 'fallSamples',\n",
       " 'ipulse',\n",
       " 'npulses',\n",
       " 'pulseIndex',\n",
       " 'time',\n",
       " 'timeFit',\n",
       " 'time_module_calibrated',\n",
       " 'timeFit_module_calibrated',\n",
       " 'duration',\n",
       " 'delay',\n",
       " 'max',\n",
       " 'iMaxPulseLayer',\n",
       " 'maxPulseTime',\n",
       " 'present',\n",
       " 'event_trigger_time_tag',\n",
       " 'event_time',\n",
       " 'event_time_fromTDC',\n",
       " 'v_groupTDC_g0',\n",
       " 'v_groupTDC_g1',\n",
       " 'v_groupTDC_g2',\n",
       " 'v_groupTDC_g3',\n",
       " 'v_groupTDC_g4',\n",
       " 'v_groupTDC_g5',\n",
       " 'v_groupTDC_g6',\n",
       " 'v_groupTDC_g7',\n",
       " 'tClockCycles',\n",
       " 'tTime',\n",
       " 'tStartTime',\n",
       " 'tTrigger',\n",
       " 'tTimeDiff',\n",
       " 'tMatchingTimeCut',\n",
       " 'tEvtNum',\n",
       " 'tRunNum',\n",
       " 'tTBEvent',\n",
       " 'totalFileLumi']"
      ]
     },
     "execution_count": 8,
     "metadata": {},
     "output_type": "execute_result"
    }
   ],
   "source": [
    "uptree.keys() #print the branches"
   ]
  },
  {
   "cell_type": "code",
   "execution_count": 9,
   "metadata": {
    "id": "A_GQCuxNdVkf",
    "outputId": "cad71c9c-a1c9-48e7-cd3a-121d7856e895"
   },
   "outputs": [
    {
     "data": {
      "text/plain": [
       "{'event': 'int32_t',\n",
       " 'runNumber': 'int64_t',\n",
       " 'fileNumber': 'int64_t',\n",
       " 'boardsMatched': 'bool',\n",
       " 'DAQEventNumber': 'int32_t',\n",
       " 'daqFileOpen': 'uint64_t',\n",
       " 'daqFileClose': 'uint64_t',\n",
       " 'maxPulseIndex': 'int32_t',\n",
       " 'nConsecSamples': 'std::vector<int32_t>',\n",
       " 'nConsecSamplesEnd': 'std::vector<int32_t>',\n",
       " 'highThreshold': 'std::vector<float>',\n",
       " 'lowThreshold': 'std::vector<float>',\n",
       " 'totalFillLumi': 'float',\n",
       " 'fillId': 'int32_t',\n",
       " 'beamType': 'TString',\n",
       " 'beamEnergy': 'float',\n",
       " 'betaStar': 'float',\n",
       " 'beamOn': 'bool',\n",
       " 'fillStart': 'uint64_t',\n",
       " 'fillEnd': 'uint64_t',\n",
       " 'beamInFill': 'bool',\n",
       " 'goodRunLoose': 'bool',\n",
       " 'goodRunMedium': 'bool',\n",
       " 'goodRunTight': 'bool',\n",
       " 'goodSingleTrigger': 'bool',\n",
       " 'triggerThreshold': 'std::vector<float>',\n",
       " 'triggerEnable': 'std::vector<bool>',\n",
       " 'triggerMajority': 'std::vector<int32_t>',\n",
       " 'triggerPolarity': 'std::vector<int32_t>',\n",
       " 'triggerLogic': 'std::vector<int32_t>',\n",
       " 'dynamicPedestal': 'std::vector<float>',\n",
       " 'sidebandMean': 'std::vector<float>',\n",
       " 'sidebandRMS': 'std::vector<float>',\n",
       " 'sidebandMeanRaw': 'std::vector<float>',\n",
       " 'sidebandRMSRaw': 'std::vector<float>',\n",
       " 'maxThreeConsec': 'std::vector<float>',\n",
       " 'chan': 'std::vector<int32_t>',\n",
       " 'chanWithinBoard': 'std::vector<int32_t>',\n",
       " 'row': 'std::vector<int32_t>',\n",
       " 'column': 'std::vector<int32_t>',\n",
       " 'layer': 'std::vector<int32_t>',\n",
       " 'type': 'std::vector<int32_t>',\n",
       " 'board': 'std::vector<int32_t>',\n",
       " 'height': 'std::vector<float>',\n",
       " 'area': 'std::vector<float>',\n",
       " 'pickupFlag': 'std::vector<bool>',\n",
       " 'pickupFlagTight': 'std::vector<bool>',\n",
       " 'nPE': 'std::vector<float>',\n",
       " 'riseSamples': 'std::vector<int32_t>',\n",
       " 'fallSamples': 'std::vector<int32_t>',\n",
       " 'ipulse': 'std::vector<int32_t>',\n",
       " 'npulses': 'std::vector<int32_t>',\n",
       " 'pulseIndex': 'std::vector<int32_t>',\n",
       " 'time': 'std::vector<float>',\n",
       " 'timeFit': 'std::vector<float>',\n",
       " 'time_module_calibrated': 'std::vector<float>',\n",
       " 'timeFit_module_calibrated': 'std::vector<float>',\n",
       " 'duration': 'std::vector<float>',\n",
       " 'delay': 'std::vector<float>',\n",
       " 'max': 'std::vector<float>',\n",
       " 'iMaxPulseLayer': 'std::vector<int32_t>',\n",
       " 'maxPulseTime': 'std::vector<float>',\n",
       " 'present': 'std::vector<int64_t>',\n",
       " 'event_trigger_time_tag': 'std::vector<int64_t>',\n",
       " 'event_time': 'std::vector<int64_t>',\n",
       " 'event_time_fromTDC': 'double',\n",
       " 'v_groupTDC_g0': 'std::vector<int64_t>',\n",
       " 'v_groupTDC_g1': 'std::vector<int64_t>',\n",
       " 'v_groupTDC_g2': 'std::vector<int64_t>',\n",
       " 'v_groupTDC_g3': 'std::vector<int64_t>',\n",
       " 'v_groupTDC_g4': 'std::vector<int64_t>',\n",
       " 'v_groupTDC_g5': 'std::vector<int64_t>',\n",
       " 'v_groupTDC_g6': 'std::vector<int64_t>',\n",
       " 'v_groupTDC_g7': 'std::vector<int64_t>',\n",
       " 'tClockCycles': 'uint64_t',\n",
       " 'tTime': 'float',\n",
       " 'tStartTime': 'float',\n",
       " 'tTrigger': 'float',\n",
       " 'tTimeDiff': 'float',\n",
       " 'tMatchingTimeCut': 'float',\n",
       " 'tEvtNum': 'int32_t',\n",
       " 'tRunNum': 'int32_t',\n",
       " 'tTBEvent': 'int32_t',\n",
       " 'totalFileLumi': 'float'}"
      ]
     },
     "execution_count": 9,
     "metadata": {},
     "output_type": "execute_result"
    }
   ],
   "source": [
    "uptree.typenames() #print branches and type"
   ]
  },
  {
   "cell_type": "markdown",
   "metadata": {
    "id": "kwh_itNDdVkf"
   },
   "source": [
    "### Selecting Branches\n",
    "\n",
    "We can also select specific branches by using the arrays method of uproot. Note that in the below example we can also create a cut, set the library to use, and determine how many events to load.\n",
    "\n",
    "library = data format to load branches into. Options are awkward (ak, default), pandas (pd), and numpy (np). <br>\n",
    "cut = string making a cut on the data, cut is applied at this time <br>\n",
    "entry_stop = sets the number of events to load <br>"
   ]
  },
  {
   "cell_type": "code",
   "execution_count": 10,
   "metadata": {
    "id": "sTPRl0g0dVkf",
    "outputId": "814aa3ad-d60a-4132-d216-a7f62a45ef73"
   },
   "outputs": [
    {
     "data": {
      "text/plain": [
       "{'height': array([array([  23.968452,   48.863426, 1069.5161  ,   30.6137  ,   34.885597,\n",
       "                 49.148922,   21.669907], dtype=float32)                       ],\n",
       "       dtype=object),\n",
       " 'area': array([array([  1621.747 ,   4081.4614, 144842.5   ,   1850.054 ,   2054.421 ,\n",
       "                 3237.3628,    583.0208], dtype=float32)                       ],\n",
       "       dtype=object)}"
      ]
     },
     "execution_count": 10,
     "metadata": {},
     "output_type": "execute_result"
    }
   ],
   "source": [
    "#using numpy\n",
    "\n",
    "branches = uptree.arrays([\"height\", \"area\"], library=\"np\", entry_stop=1) #note that making a cut here cannot be done\n",
    "branches #print numpy array"
   ]
  },
  {
   "cell_type": "code",
   "execution_count": 11,
   "metadata": {
    "id": "i9iAMioZdVkf",
    "outputId": "9dccd01f-c273-4511-b5ab-fc2c4d3532ed"
   },
   "outputs": [
    {
     "data": {
      "text/html": [
       "<div>\n",
       "<style scoped>\n",
       "    .dataframe tbody tr th:only-of-type {\n",
       "        vertical-align: middle;\n",
       "    }\n",
       "\n",
       "    .dataframe tbody tr th {\n",
       "        vertical-align: top;\n",
       "    }\n",
       "\n",
       "    .dataframe thead th {\n",
       "        text-align: right;\n",
       "    }\n",
       "</style>\n",
       "<table border=\"1\" class=\"dataframe\">\n",
       "  <thead>\n",
       "    <tr style=\"text-align: right;\">\n",
       "      <th></th>\n",
       "      <th>height</th>\n",
       "      <th>area</th>\n",
       "    </tr>\n",
       "  </thead>\n",
       "  <tbody>\n",
       "    <tr>\n",
       "      <th>0</th>\n",
       "      <td>[23.96845245361328, 48.863426208496094, 1069.5...</td>\n",
       "      <td>[1621.7469482421875, 4081.46142578125, 144842....</td>\n",
       "    </tr>\n",
       "    <tr>\n",
       "      <th>1</th>\n",
       "      <td>[76.24039459228516, 20.65447425842285, 19.5505...</td>\n",
       "      <td>[8328.525390625, 1179.5438232421875, 1154.4130...</td>\n",
       "    </tr>\n",
       "    <tr>\n",
       "      <th>2</th>\n",
       "      <td>[463.6202392578125, 30.208181381225586, 51.137...</td>\n",
       "      <td>[45628.84765625, 2031.7901611328125, 3906.8823...</td>\n",
       "    </tr>\n",
       "    <tr>\n",
       "      <th>3</th>\n",
       "      <td>[1249.9248046875, 10.905760765075684, 48.07368...</td>\n",
       "      <td>[177122.296875, 185.31494140625, 2633.66186523...</td>\n",
       "    </tr>\n",
       "    <tr>\n",
       "      <th>4</th>\n",
       "      <td>[1127.27587890625, 151.6586456298828, 48.64171...</td>\n",
       "      <td>[127740.2578125, 12292.02734375, 3609.16528320...</td>\n",
       "    </tr>\n",
       "    <tr>\n",
       "      <th>5</th>\n",
       "      <td>[334.06317138671875, 735.7642822265625, 52.979...</td>\n",
       "      <td>[30031.09375, 76126.125, 6820.1923828125, 2122...</td>\n",
       "    </tr>\n",
       "    <tr>\n",
       "      <th>6</th>\n",
       "      <td>[23.055021286010742, 1249.220458984375, 48.213...</td>\n",
       "      <td>[1593.1502685546875, 139261.15625, 3263.903076...</td>\n",
       "    </tr>\n",
       "    <tr>\n",
       "      <th>7</th>\n",
       "      <td>[1018.8947143554688, 105.3125228881836, 64.901...</td>\n",
       "      <td>[140506.453125, 17841.8046875, 2364.0439453125...</td>\n",
       "    </tr>\n",
       "    <tr>\n",
       "      <th>8</th>\n",
       "      <td>[24.50779914855957, 178.9404296875, 36.9095916...</td>\n",
       "      <td>[1558.6829833984375, 16943.244140625, 381.2640...</td>\n",
       "    </tr>\n",
       "    <tr>\n",
       "      <th>9</th>\n",
       "      <td>[62.98199462890625, 240.53500366210938, 512.93...</td>\n",
       "      <td>[5207.96923828125, 21600.884765625, 50455.8320...</td>\n",
       "    </tr>\n",
       "  </tbody>\n",
       "</table>\n",
       "</div>"
      ],
      "text/plain": [
       "                                              height  \\\n",
       "0  [23.96845245361328, 48.863426208496094, 1069.5...   \n",
       "1  [76.24039459228516, 20.65447425842285, 19.5505...   \n",
       "2  [463.6202392578125, 30.208181381225586, 51.137...   \n",
       "3  [1249.9248046875, 10.905760765075684, 48.07368...   \n",
       "4  [1127.27587890625, 151.6586456298828, 48.64171...   \n",
       "5  [334.06317138671875, 735.7642822265625, 52.979...   \n",
       "6  [23.055021286010742, 1249.220458984375, 48.213...   \n",
       "7  [1018.8947143554688, 105.3125228881836, 64.901...   \n",
       "8  [24.50779914855957, 178.9404296875, 36.9095916...   \n",
       "9  [62.98199462890625, 240.53500366210938, 512.93...   \n",
       "\n",
       "                                                area  \n",
       "0  [1621.7469482421875, 4081.46142578125, 144842....  \n",
       "1  [8328.525390625, 1179.5438232421875, 1154.4130...  \n",
       "2  [45628.84765625, 2031.7901611328125, 3906.8823...  \n",
       "3  [177122.296875, 185.31494140625, 2633.66186523...  \n",
       "4  [127740.2578125, 12292.02734375, 3609.16528320...  \n",
       "5  [30031.09375, 76126.125, 6820.1923828125, 2122...  \n",
       "6  [1593.1502685546875, 139261.15625, 3263.903076...  \n",
       "7  [140506.453125, 17841.8046875, 2364.0439453125...  \n",
       "8  [1558.6829833984375, 16943.244140625, 381.2640...  \n",
       "9  [5207.96923828125, 21600.884765625, 50455.8320...  "
      ]
     },
     "execution_count": 11,
     "metadata": {},
     "output_type": "execute_result"
    }
   ],
   "source": [
    "#using pandas\n",
    "\n",
    "branches = uptree.arrays([\"height\", \"area\"], library=\"pd\", entry_stop=10) #note that making a cut here cannot be done\n",
    "branches #print pandas dataframe"
   ]
  },
  {
   "cell_type": "code",
   "execution_count": 12,
   "metadata": {
    "id": "PVzr4U6rdVkf",
    "outputId": "325fc7db-3c2f-4427-82f8-f4e71b06797f"
   },
   "outputs": [
    {
     "data": {
      "text/html": [
       "<pre>[{height: [1.07e+03], area: [1.45e+05]},\n",
       " {height: [1.25e+03, 1.25e+03, ..., 718], area: [...]},\n",
       " {height: [724], area: [7.68e+04]},\n",
       " {height: [1.25e+03, 923, ..., 936], area: [1.77e+05, ...]},\n",
       " {height: [1.13e+03], area: [1.28e+05]},\n",
       " {height: [736, 1.25e+03], area: [7.61e+04, ...]},\n",
       " {height: [1.25e+03, 1.07e+03], area: [1.39e+05, ...]},\n",
       " {height: [1.02e+03, ..., 1.07e+03], area: [1.41e+05, ...]},\n",
       " {height: [], area: []},\n",
       " {height: [513, 1.25e+03], area: [5.05e+04, ...]}]\n",
       "------------------------------------------------------------\n",
       "type: 10 * {\n",
       "    height: var * float32,\n",
       "    area: var * float32\n",
       "}</pre>"
      ],
      "text/plain": [
       "<Array [{height: [1.07e+03], ...}, ..., {...}] type='10 * {height: var * fl...'>"
      ]
     },
     "execution_count": 12,
     "metadata": {},
     "output_type": "execute_result"
    }
   ],
   "source": [
    "#using awkward\n",
    "\n",
    "branches = uptree.arrays([\"height\", \"area\"], cut=\"height >= 500\", entry_stop=100000)\n",
    "branches[:10] #print first 10 events"
   ]
  },
  {
   "cell_type": "markdown",
   "metadata": {
    "id": "7orQoebIdVkf"
   },
   "source": [
    "We can also make more cuts by defining a cut and then applying it to our branches. The cut will be arrays of booleans for each pulse that we can then apply to our data to \"make the cut\"."
   ]
  },
  {
   "cell_type": "code",
   "execution_count": 13,
   "metadata": {
    "id": "qWN65RkTdVkf",
    "outputId": "3adef060-b3d6-4a85-f69c-231307749e92"
   },
   "outputs": [
    {
     "data": {
      "text/html": [
       "<pre>[[True],\n",
       " [True, True, True, True],\n",
       " [True],\n",
       " [True, True, True, True, True, True],\n",
       " [True],\n",
       " [True, True],\n",
       " [True, True],\n",
       " [True, True, True],\n",
       " [],\n",
       " [True, True],\n",
       " ...,\n",
       " [],\n",
       " [True],\n",
       " [True, True],\n",
       " [True, True],\n",
       " [True, True, True, True, True, True],\n",
       " [True, True],\n",
       " [True, True, True],\n",
       " [],\n",
       " []]\n",
       "--------------------------------------\n",
       "type: 32880 * var * bool</pre>"
      ],
      "text/plain": [
       "<Array [[True], [True, True, ..., True], ..., [], []] type='32880 * var * bool'>"
      ]
     },
     "execution_count": 13,
     "metadata": {},
     "output_type": "execute_result"
    }
   ],
   "source": [
    "area_cut = branches['area'] >= 500 #cut requires area >= 500 pulse by pulse\n",
    "height_cut = branches['height'] >= 700 #cut requires height >= 700 pulse by pulse\n",
    "area_cut #print the area cut"
   ]
  },
  {
   "cell_type": "code",
   "execution_count": 14,
   "metadata": {
    "id": "WpVI-1JudVkf",
    "outputId": "6ba77d6e-bb2d-435f-a4c2-2d33cae51288"
   },
   "outputs": [
    {
     "data": {
      "text/html": [
       "<pre>[{height: [1.07e+03], area: [1.45e+05]},\n",
       " {height: [1.25e+03, 1.25e+03, ..., 718], area: [...]},\n",
       " {height: [724], area: [7.68e+04]},\n",
       " {height: [1.25e+03, 923, ..., 936], area: [1.77e+05, ...]},\n",
       " {height: [1.13e+03], area: [1.28e+05]},\n",
       " {height: [736, 1.25e+03], area: [7.61e+04, ...]},\n",
       " {height: [1.25e+03, 1.07e+03], area: [1.39e+05, ...]},\n",
       " {height: [1.02e+03, ..., 1.07e+03], area: [1.41e+05, ...]},\n",
       " {height: [], area: []},\n",
       " {height: [513, 1.25e+03], area: [5.05e+04, ...]},\n",
       " ...,\n",
       " {height: [], area: []},\n",
       " {height: [930], area: [8.18e+04]},\n",
       " {height: [1.25e+03, 1.25e+03], area: [1.64e+05, ...]},\n",
       " {height: [1.25e+03, 1.07e+03], area: [1.52e+05, ...]},\n",
       " {height: [648, 1.25e+03, ..., 985], area: [5.84e+04, ...]},\n",
       " {height: [1.25e+03, 1.25e+03], area: [1.74e+05, ...]},\n",
       " {height: [907, 1.25e+03, 1.07e+03], area: [9e+04, ...]},\n",
       " {height: [], area: []},\n",
       " {height: [], area: []}]\n",
       "------------------------------------------------------------\n",
       "type: 32880 * {\n",
       "    height: var * float32,\n",
       "    area: var * float32\n",
       "}</pre>"
      ],
      "text/plain": [
       "<Array [{height: [1.07e+03], ...}, ..., {...}] type='32880 * {height: var *...'>"
      ]
     },
     "execution_count": 14,
     "metadata": {},
     "output_type": "execute_result"
    }
   ],
   "source": [
    "branches_cut = branches[area_cut] #here we make the cut by saving only those pulses that have a True value for the cut\n",
    "branches_cut #print"
   ]
  },
  {
   "cell_type": "markdown",
   "metadata": {
    "id": "xT0rg-_-dVkf"
   },
   "source": [
    "We can make a quick plot of this data by using the hist package. First we need to define our histogram (bins, start, stop) the same as in root. Then we need to fill the histogram with a flattened awkward array."
   ]
  },
  {
   "cell_type": "code",
   "execution_count": 15,
   "metadata": {
    "id": "5ZnWA7s2dVkh",
    "outputId": "ac0b23e3-3603-40f7-9e50-b93eab981191"
   },
   "outputs": [
    {
     "data": {
      "text/html": [
       "<html>\n",
       "<div style=\"display:flex; align-items:center;\">\n",
       "<div style=\"width:290px;\">\n",
       "<svg xmlns=\"http://www.w3.org/2000/svg\" viewBox=\"-10 -105 270 120\">\n",
       "<line x1=\"-5\" y1=\"0\" x2=\"255\" y2=\"0\" style=\"fill:none;stroke-width:2;stroke:currentColor\"/>\n",
       "<text text-anchor=\"middle\" x=\"0\" y=\"15\" style=\"fill:currentColor;\">\n",
       "0\n",
       "</text>\n",
       "<text text-anchor=\"middle\" x=\"250\" y=\"15\" style=\"fill:currentColor;\">\n",
       "2e+05\n",
       "</text>\n",
       "<text text-anchor=\"middle\" x=\"125.0\" y=\"15\" style=\"fill:currentColor;\">\n",
       "Area\n",
       "</text>\n",
       "<polyline points=\"  0,0   0,-0 0.25,-0 0.25,-0 0.5,-0 0.5,-0 0.75,-0 0.75,-0   1,-0   1,-0 1.25,-0 1.25,-0 1.5,-0 1.5,-0 1.75,-0 1.75,-0   2,-0   2,-0 2.25,-0 2.25,-0 2.5,-0 2.5,-0 2.75,-0 2.75,-0   3,-0   3,-0 3.25,-0 3.25,-0 3.5,-0 3.5,-0 3.75,-0 3.75,-0   4,-0   4,-0 4.25,-0 4.25,-0 4.5,-0 4.5,-0 4.75,-0 4.75,-0   5,-0   5,-0 5.25,-0 5.25,-0 5.5,-0 5.5,-0 5.75,-0 5.75,-0   6,-0   6,-0 6.25,-0 6.25,-0 6.5,-0 6.5,-0.855 6.75,-0.855 6.75,-0   7,-0   7,-0 7.25,-0 7.25,-0 7.5,-0 7.5,-0 7.75,-0 7.75,-0   8,-0   8,-0 8.25,-0 8.25,-0 8.5,-0 8.5,-0 8.75,-0 8.75,-0.855   9,-0.855   9,-0 9.25,-0 9.25,-0 9.5,-0 9.5,-0 9.75,-0 9.75,-0  10,-0  10,-0 10.25,-0 10.25,-0 10.5,-0 10.5,-0 10.75,-0 10.75,-0.855  11,-0.855  11,-0.855 11.25,-0.855 11.25,-0.855 11.5,-0.855 11.5,-0 11.75,-0 11.75,-0  12,-0  12,-0.855 12.25,-0.855 12.25,-0 12.5,-0 12.5,-0 12.75,-0 12.75,-0  13,-0  13,-0 13.25,-0 13.25,-0 13.5,-0 13.5,-0 13.75,-0 13.75,-0.855  14,-0.855  14,-0 14.25,-0 14.25,-0 14.5,-0 14.5,-0 14.75,-0 14.75,-0  15,-0  15,-0.855 15.25,-0.855 15.25,-0 15.5,-0 15.5,-0 15.75,-0 15.75,-0.855  16,-0.855  16,-0 16.25,-0 16.25,-0 16.5,-0 16.5,-0 16.75,-0 16.75,-0  17,-0  17,-0 17.25,-0 17.25,-1.71 17.5,-1.71 17.5,-1.71 17.75,-1.71 17.75,-0  18,-0  18,-0.855 18.25,-0.855 18.25,-0 18.5,-0 18.5,-0 18.75,-0 18.75,-0  19,-0  19,-0 19.25,-0 19.25,-0.855 19.5,-0.855 19.5,-0 19.75,-0 19.75,-0  20,-0  20,-0 20.25,-0 20.25,-0 20.5,-0 20.5,-0 20.75,-0 20.75,-0  21,-0  21,-1.71 21.25,-1.71 21.25,-0 21.5,-0 21.5,-0.855 21.75,-0.855 21.75,-0  22,-0  22,-0 22.25,-0 22.25,-0 22.5,-0 22.5,-0 22.75,-0 22.75,-0  23,-0  23,-0 23.25,-0 23.25,-0 23.5,-0 23.5,-0 23.75,-0 23.75,-0.855  24,-0.855  24,-0 24.25,-0 24.25,-0 24.5,-0 24.5,-0 24.75,-0 24.75,-0  25,-0  25,-0 25.25,-0 25.25,-0.855 25.5,-0.855 25.5,-1.71 25.75,-1.71 25.75,-0.855  26,-0.855  26,-0 26.25,-0 26.25,-0 26.5,-0 26.5,-0.855 26.75,-0.855 26.75,-0  27,-0  27,-0 27.25,-0 27.25,-0 27.5,-0 27.5,-0 27.75,-0 27.75,-0  28,-0  28,-0 28.25,-0 28.25,-0 28.5,-0 28.5,-0 28.75,-0 28.75,-0.855  29,-0.855  29,-0.855 29.25,-0.855 29.25,-0.855 29.5,-0.855 29.5,-0 29.75,-0 29.75,-0.855  30,-0.855  30,-0 30.25,-0 30.25,-0 30.5,-0 30.5,-0 30.75,-0 30.75,-0.855  31,-0.855  31,-0.855 31.25,-0.855 31.25,-1.71 31.5,-1.71 31.5,-0.855 31.75,-0.855 31.75,-0  32,-0  32,-0 32.25,-0 32.25,-2.56 32.5,-2.56 32.5,-0 32.75,-0 32.75,-0.855  33,-0.855  33,-0.855 33.25,-0.855 33.25,-0 33.5,-0 33.5,-1.71 33.75,-1.71 33.75,-1.71  34,-1.71  34,-0.855 34.25,-0.855 34.25,-0.855 34.5,-0.855 34.5,-0.855 34.75,-0.855 34.75,-0  35,-0  35,-0 35.25,-0 35.25,-1.71 35.5,-1.71 35.5,-0.855 35.75,-0.855 35.75,-0.855  36,-0.855  36,-0.855 36.25,-0.855 36.25,-0.855 36.5,-0.855 36.5,-0.855 36.75,-0.855 36.75,-2.56  37,-2.56  37,-0.855 37.25,-0.855 37.25,-2.56 37.5,-2.56 37.5,-0.855 37.75,-0.855 37.75,-1.71  38,-1.71  38,-1.71 38.25,-1.71 38.25,-0 38.5,-0 38.5,-1.71 38.75,-1.71 38.75,-1.71  39,-1.71  39,-1.71 39.25,-1.71 39.25,-0.855 39.5,-0.855 39.5,-2.56 39.75,-2.56 39.75,-0.855  40,-0.855  40,-1.71 40.25,-1.71 40.25,-0.855 40.5,-0.855 40.5,-0.855 40.75,-0.855 40.75,-2.56  41,-2.56  41,-2.56 41.25,-2.56 41.25,-2.56 41.5,-2.56 41.5,-3.42 41.75,-3.42 41.75,-0  42,-0  42,-5.13 42.25,-5.13 42.25,-3.42 42.5,-3.42 42.5,-5.13 42.75,-5.13 42.75,-2.56  43,-2.56  43,-5.98 43.25,-5.98 43.25,-5.98 43.5,-5.98 43.5,-6.84 43.75,-6.84 43.75,-5.13  44,-5.13  44,-4.27 44.25,-4.27 44.25,-7.69 44.5,-7.69 44.5,-5.98 44.75,-5.98 44.75,-6.84  45,-6.84  45,-5.98 45.25,-5.98 45.25,-5.98 45.5,-5.98 45.5,-10.3 45.75,-10.3 45.75,-10.3  46,-10.3  46,-10.3 46.25,-10.3 46.25,-8.55 46.5,-8.55 46.5,-10.3 46.75,-10.3 46.75,-11.1  47,-11.1  47,-16.2 47.25,-16.2 47.25,-12 47.5,-12 47.5,-11.1 47.75,-11.1 47.75,-15.4  48,-15.4  48,-13.7 48.25,-13.7 48.25,-16.2 48.5,-16.2 48.5,-16.2 48.75,-16.2 48.75,-17.1  49,-17.1  49,-15.4 49.25,-15.4 49.25,-19.7 49.5,-19.7 49.5,-19.7 49.75,-19.7 49.75,-16.2  50,-16.2  50,-19.7 50.25,-19.7 50.25,-18.8 50.5,-18.8 50.5,-8.55 50.75,-8.55 50.75,-19.7  51,-19.7  51,-29.9 51.25,-29.9 51.25,-23.1 51.5,-23.1 51.5,-23.1 51.75,-23.1 51.75,-23.9  52,-23.9  52,-21.4 52.25,-21.4 52.25,-27.4 52.5,-27.4 52.5,-22.2 52.75,-22.2 52.75,-23.9  53,-23.9  53,-29.1 53.25,-29.1 53.25,-29.9 53.5,-29.9 53.5,-29.9 53.75,-29.9 53.75,-29.1  54,-29.1  54,-26.5 54.25,-26.5 54.25,-24.8 54.5,-24.8 54.5,-38.5 54.75,-38.5 54.75,-29.1  55,-29.1  55,-35 55.25,-35 55.25,-40.2 55.5,-40.2 55.5,-38.5 55.75,-38.5 55.75,-37.6  56,-37.6  56,-34.2 56.25,-34.2 56.25,-33.3 56.5,-33.3 56.5,-30.8 56.75,-30.8 56.75,-35.9  57,-35.9  57,-50.4 57.25,-50.4 57.25,-47.9 57.5,-47.9 57.5,-46.2 57.75,-46.2 57.75,-50.4  58,-50.4  58,-38.5 58.25,-38.5 58.25,-41 58.5,-41 58.5,-64.1 58.75,-64.1 58.75,-53  59,-53  59,-51.3 59.25,-51.3 59.25,-46.2 59.5,-46.2 59.5,-58.1 59.75,-58.1 59.75,-59  60,-59  60,-61.5 60.25,-61.5 60.25,-63.2 60.5,-63.2 60.5,-70.1 60.75,-70.1 60.75,-64.1  61,-64.1  61,-58.1 61.25,-58.1 61.25,-76.1 61.5,-76.1 61.5,-63.2 61.75,-63.2 61.75,-73.5  62,-73.5  62,-58.1 62.25,-58.1 62.25,-67.5 62.5,-67.5 62.5,-75.2 62.75,-75.2 62.75,-73.5  63,-73.5  63,-70.1 63.25,-70.1 63.25,-67.5 63.5,-67.5 63.5,-69.2 63.75,-69.2 63.75,-76.9  64,-76.9  64,-71.8 64.25,-71.8 64.25,-78.6 64.5,-78.6 64.5,-66.7 64.75,-66.7 64.75,-75.2  65,-75.2  65,-92.3 65.25,-92.3 65.25,-72.6 65.5,-72.6 65.5,-81.2 65.75,-81.2 65.75,-80.3  66,-80.3  66,-77.8 66.25,-77.8 66.25,-75.2 66.5,-75.2 66.5,-82.9 66.75,-82.9 66.75,-75.2  67,-75.2  67,-73.5 67.25,-73.5 67.25,-78.6 67.5,-78.6 67.5,-88.9 67.75,-88.9 67.75,-74.4  68,-74.4  68,-85.5 68.25,-85.5 68.25,-100 68.5,-100 68.5,-77.8 68.75,-77.8 68.75,-89.7  69,-89.7  69,-99.1 69.25,-99.1 69.25,-80.3 69.5,-80.3 69.5,-88 69.75,-88 69.75,-78.6  70,-78.6  70,-65 70.25,-65 70.25,-80.3 70.5,-80.3 70.5,-89.7 70.75,-89.7 70.75,-64.1  71,-64.1  71,-93.2 71.25,-93.2 71.25,-60.7 71.5,-60.7 71.5,-81.2 71.75,-81.2 71.75,-77.8  72,-77.8  72,-68.4 72.25,-68.4 72.25,-76.1 72.5,-76.1 72.5,-84.6 72.75,-84.6 72.75,-74.4  73,-74.4  73,-82.9 73.25,-82.9 73.25,-77.8 73.5,-77.8 73.5,-76.9 73.75,-76.9 73.75,-71.8  74,-71.8  74,-72.6 74.25,-72.6 74.25,-75.2 74.5,-75.2 74.5,-80.3 74.75,-80.3 74.75,-90.6  75,-90.6  75,-70.9 75.25,-70.9 75.25,-79.5 75.5,-79.5 75.5,-92.3 75.75,-92.3 75.75,-59.8  76,-59.8  76,-73.5 76.25,-73.5 76.25,-86.3 76.5,-86.3 76.5,-70.9 76.75,-70.9 76.75,-81.2  77,-81.2  77,-72.6 77.25,-72.6 77.25,-72.6 77.5,-72.6 77.5,-88 77.75,-88 77.75,-74.4  78,-74.4  78,-76.9 78.25,-76.9 78.25,-62.4 78.5,-62.4 78.5,-78.6 78.75,-78.6 78.75,-85.5  79,-85.5  79,-70.9 79.25,-70.9 79.25,-71.8 79.5,-71.8 79.5,-76.1 79.75,-76.1 79.75,-73.5  80,-73.5  80,-70.1 80.25,-70.1 80.25,-72.6 80.5,-72.6 80.5,-70.9 80.75,-70.9 80.75,-63.2  81,-63.2  81,-62.4 81.25,-62.4 81.25,-76.1 81.5,-76.1 81.5,-75.2 81.75,-75.2 81.75,-54.7  82,-54.7  82,-66.7 82.25,-66.7 82.25,-69.2 82.5,-69.2 82.5,-64.1 82.75,-64.1 82.75,-74.4  83,-74.4  83,-70.1 83.25,-70.1 83.25,-46.2 83.5,-46.2 83.5,-53 83.75,-53 83.75,-69.2  84,-69.2  84,-52.1 84.25,-52.1 84.25,-66.7 84.5,-66.7 84.5,-77.8 84.75,-77.8 84.75,-73.5  85,-73.5  85,-71.8 85.25,-71.8 85.25,-61.5 85.5,-61.5 85.5,-80.3 85.75,-80.3 85.75,-69.2  86,-69.2  86,-57.3 86.25,-57.3 86.25,-73.5 86.5,-73.5 86.5,-65 86.75,-65 86.75,-62.4  87,-62.4  87,-62.4 87.25,-62.4 87.25,-65.8 87.5,-65.8 87.5,-70.1 87.75,-70.1 87.75,-66.7  88,-66.7  88,-65 88.25,-65 88.25,-55.6 88.5,-55.6 88.5,-76.9 88.75,-76.9 88.75,-73.5  89,-73.5  89,-70.1 89.25,-70.1 89.25,-66.7 89.5,-66.7 89.5,-72.6 89.75,-72.6 89.75,-57.3  90,-57.3  90,-70.9 90.25,-70.9 90.25,-67.5 90.5,-67.5 90.5,-59.8 90.75,-59.8 90.75,-63.2  91,-63.2  91,-72.6 91.25,-72.6 91.25,-68.4 91.5,-68.4 91.5,-55.6 91.75,-55.6 91.75,-54.7  92,-54.7  92,-47 92.25,-47 92.25,-61.5 92.5,-61.5 92.5,-58.1 92.75,-58.1 92.75,-63.2  93,-63.2  93,-66.7 93.25,-66.7 93.25,-63.2 93.5,-63.2 93.5,-62.4 93.75,-62.4 93.75,-54.7  94,-54.7  94,-81.2 94.25,-81.2 94.25,-62.4 94.5,-62.4 94.5,-45.3 94.75,-45.3 94.75,-62.4  95,-62.4  95,-78.6 95.25,-78.6 95.25,-49.6 95.5,-49.6 95.5,-58.1 95.75,-58.1 95.75,-51.3  96,-51.3  96,-72.6 96.25,-72.6 96.25,-58.1 96.5,-58.1 96.5,-55.6 96.75,-55.6 96.75,-59.8  97,-59.8  97,-52.1 97.25,-52.1 97.25,-63.2 97.5,-63.2 97.5,-45.3 97.75,-45.3 97.75,-59  98,-59  98,-42.7 98.25,-42.7 98.25,-52.1 98.5,-52.1 98.5,-58.1 98.75,-58.1 98.75,-64.1  99,-64.1  99,-45.3 99.25,-45.3 99.25,-57.3 99.5,-57.3 99.5,-63.2 99.75,-63.2 99.75,-57.3 100,-57.3 100,-52.1 100.25,-52.1 100.25,-60.7 100.5,-60.7 100.5,-63.2 100.75,-63.2 100.75,-54.7 101,-54.7 101,-65 101.25,-65 101.25,-50.4 101.5,-50.4 101.5,-53.8 101.75,-53.8 101.75,-56.4 102,-56.4 102,-54.7 102.25,-54.7 102.25,-62.4 102.5,-62.4 102.5,-70.1 102.75,-70.1 102.75,-53.8 103,-53.8 103,-62.4 103.25,-62.4 103.25,-60.7 103.5,-60.7 103.5,-63.2 103.75,-63.2 103.75,-45.3 104,-45.3 104,-62.4 104.25,-62.4 104.25,-52.1 104.5,-52.1 104.5,-51.3 104.75,-51.3 104.75,-55.6 105,-55.6 105,-48.7 105.25,-48.7 105.25,-62.4 105.5,-62.4 105.5,-58.1 105.75,-58.1 105.75,-59 106,-59 106,-57.3 106.25,-57.3 106.25,-60.7 106.5,-60.7 106.5,-55.6 106.75,-55.6 106.75,-53 107,-53 107,-51.3 107.25,-51.3 107.25,-53 107.5,-53 107.5,-52.1 107.75,-52.1 107.75,-46.2 108,-46.2 108,-49.6 108.25,-49.6 108.25,-50.4 108.5,-50.4 108.5,-41.9 108.75,-41.9 108.75,-63.2 109,-63.2 109,-48.7 109.25,-48.7 109.25,-58.1 109.5,-58.1 109.5,-44.4 109.75,-44.4 109.75,-56.4 110,-56.4 110,-50.4 110.25,-50.4 110.25,-52.1 110.5,-52.1 110.5,-62.4 110.75,-62.4 110.75,-51.3 111,-51.3 111,-41 111.25,-41 111.25,-46.2 111.5,-46.2 111.5,-54.7 111.75,-54.7 111.75,-50.4 112,-50.4 112,-51.3 112.25,-51.3 112.25,-47 112.5,-47 112.5,-52.1 112.75,-52.1 112.75,-56.4 113,-56.4 113,-56.4 113.25,-56.4 113.25,-60.7 113.5,-60.7 113.5,-69.2 113.75,-69.2 113.75,-54.7 114,-54.7 114,-53.8 114.25,-53.8 114.25,-48.7 114.5,-48.7 114.5,-59 114.75,-59 114.75,-51.3 115,-51.3 115,-53.8 115.25,-53.8 115.25,-50.4 115.5,-50.4 115.5,-62.4 115.75,-62.4 115.75,-57.3 116,-57.3 116,-59 116.25,-59 116.25,-59.8 116.5,-59.8 116.5,-57.3 116.75,-57.3 116.75,-51.3 117,-51.3 117,-54.7 117.25,-54.7 117.25,-59.8 117.5,-59.8 117.5,-63.2 117.75,-63.2 117.75,-59.8 118,-59.8 118,-54.7 118.25,-54.7 118.25,-51.3 118.5,-51.3 118.5,-63.2 118.75,-63.2 118.75,-55.6 119,-55.6 119,-50.4 119.25,-50.4 119.25,-53 119.5,-53 119.5,-54.7 119.75,-54.7 119.75,-56.4 120,-56.4 120,-70.9 120.25,-70.9 120.25,-50.4 120.5,-50.4 120.5,-58.1 120.75,-58.1 120.75,-44.4 121,-44.4 121,-59 121.25,-59 121.25,-59.8 121.5,-59.8 121.5,-47.9 121.75,-47.9 121.75,-63.2 122,-63.2 122,-57.3 122.25,-57.3 122.25,-59 122.5,-59 122.5,-42.7 122.75,-42.7 122.75,-56.4 123,-56.4 123,-49.6 123.25,-49.6 123.25,-59.8 123.5,-59.8 123.5,-59 123.75,-59 123.75,-42.7 124,-42.7 124,-51.3 124.25,-51.3 124.25,-48.7 124.5,-48.7 124.5,-52.1 124.75,-52.1 124.75,-47 125,-47 125,-70.9 125.25,-70.9 125.25,-50.4 125.5,-50.4 125.5,-53 125.75,-53 125.75,-57.3 126,-57.3 126,-51.3 126.25,-51.3 126.25,-53 126.5,-53 126.5,-59 126.75,-59 126.75,-47.9 127,-47.9 127,-48.7 127.25,-48.7 127.25,-61.5 127.5,-61.5 127.5,-52.1 127.75,-52.1 127.75,-64.1 128,-64.1 128,-45.3 128.25,-45.3 128.25,-41 128.5,-41 128.5,-51.3 128.75,-51.3 128.75,-59 129,-59 129,-65 129.25,-65 129.25,-58.1 129.5,-58.1 129.5,-65 129.75,-65 129.75,-49.6 130,-49.6 130,-60.7 130.25,-60.7 130.25,-46.2 130.5,-46.2 130.5,-47.9 130.75,-47.9 130.75,-41 131,-41 131,-56.4 131.25,-56.4 131.25,-39.3 131.5,-39.3 131.5,-47 131.75,-47 131.75,-43.6 132,-43.6 132,-52.1 132.25,-52.1 132.25,-58.1 132.5,-58.1 132.5,-52.1 132.75,-52.1 132.75,-52.1 133,-52.1 133,-49.6 133.25,-49.6 133.25,-41 133.5,-41 133.5,-45.3 133.75,-45.3 133.75,-40.2 134,-40.2 134,-47 134.25,-47 134.25,-45.3 134.5,-45.3 134.5,-48.7 134.75,-48.7 134.75,-50.4 135,-50.4 135,-46.2 135.25,-46.2 135.25,-47 135.5,-47 135.5,-53 135.75,-53 135.75,-45.3 136,-45.3 136,-47 136.25,-47 136.25,-53.8 136.5,-53.8 136.5,-51.3 136.75,-51.3 136.75,-68.4 137,-68.4 137,-48.7 137.25,-48.7 137.25,-42.7 137.5,-42.7 137.5,-30.8 137.75,-30.8 137.75,-48.7 138,-48.7 138,-52.1 138.25,-52.1 138.25,-41 138.5,-41 138.5,-41 138.75,-41 138.75,-45.3 139,-45.3 139,-45.3 139.25,-45.3 139.25,-46.2 139.5,-46.2 139.5,-53 139.75,-53 139.75,-44.4 140,-44.4 140,-55.6 140.25,-55.6 140.25,-50.4 140.5,-50.4 140.5,-50.4 140.75,-50.4 140.75,-40.2 141,-40.2 141,-40.2 141.25,-40.2 141.25,-38.5 141.5,-38.5 141.5,-56.4 141.75,-56.4 141.75,-47 142,-47 142,-56.4 142.25,-56.4 142.25,-48.7 142.5,-48.7 142.5,-51.3 142.75,-51.3 142.75,-46.2 143,-46.2 143,-42.7 143.25,-42.7 143.25,-39.3 143.5,-39.3 143.5,-54.7 143.75,-54.7 143.75,-53 144,-53 144,-31.6 144.25,-31.6 144.25,-56.4 144.5,-56.4 144.5,-43.6 144.75,-43.6 144.75,-54.7 145,-54.7 145,-51.3 145.25,-51.3 145.25,-55.6 145.5,-55.6 145.5,-45.3 145.75,-45.3 145.75,-42.7 146,-42.7 146,-47.9 146.25,-47.9 146.25,-48.7 146.5,-48.7 146.5,-53 146.75,-53 146.75,-41 147,-41 147,-49.6 147.25,-49.6 147.25,-41.9 147.5,-41.9 147.5,-49.6 147.75,-49.6 147.75,-41 148,-41 148,-41 148.25,-41 148.25,-33.3 148.5,-33.3 148.5,-36.8 148.75,-36.8 148.75,-41 149,-41 149,-59.8 149.25,-59.8 149.25,-41 149.5,-41 149.5,-52.1 149.75,-52.1 149.75,-43.6 150,-43.6 150,-40.2 150.25,-40.2 150.25,-36.8 150.5,-36.8 150.5,-46.2 150.75,-46.2 150.75,-35 151,-35 151,-53 151.25,-53 151.25,-47 151.5,-47 151.5,-46.2 151.75,-46.2 151.75,-54.7 152,-54.7 152,-39.3 152.25,-39.3 152.25,-48.7 152.5,-48.7 152.5,-35.9 152.75,-35.9 152.75,-46.2 153,-46.2 153,-44.4 153.25,-44.4 153.25,-41 153.5,-41 153.5,-39.3 153.75,-39.3 153.75,-47 154,-47 154,-43.6 154.25,-43.6 154.25,-37.6 154.5,-37.6 154.5,-39.3 154.75,-39.3 154.75,-44.4 155,-44.4 155,-59.8 155.25,-59.8 155.25,-42.7 155.5,-42.7 155.5,-40.2 155.75,-40.2 155.75,-45.3 156,-45.3 156,-45.3 156.25,-45.3 156.25,-43.6 156.5,-43.6 156.5,-48.7 156.75,-48.7 156.75,-48.7 157,-48.7 157,-38.5 157.25,-38.5 157.25,-47.9 157.5,-47.9 157.5,-41.9 157.75,-41.9 157.75,-42.7 158,-42.7 158,-42.7 158.25,-42.7 158.25,-37.6 158.5,-37.6 158.5,-41 158.75,-41 158.75,-35.9 159,-35.9 159,-48.7 159.25,-48.7 159.25,-34.2 159.5,-34.2 159.5,-39.3 159.75,-39.3 159.75,-53 160,-53 160,-47 160.25,-47 160.25,-46.2 160.5,-46.2 160.5,-35 160.75,-35 160.75,-41.9 161,-41.9 161,-45.3 161.25,-45.3 161.25,-37.6 161.5,-37.6 161.5,-47.9 161.75,-47.9 161.75,-39.3 162,-39.3 162,-44.4 162.25,-44.4 162.25,-39.3 162.5,-39.3 162.5,-44.4 162.75,-44.4 162.75,-34.2 163,-34.2 163,-39.3 163.25,-39.3 163.25,-35.9 163.5,-35.9 163.5,-59 163.75,-59 163.75,-41.9 164,-41.9 164,-52.1 164.25,-52.1 164.25,-41 164.5,-41 164.5,-33.3 164.75,-33.3 164.75,-41.9 165,-41.9 165,-41.9 165.25,-41.9 165.25,-53 165.5,-53 165.5,-36.8 165.75,-36.8 165.75,-44.4 166,-44.4 166,-42.7 166.25,-42.7 166.25,-42.7 166.5,-42.7 166.5,-28.2 166.75,-28.2 166.75,-46.2 167,-46.2 167,-30.8 167.25,-30.8 167.25,-38.5 167.5,-38.5 167.5,-41 167.75,-41 167.75,-41 168,-41 168,-51.3 168.25,-51.3 168.25,-41 168.5,-41 168.5,-39.3 168.75,-39.3 168.75,-42.7 169,-42.7 169,-41 169.25,-41 169.25,-41 169.5,-41 169.5,-31.6 169.75,-31.6 169.75,-32.5 170,-32.5 170,-47 170.25,-47 170.25,-29.9 170.5,-29.9 170.5,-41 170.75,-41 170.75,-35.9 171,-35.9 171,-45.3 171.25,-45.3 171.25,-47 171.5,-47 171.5,-38.5 171.75,-38.5 171.75,-36.8 172,-36.8 172,-41 172.25,-41 172.25,-35.9 172.5,-35.9 172.5,-42.7 172.75,-42.7 172.75,-51.3 173,-51.3 173,-36.8 173.25,-36.8 173.25,-46.2 173.5,-46.2 173.5,-44.4 173.75,-44.4 173.75,-54.7 174,-54.7 174,-37.6 174.25,-37.6 174.25,-39.3 174.5,-39.3 174.5,-41.9 174.75,-41.9 174.75,-45.3 175,-45.3 175,-40.2 175.25,-40.2 175.25,-37.6 175.5,-37.6 175.5,-42.7 175.75,-42.7 175.75,-39.3 176,-39.3 176,-47 176.25,-47 176.25,-38.5 176.5,-38.5 176.5,-29.1 176.75,-29.1 176.75,-34.2 177,-34.2 177,-37.6 177.25,-37.6 177.25,-38.5 177.5,-38.5 177.5,-40.2 177.75,-40.2 177.75,-40.2 178,-40.2 178,-47.9 178.25,-47.9 178.25,-47 178.5,-47 178.5,-42.7 178.75,-42.7 178.75,-41 179,-41 179,-38.5 179.25,-38.5 179.25,-43.6 179.5,-43.6 179.5,-44.4 179.75,-44.4 179.75,-33.3 180,-33.3 180,-35 180.25,-35 180.25,-46.2 180.5,-46.2 180.5,-41.9 180.75,-41.9 180.75,-36.8 181,-36.8 181,-51.3 181.25,-51.3 181.25,-49.6 181.5,-49.6 181.5,-41.9 181.75,-41.9 181.75,-48.7 182,-48.7 182,-45.3 182.25,-45.3 182.25,-44.4 182.5,-44.4 182.5,-41 182.75,-41 182.75,-42.7 183,-42.7 183,-50.4 183.25,-50.4 183.25,-41 183.5,-41 183.5,-35.9 183.75,-35.9 183.75,-38.5 184,-38.5 184,-47 184.25,-47 184.25,-34.2 184.5,-34.2 184.5,-39.3 184.75,-39.3 184.75,-48.7 185,-48.7 185,-50.4 185.25,-50.4 185.25,-46.2 185.5,-46.2 185.5,-29.1 185.75,-29.1 185.75,-34.2 186,-34.2 186,-47 186.25,-47 186.25,-41 186.5,-41 186.5,-45.3 186.75,-45.3 186.75,-57.3 187,-57.3 187,-55.6 187.25,-55.6 187.25,-41 187.5,-41 187.5,-42.7 187.75,-42.7 187.75,-49.6 188,-49.6 188,-49.6 188.25,-49.6 188.25,-39.3 188.5,-39.3 188.5,-43.6 188.75,-43.6 188.75,-44.4 189,-44.4 189,-65.8 189.25,-65.8 189.25,-41 189.5,-41 189.5,-36.8 189.75,-36.8 189.75,-39.3 190,-39.3 190,-43.6 190.25,-43.6 190.25,-53.8 190.5,-53.8 190.5,-52.1 190.75,-52.1 190.75,-39.3 191,-39.3 191,-44.4 191.25,-44.4 191.25,-41.9 191.5,-41.9 191.5,-39.3 191.75,-39.3 191.75,-47 192,-47 192,-46.2 192.25,-46.2 192.25,-53.8 192.5,-53.8 192.5,-43.6 192.75,-43.6 192.75,-41.9 193,-41.9 193,-38.5 193.25,-38.5 193.25,-48.7 193.5,-48.7 193.5,-47 193.75,-47 193.75,-48.7 194,-48.7 194,-58.1 194.25,-58.1 194.25,-44.4 194.5,-44.4 194.5,-41 194.75,-41 194.75,-49.6 195,-49.6 195,-59 195.25,-59 195.25,-46.2 195.5,-46.2 195.5,-42.7 195.75,-42.7 195.75,-48.7 196,-48.7 196,-58.1 196.25,-58.1 196.25,-35 196.5,-35 196.5,-65.8 196.75,-65.8 196.75,-45.3 197,-45.3 197,-56.4 197.25,-56.4 197.25,-44.4 197.5,-44.4 197.5,-59 197.75,-59 197.75,-45.3 198,-45.3 198,-49.6 198.25,-49.6 198.25,-47.9 198.5,-47.9 198.5,-46.2 198.75,-46.2 198.75,-59 199,-59 199,-36.8 199.25,-36.8 199.25,-47 199.5,-47 199.5,-73.5 199.75,-73.5 199.75,-51.3 200,-51.3 200,-52.1 200.25,-52.1 200.25,-42.7 200.5,-42.7 200.5,-75.2 200.75,-75.2 200.75,-53 201,-53 201,-47 201.25,-47 201.25,-35.9 201.5,-35.9 201.5,-41 201.75,-41 201.75,-50.4 202,-50.4 202,-48.7 202.25,-48.7 202.25,-49.6 202.5,-49.6 202.5,-53.8 202.75,-53.8 202.75,-47.9 203,-47.9 203,-56.4 203.25,-56.4 203.25,-51.3 203.5,-51.3 203.5,-53 203.75,-53 203.75,-46.2 204,-46.2 204,-59 204.25,-59 204.25,-43.6 204.5,-43.6 204.5,-48.7 204.75,-48.7 204.75,-49.6 205,-49.6 205,-64.1 205.25,-64.1 205.25,-47 205.5,-47 205.5,-61.5 205.75,-61.5 205.75,-56.4 206,-56.4 206,-52.1 206.25,-52.1 206.25,-66.7 206.5,-66.7 206.5,-53 206.75,-53 206.75,-63.2 207,-63.2 207,-49.6 207.25,-49.6 207.25,-61.5 207.5,-61.5 207.5,-53 207.75,-53 207.75,-49.6 208,-49.6 208,-47 208.25,-47 208.25,-59.8 208.5,-59.8 208.5,-53 208.75,-53 208.75,-48.7 209,-48.7 209,-45.3 209.25,-45.3 209.25,-53.8 209.5,-53.8 209.5,-57.3 209.75,-57.3 209.75,-65 210,-65 210,-63.2 210.25,-63.2 210.25,-56.4 210.5,-56.4 210.5,-53 210.75,-53 210.75,-55.6 211,-55.6 211,-65 211.25,-65 211.25,-58.1 211.5,-58.1 211.5,-53 211.75,-53 211.75,-50.4 212,-50.4 212,-47 212.25,-47 212.25,-56.4 212.5,-56.4 212.5,-57.3 212.75,-57.3 212.75,-46.2 213,-46.2 213,-56.4 213.25,-56.4 213.25,-43.6 213.5,-43.6 213.5,-55.6 213.75,-55.6 213.75,-47 214,-47 214,-47.9 214.25,-47.9 214.25,-59.8 214.5,-59.8 214.5,-59 214.75,-59 214.75,-60.7 215,-60.7 215,-57.3 215.25,-57.3 215.25,-58.1 215.5,-58.1 215.5,-69.2 215.75,-69.2 215.75,-57.3 216,-57.3 216,-42.7 216.25,-42.7 216.25,-53.8 216.5,-53.8 216.5,-65 216.75,-65 216.75,-43.6 217,-43.6 217,-50.4 217.25,-50.4 217.25,-54.7 217.5,-54.7 217.5,-47 217.75,-47 217.75,-53.8 218,-53.8 218,-65 218.25,-65 218.25,-44.4 218.5,-44.4 218.5,-53.8 218.75,-53.8 218.75,-53.8 219,-53.8 219,-59 219.25,-59 219.25,-54.7 219.5,-54.7 219.5,-67.5 219.75,-67.5 219.75,-56.4 220,-56.4 220,-41.9 220.25,-41.9 220.25,-41 220.5,-41 220.5,-48.7 220.75,-48.7 220.75,-54.7 221,-54.7 221,-57.3 221.25,-57.3 221.25,-57.3 221.5,-57.3 221.5,-62.4 221.75,-62.4 221.75,-54.7 222,-54.7 222,-54.7 222.25,-54.7 222.25,-52.1 222.5,-52.1 222.5,-40.2 222.75,-40.2 222.75,-45.3 223,-45.3 223,-41 223.25,-41 223.25,-57.3 223.5,-57.3 223.5,-64.1 223.75,-64.1 223.75,-55.6 224,-55.6 224,-47 224.25,-47 224.25,-59 224.5,-59 224.5,-50.4 224.75,-50.4 224.75,-49.6 225,-49.6 225,-59.8 225.25,-59.8 225.25,-52.1 225.5,-52.1 225.5,-47 225.75,-47 225.75,-35.9 226,-35.9 226,-65 226.25,-65 226.25,-47.9 226.5,-47.9 226.5,-41.9 226.75,-41.9 226.75,-46.2 227,-46.2 227,-53.8 227.25,-53.8 227.25,-62.4 227.5,-62.4 227.5,-53.8 227.75,-53.8 227.75,-35.9 228,-35.9 228,-43.6 228.25,-43.6 228.25,-53.8 228.5,-53.8 228.5,-52.1 228.75,-52.1 228.75,-50.4 229,-50.4 229,-38.5 229.25,-38.5 229.25,-46.2 229.5,-46.2 229.5,-45.3 229.75,-45.3 229.75,-43.6 230,-43.6 230,-57.3 230.25,-57.3 230.25,-43.6 230.5,-43.6 230.5,-51.3 230.75,-51.3 230.75,-57.3 231,-57.3 231,-52.1 231.25,-52.1 231.25,-45.3 231.5,-45.3 231.5,-51.3 231.75,-51.3 231.75,-45.3 232,-45.3 232,-41 232.25,-41 232.25,-50.4 232.5,-50.4 232.5,-46.2 232.75,-46.2 232.75,-43.6 233,-43.6 233,-42.7 233.25,-42.7 233.25,-47 233.5,-47 233.5,-40.2 233.75,-40.2 233.75,-40.2 234,-40.2 234,-39.3 234.25,-39.3 234.25,-41.9 234.5,-41.9 234.5,-38.5 234.75,-38.5 234.75,-55.6 235,-55.6 235,-41.9 235.25,-41.9 235.25,-34.2 235.5,-34.2 235.5,-46.2 235.75,-46.2 235.75,-35.9 236,-35.9 236,-41 236.25,-41 236.25,-47 236.5,-47 236.5,-37.6 236.75,-37.6 236.75,-33.3 237,-33.3 237,-46.2 237.25,-46.2 237.25,-40.2 237.5,-40.2 237.5,-48.7 237.75,-48.7 237.75,-42.7 238,-42.7 238,-37.6 238.25,-37.6 238.25,-41 238.5,-41 238.5,-42.7 238.75,-42.7 238.75,-43.6 239,-43.6 239,-45.3 239.25,-45.3 239.25,-42.7 239.5,-42.7 239.5,-41 239.75,-41 239.75,-51.3 240,-51.3 240,-44.4 240.25,-44.4 240.25,-34.2 240.5,-34.2 240.5,-36.8 240.75,-36.8 240.75,-39.3 241,-39.3 241,-41 241.25,-41 241.25,-39.3 241.5,-39.3 241.5,-45.3 241.75,-45.3 241.75,-35 242,-35 242,-23.9 242.25,-23.9 242.25,-39.3 242.5,-39.3 242.5,-33.3 242.75,-33.3 242.75,-36.8 243,-36.8 243,-46.2 243.25,-46.2 243.25,-35 243.5,-35 243.5,-47.9 243.75,-47.9 243.75,-41 244,-41 244,-35 244.25,-35 244.25,-35 244.5,-35 244.5,-35 244.75,-35 244.75,-35.9 245,-35.9 245,-41 245.25,-41 245.25,-23.1 245.5,-23.1 245.5,-41.9 245.75,-41.9 245.75,-43.6 246,-43.6 246,-34.2 246.25,-34.2 246.25,-34.2 246.5,-34.2 246.5,-43.6 246.75,-43.6 246.75,-44.4 247,-44.4 247,-41.9 247.25,-41.9 247.25,-41.9 247.5,-41.9 247.5,-40.2 247.75,-40.2 247.75,-31.6 248,-31.6 248,-36.8 248.25,-36.8 248.25,-28.2 248.5,-28.2 248.5,-36.8 248.75,-36.8 248.75,-33.3 249,-33.3 249,-39.3 249.25,-39.3 249.25,-32.5 249.5,-32.5 249.5,-34.2 249.75,-34.2 249.75,-46.2 250,-46.2 250,0\" style=\"fill:none; stroke:currentColor;\"/>\n",
       "</svg>\n",
       "</div>\n",
       "<div style=\"flex=grow:1;\">\n",
       "Regular(1000, 0, 200000, name='Area')<br/>\n",
       "<hr style=\"margin-top:.2em; margin-bottom:.2em;\"/>\n",
       "Double() Σ=48759.0 <em>(58829.0 with flow)</em>\n",
       "\n",
       "</div>\n",
       "</div>\n",
       "</html>"
      ],
      "text/plain": [
       "Hist(Regular(1000, 0, 200000, name='Area'), storage=Double()) # Sum: 48759.0 (58829.0 with flow)"
      ]
     },
     "execution_count": 15,
     "metadata": {},
     "output_type": "execute_result"
    }
   ],
   "source": [
    "h1 = hist.Hist.new.Reg(1000, 0, 200000, name=\"Area\").Double()\n",
    "h1.fill(ak.flatten(branches_cut['area']))"
   ]
  },
  {
   "cell_type": "code",
   "execution_count": 16,
   "metadata": {
    "id": "7eSqyDl-dVkh",
    "outputId": "3f282752-3f08-4338-d11d-671e2aa9274c"
   },
   "outputs": [
    {
     "data": {
      "text/html": [
       "<pre>[{height: [1.07e+03], area: [1.45e+05]},\n",
       " {height: [1.25e+03, 1.25e+03, ..., 718], area: [...]},\n",
       " {height: [724], area: [7.68e+04]},\n",
       " {height: [1.25e+03, 923, ..., 936], area: [1.77e+05, ...]},\n",
       " {height: [1.13e+03], area: [1.28e+05]},\n",
       " {height: [736, 1.25e+03], area: [7.61e+04, ...]},\n",
       " {height: [1.25e+03, 1.07e+03], area: [1.39e+05, ...]},\n",
       " {height: [1.02e+03, ..., 1.07e+03], area: [1.41e+05, ...]},\n",
       " {height: [], area: []},\n",
       " {height: [1.25e+03], area: [1.77e+05]},\n",
       " ...,\n",
       " {height: [], area: []},\n",
       " {height: [930], area: [8.18e+04]},\n",
       " {height: [1.25e+03, 1.25e+03], area: [1.64e+05, ...]},\n",
       " {height: [1.25e+03, 1.07e+03], area: [1.52e+05, ...]},\n",
       " {height: [1.25e+03, 949, ..., 985], area: [1.48e+05, ...]},\n",
       " {height: [1.25e+03, 1.25e+03], area: [1.74e+05, ...]},\n",
       " {height: [907, 1.25e+03, 1.07e+03], area: [9e+04, ...]},\n",
       " {height: [], area: []},\n",
       " {height: [], area: []}]\n",
       "------------------------------------------------------------\n",
       "type: 32880 * {\n",
       "    height: var * float32,\n",
       "    area: var * float32\n",
       "}</pre>"
      ],
      "text/plain": [
       "<Array [{height: [1.07e+03], ...}, ..., {...}] type='32880 * {height: var *...'>"
      ]
     },
     "execution_count": 16,
     "metadata": {},
     "output_type": "execute_result"
    }
   ],
   "source": [
    "branches_cut = branches[area_cut & height_cut] #here we apply both the area and height cuts with & (can also use either with |, and not with ~)\n",
    "branches_cut #print"
   ]
  },
  {
   "cell_type": "code",
   "execution_count": 17,
   "metadata": {
    "id": "VbGY0VuJdVkh",
    "outputId": "5eccb67e-0e87-4b85-a371-d69ffee029f4"
   },
   "outputs": [
    {
     "data": {
      "text/html": [
       "<html>\n",
       "<div style=\"display:flex; align-items:center;\">\n",
       "<div style=\"width:290px;\">\n",
       "<svg xmlns=\"http://www.w3.org/2000/svg\" viewBox=\"-10 -105 270 120\">\n",
       "<line x1=\"-5\" y1=\"0\" x2=\"255\" y2=\"0\" style=\"fill:none;stroke-width:2;stroke:currentColor\"/>\n",
       "<text text-anchor=\"middle\" x=\"0\" y=\"15\" style=\"fill:currentColor;\">\n",
       "0\n",
       "</text>\n",
       "<text text-anchor=\"middle\" x=\"250\" y=\"15\" style=\"fill:currentColor;\">\n",
       "2e+05\n",
       "</text>\n",
       "<text text-anchor=\"middle\" x=\"125.0\" y=\"15\" style=\"fill:currentColor;\">\n",
       "Area\n",
       "</text>\n",
       "<polyline points=\"  0,0   0,-0 0.25,-0 0.25,-0 0.5,-0 0.5,-0 0.75,-0 0.75,-0   1,-0   1,-0 1.25,-0 1.25,-0 1.5,-0 1.5,-0 1.75,-0 1.75,-0   2,-0   2,-0 2.25,-0 2.25,-0 2.5,-0 2.5,-0 2.75,-0 2.75,-0   3,-0   3,-0 3.25,-0 3.25,-0 3.5,-0 3.5,-0 3.75,-0 3.75,-0   4,-0   4,-0 4.25,-0 4.25,-0 4.5,-0 4.5,-0 4.75,-0 4.75,-0   5,-0   5,-0 5.25,-0 5.25,-0 5.5,-0 5.5,-0 5.75,-0 5.75,-0   6,-0   6,-0 6.25,-0 6.25,-0 6.5,-0 6.5,-1.14 6.75,-1.14 6.75,-0   7,-0   7,-0 7.25,-0 7.25,-0 7.5,-0 7.5,-0 7.75,-0 7.75,-0   8,-0   8,-0 8.25,-0 8.25,-0 8.5,-0 8.5,-0 8.75,-0 8.75,-0   9,-0   9,-0 9.25,-0 9.25,-0 9.5,-0 9.5,-0 9.75,-0 9.75,-0  10,-0  10,-0 10.25,-0 10.25,-0 10.5,-0 10.5,-0 10.75,-0 10.75,-0  11,-0  11,-0 11.25,-0 11.25,-0 11.5,-0 11.5,-0 11.75,-0 11.75,-0  12,-0  12,-0 12.25,-0 12.25,-0 12.5,-0 12.5,-0 12.75,-0 12.75,-0  13,-0  13,-0 13.25,-0 13.25,-0 13.5,-0 13.5,-0 13.75,-0 13.75,-1.14  14,-1.14  14,-0 14.25,-0 14.25,-0 14.5,-0 14.5,-0 14.75,-0 14.75,-0  15,-0  15,-0 15.25,-0 15.25,-0 15.5,-0 15.5,-0 15.75,-0 15.75,-0  16,-0  16,-0 16.25,-0 16.25,-0 16.5,-0 16.5,-0 16.75,-0 16.75,-0  17,-0  17,-0 17.25,-0 17.25,-1.14 17.5,-1.14 17.5,-0 17.75,-0 17.75,-0  18,-0  18,-1.14 18.25,-1.14 18.25,-0 18.5,-0 18.5,-0 18.75,-0 18.75,-0  19,-0  19,-0 19.25,-0 19.25,-0 19.5,-0 19.5,-0 19.75,-0 19.75,-0  20,-0  20,-0 20.25,-0 20.25,-0 20.5,-0 20.5,-0 20.75,-0 20.75,-0  21,-0  21,-1.14 21.25,-1.14 21.25,-0 21.5,-0 21.5,-0 21.75,-0 21.75,-0  22,-0  22,-0 22.25,-0 22.25,-0 22.5,-0 22.5,-0 22.75,-0 22.75,-0  23,-0  23,-0 23.25,-0 23.25,-0 23.5,-0 23.5,-0 23.75,-0 23.75,-0  24,-0  24,-0 24.25,-0 24.25,-0 24.5,-0 24.5,-0 24.75,-0 24.75,-0  25,-0  25,-0 25.25,-0 25.25,-0 25.5,-0 25.5,-1.14 25.75,-1.14 25.75,-1.14  26,-1.14  26,-0 26.25,-0 26.25,-0 26.5,-0 26.5,-1.14 26.75,-1.14 26.75,-0  27,-0  27,-0 27.25,-0 27.25,-0 27.5,-0 27.5,-0 27.75,-0 27.75,-0  28,-0  28,-0 28.25,-0 28.25,-0 28.5,-0 28.5,-0 28.75,-0 28.75,-0  29,-0  29,-0 29.25,-0 29.25,-0 29.5,-0 29.5,-0 29.75,-0 29.75,-0  30,-0  30,-0 30.25,-0 30.25,-0 30.5,-0 30.5,-0 30.75,-0 30.75,-0  31,-0  31,-0 31.25,-0 31.25,-0 31.5,-0 31.5,-0 31.75,-0 31.75,-0  32,-0  32,-0 32.25,-0 32.25,-1.14 32.5,-1.14 32.5,-0 32.75,-0 32.75,-0  33,-0  33,-0 33.25,-0 33.25,-0 33.5,-0 33.5,-0 33.75,-0 33.75,-0  34,-0  34,-0 34.25,-0 34.25,-1.14 34.5,-1.14 34.5,-0 34.75,-0 34.75,-0  35,-0  35,-0 35.25,-0 35.25,-0 35.5,-0 35.5,-0 35.75,-0 35.75,-1.14  36,-1.14  36,-1.14 36.25,-1.14 36.25,-0 36.5,-0 36.5,-0 36.75,-0 36.75,-1.14  37,-1.14  37,-0 37.25,-0 37.25,-0 37.5,-0 37.5,-0 37.75,-0 37.75,-1.14  38,-1.14  38,-0 38.25,-0 38.25,-0 38.5,-0 38.5,-0 38.75,-0 38.75,-0  39,-0  39,-0 39.25,-0 39.25,-0 39.5,-0 39.5,-1.14 39.75,-1.14 39.75,-0  40,-0  40,-0 40.25,-0 40.25,-0 40.5,-0 40.5,-1.14 40.75,-1.14 40.75,-0  41,-0  41,-0 41.25,-0 41.25,-0 41.5,-0 41.5,-1.14 41.75,-1.14 41.75,-0  42,-0  42,-0 42.25,-0 42.25,-0 42.5,-0 42.5,-0 42.75,-0 42.75,-0  43,-0  43,-2.27 43.25,-2.27 43.25,-0 43.5,-0 43.5,-0 43.75,-0 43.75,-0  44,-0  44,-0 44.25,-0 44.25,-1.14 44.5,-1.14 44.5,-0 44.75,-0 44.75,-1.14  45,-1.14  45,-1.14 45.25,-1.14 45.25,-0 45.5,-0 45.5,-0 45.75,-0 45.75,-0  46,-0  46,-0 46.25,-0 46.25,-0 46.5,-0 46.5,-0 46.75,-0 46.75,-0  47,-0  47,-1.14 47.25,-1.14 47.25,-0 47.5,-0 47.5,-0 47.75,-0 47.75,-1.14  48,-1.14  48,-1.14 48.25,-1.14 48.25,-0 48.5,-0 48.5,-0 48.75,-0 48.75,-0  49,-0  49,-0 49.25,-0 49.25,-1.14 49.5,-1.14 49.5,-0 49.75,-0 49.75,-0  50,-0  50,-0 50.25,-0 50.25,-1.14 50.5,-1.14 50.5,-0 50.75,-0 50.75,-0  51,-0  51,-0 51.25,-0 51.25,-0 51.5,-0 51.5,-0 51.75,-0 51.75,-0  52,-0  52,-0 52.25,-0 52.25,-2.27 52.5,-2.27 52.5,-0 52.75,-0 52.75,-1.14  53,-1.14  53,-1.14 53.25,-1.14 53.25,-1.14 53.5,-1.14 53.5,-0 53.75,-0 53.75,-0  54,-0  54,-0 54.25,-0 54.25,-0 54.5,-0 54.5,-0 54.75,-0 54.75,-2.27  55,-2.27  55,-1.14 55.25,-1.14 55.25,-1.14 55.5,-1.14 55.5,-0 55.75,-0 55.75,-1.14  56,-1.14  56,-1.14 56.25,-1.14 56.25,-1.14 56.5,-1.14 56.5,-1.14 56.75,-1.14 56.75,-1.14  57,-1.14  57,-0 57.25,-0 57.25,-0 57.5,-0 57.5,-0 57.75,-0 57.75,-2.27  58,-2.27  58,-1.14 58.25,-1.14 58.25,-1.14 58.5,-1.14 58.5,-0 58.75,-0 58.75,-0  59,-0  59,-3.41 59.25,-3.41 59.25,-0 59.5,-0 59.5,-1.14 59.75,-1.14 59.75,-1.14  60,-1.14  60,-1.14 60.25,-1.14 60.25,-9.09 60.5,-9.09 60.5,-4.55 60.75,-4.55 60.75,-2.27  61,-2.27  61,-1.14 61.25,-1.14 61.25,-6.82 61.5,-6.82 61.5,-3.41 61.75,-3.41 61.75,-1.14  62,-1.14  62,-2.27 62.25,-2.27 62.25,-2.27 62.5,-2.27 62.5,-9.09 62.75,-9.09 62.75,-1.14  63,-1.14  63,-2.27 63.25,-2.27 63.25,-5.68 63.5,-5.68 63.5,-7.95 63.75,-7.95 63.75,-4.55  64,-4.55  64,-6.82 64.25,-6.82 64.25,-6.82 64.5,-6.82 64.5,-4.55 64.75,-4.55 64.75,-6.82  65,-6.82  65,-10.2 65.25,-10.2 65.25,-3.41 65.5,-3.41 65.5,-6.82 65.75,-6.82 65.75,-6.82  66,-6.82  66,-12.5 66.25,-12.5 66.25,-2.27 66.5,-2.27 66.5,-2.27 66.75,-2.27 66.75,-11.4  67,-11.4  67,-7.95 67.25,-7.95 67.25,-11.4 67.5,-11.4 67.5,-11.4 67.75,-11.4 67.75,-14.8  68,-14.8  68,-11.4 68.25,-11.4 68.25,-13.6 68.5,-13.6 68.5,-9.09 68.75,-9.09 68.75,-9.09  69,-9.09  69,-14.8 69.25,-14.8 69.25,-18.2 69.5,-18.2 69.5,-15.9 69.75,-15.9 69.75,-15.9  70,-15.9  70,-17 70.25,-17 70.25,-18.2 70.5,-18.2 70.5,-15.9 70.75,-15.9 70.75,-9.09  71,-9.09  71,-15.9 71.25,-15.9 71.25,-7.95 71.5,-7.95 71.5,-14.8 71.75,-14.8 71.75,-18.2  72,-18.2  72,-13.6 72.25,-13.6 72.25,-20.5 72.5,-20.5 72.5,-14.8 72.75,-14.8 72.75,-13.6  73,-13.6  73,-14.8 73.25,-14.8 73.25,-13.6 73.5,-13.6 73.5,-27.3 73.75,-27.3 73.75,-23.9  74,-23.9  74,-15.9 74.25,-15.9 74.25,-15.9 74.5,-15.9 74.5,-22.7 74.75,-22.7 74.75,-23.9  75,-23.9  75,-13.6 75.25,-13.6 75.25,-25 75.5,-25 75.5,-23.9 75.75,-23.9 75.75,-13.6  76,-13.6  76,-13.6 76.25,-13.6 76.25,-20.5 76.5,-20.5 76.5,-22.7 76.75,-22.7 76.75,-25  77,-25  77,-15.9 77.25,-15.9 77.25,-22.7 77.5,-22.7 77.5,-23.9 77.75,-23.9 77.75,-19.3  78,-19.3  78,-26.1 78.25,-26.1 78.25,-23.9 78.5,-23.9 78.5,-30.7 78.75,-30.7 78.75,-23.9  79,-23.9  79,-30.7 79.25,-30.7 79.25,-31.8 79.5,-31.8 79.5,-33 79.75,-33 79.75,-20.5  80,-20.5  80,-22.7 80.25,-22.7 80.25,-27.3 80.5,-27.3 80.5,-30.7 80.75,-30.7 80.75,-23.9  81,-23.9  81,-29.5 81.25,-29.5 81.25,-43.2 81.5,-43.2 81.5,-33 81.75,-33 81.75,-23.9  82,-23.9  82,-30.7 82.25,-30.7 82.25,-44.3 82.5,-44.3 82.5,-38.6 82.75,-38.6 82.75,-50  83,-50  83,-30.7 83.25,-30.7 83.25,-33 83.5,-33 83.5,-27.3 83.75,-27.3 83.75,-51.1  84,-51.1  84,-42 84.25,-42 84.25,-45.5 84.5,-45.5 84.5,-46.6 84.75,-46.6 84.75,-55.7  85,-55.7  85,-47.7 85.25,-47.7 85.25,-47.7 85.5,-47.7 85.5,-62.5 85.75,-62.5 85.75,-45.5  86,-45.5  86,-43.2 86.25,-43.2 86.25,-60.2 86.5,-60.2 86.5,-62.5 86.75,-62.5 86.75,-50  87,-50  87,-51.1 87.25,-51.1 87.25,-55.7 87.5,-55.7 87.5,-53.4 87.75,-53.4 87.75,-62.5  88,-62.5  88,-58 88.25,-58 88.25,-48.9 88.5,-48.9 88.5,-73.9 88.75,-73.9 88.75,-65.9  89,-65.9  89,-68.2 89.25,-68.2 89.25,-63.6 89.5,-63.6 89.5,-75 89.75,-75 89.75,-55.7  90,-55.7  90,-69.3 90.25,-69.3 90.25,-72.7 90.5,-72.7 90.5,-60.2 90.75,-60.2 90.75,-67  91,-67  91,-78.4 91.25,-78.4 91.25,-70.5 91.5,-70.5 91.5,-55.7 91.75,-55.7 91.75,-60.2  92,-60.2  92,-53.4 92.25,-53.4 92.25,-65.9 92.5,-65.9 92.5,-60.2 92.75,-60.2 92.75,-68.2  93,-68.2  93,-76.1 93.25,-76.1 93.25,-73.9 93.5,-73.9 93.5,-69.3 93.75,-69.3 93.75,-60.2  94,-60.2  94,-96.6 94.25,-96.6 94.25,-67 94.5,-67 94.5,-44.3 94.75,-44.3 94.75,-68.2  95,-68.2  95,-95.5 95.25,-95.5 95.25,-58 95.5,-58 95.5,-67 95.75,-67 95.75,-63.6  96,-63.6  96,-80.7 96.25,-80.7 96.25,-70.5 96.5,-70.5 96.5,-65.9 96.75,-65.9 96.75,-72.7  97,-72.7  97,-63.6 97.25,-63.6 97.25,-80.7 97.5,-80.7 97.5,-60.2 97.75,-60.2 97.75,-68.2  98,-68.2  98,-51.1 98.25,-51.1 98.25,-61.4 98.5,-61.4 98.5,-72.7 98.75,-72.7 98.75,-76.1  99,-76.1  99,-53.4 99.25,-53.4 99.25,-70.5 99.5,-70.5 99.5,-75 99.75,-75 99.75,-69.3 100,-69.3 100,-68.2 100.25,-68.2 100.25,-75 100.5,-75 100.5,-79.5 100.75,-79.5 100.75,-71.6 101,-71.6 101,-84.1 101.25,-84.1 101.25,-62.5 101.5,-62.5 101.5,-70.5 101.75,-70.5 101.75,-72.7 102,-72.7 102,-68.2 102.25,-68.2 102.25,-79.5 102.5,-79.5 102.5,-87.5 102.75,-87.5 102.75,-70.5 103,-70.5 103,-78.4 103.25,-78.4 103.25,-78.4 103.5,-78.4 103.5,-80.7 103.75,-80.7 103.75,-58 104,-58 104,-80.7 104.25,-80.7 104.25,-67 104.5,-67 104.5,-67 104.75,-67 104.75,-71.6 105,-71.6 105,-62.5 105.25,-62.5 105.25,-80.7 105.5,-80.7 105.5,-75 105.75,-75 105.75,-77.3 106,-77.3 106,-75 106.25,-75 106.25,-79.5 106.5,-79.5 106.5,-73.9 106.75,-73.9 106.75,-64.8 107,-64.8 107,-64.8 107.25,-64.8 107.25,-70.5 107.5,-70.5 107.5,-67 107.75,-67 107.75,-61.4 108,-61.4 108,-65.9 108.25,-65.9 108.25,-63.6 108.5,-63.6 108.5,-54.5 108.75,-54.5 108.75,-80.7 109,-80.7 109,-62.5 109.25,-62.5 109.25,-76.1 109.5,-76.1 109.5,-59.1 109.75,-59.1 109.75,-75 110,-75 110,-67 110.25,-67 110.25,-68.2 110.5,-68.2 110.5,-83 110.75,-83 110.75,-67 111,-67 111,-54.5 111.25,-54.5 111.25,-61.4 111.5,-61.4 111.5,-71.6 111.75,-71.6 111.75,-67 112,-67 112,-68.2 112.25,-68.2 112.25,-60.2 112.5,-60.2 112.5,-68.2 112.75,-68.2 112.75,-73.9 113,-73.9 113,-75 113.25,-75 113.25,-80.7 113.5,-80.7 113.5,-90.9 113.75,-90.9 113.75,-71.6 114,-71.6 114,-71.6 114.25,-71.6 114.25,-61.4 114.5,-61.4 114.5,-78.4 114.75,-78.4 114.75,-68.2 115,-68.2 115,-70.5 115.25,-70.5 115.25,-65.9 115.5,-65.9 115.5,-83 115.75,-83 115.75,-75 116,-75 116,-78.4 116.25,-78.4 116.25,-79.5 116.5,-79.5 116.5,-76.1 116.75,-76.1 116.75,-68.2 117,-68.2 117,-72.7 117.25,-72.7 117.25,-79.5 117.5,-79.5 117.5,-84.1 117.75,-84.1 117.75,-79.5 118,-79.5 118,-72.7 118.25,-72.7 118.25,-68.2 118.5,-68.2 118.5,-84.1 118.75,-84.1 118.75,-71.6 119,-71.6 119,-64.8 119.25,-64.8 119.25,-70.5 119.5,-70.5 119.5,-71.6 119.75,-71.6 119.75,-73.9 120,-73.9 120,-94.3 120.25,-94.3 120.25,-67 120.5,-67 120.5,-77.3 120.75,-77.3 120.75,-58 121,-58 121,-78.4 121.25,-78.4 121.25,-78.4 121.5,-78.4 121.5,-63.6 121.75,-63.6 121.75,-83 122,-83 122,-75 122.25,-75 122.25,-77.3 122.5,-77.3 122.5,-55.7 122.75,-55.7 122.75,-75 123,-75 123,-65.9 123.25,-65.9 123.25,-79.5 123.5,-79.5 123.5,-78.4 123.75,-78.4 123.75,-56.8 124,-56.8 124,-67 124.25,-67 124.25,-64.8 124.5,-64.8 124.5,-69.3 124.75,-69.3 124.75,-62.5 125,-62.5 125,-94.3 125.25,-94.3 125.25,-67 125.5,-67 125.5,-70.5 125.75,-70.5 125.75,-76.1 126,-76.1 126,-68.2 126.25,-68.2 126.25,-70.5 126.5,-70.5 126.5,-78.4 126.75,-78.4 126.75,-62.5 127,-62.5 127,-64.8 127.25,-64.8 127.25,-81.8 127.5,-81.8 127.5,-69.3 127.75,-69.3 127.75,-83 128,-83 128,-60.2 128.25,-60.2 128.25,-54.5 128.5,-54.5 128.5,-67 128.75,-67 128.75,-78.4 129,-78.4 129,-85.2 129.25,-85.2 129.25,-77.3 129.5,-77.3 129.5,-84.1 129.75,-84.1 129.75,-65.9 130,-65.9 130,-80.7 130.25,-80.7 130.25,-61.4 130.5,-61.4 130.5,-63.6 130.75,-63.6 130.75,-54.5 131,-54.5 131,-75 131.25,-75 131.25,-52.3 131.5,-52.3 131.5,-62.5 131.75,-62.5 131.75,-58 132,-58 132,-69.3 132.25,-69.3 132.25,-76.1 132.5,-76.1 132.5,-69.3 132.75,-69.3 132.75,-69.3 133,-69.3 133,-64.8 133.25,-64.8 133.25,-54.5 133.5,-54.5 133.5,-59.1 133.75,-59.1 133.75,-53.4 134,-53.4 134,-62.5 134.25,-62.5 134.25,-60.2 134.5,-60.2 134.5,-64.8 134.75,-64.8 134.75,-65.9 135,-65.9 135,-61.4 135.25,-61.4 135.25,-62.5 135.5,-62.5 135.5,-70.5 135.75,-70.5 135.75,-60.2 136,-60.2 136,-62.5 136.25,-62.5 136.25,-71.6 136.5,-71.6 136.5,-68.2 136.75,-68.2 136.75,-90.9 137,-90.9 137,-64.8 137.25,-64.8 137.25,-54.5 137.5,-54.5 137.5,-40.9 137.75,-40.9 137.75,-64.8 138,-64.8 138,-68.2 138.25,-68.2 138.25,-54.5 138.5,-54.5 138.5,-54.5 138.75,-54.5 138.75,-59.1 139,-59.1 139,-60.2 139.25,-60.2 139.25,-61.4 139.5,-61.4 139.5,-68.2 139.75,-68.2 139.75,-58 140,-58 140,-73.9 140.25,-73.9 140.25,-67 140.5,-67 140.5,-67 140.75,-67 140.75,-53.4 141,-53.4 141,-53.4 141.25,-53.4 141.25,-51.1 141.5,-51.1 141.5,-75 141.75,-75 141.75,-62.5 142,-62.5 142,-75 142.25,-75 142.25,-64.8 142.5,-64.8 142.5,-67 142.75,-67 142.75,-61.4 143,-61.4 143,-56.8 143.25,-56.8 143.25,-52.3 143.5,-52.3 143.5,-71.6 143.75,-71.6 143.75,-70.5 144,-70.5 144,-42 144.25,-42 144.25,-75 144.5,-75 144.5,-58 144.75,-58 144.75,-72.7 145,-72.7 145,-68.2 145.25,-68.2 145.25,-73.9 145.5,-73.9 145.5,-60.2 145.75,-60.2 145.75,-56.8 146,-56.8 146,-63.6 146.25,-63.6 146.25,-64.8 146.5,-64.8 146.5,-70.5 146.75,-70.5 146.75,-54.5 147,-54.5 147,-65.9 147.25,-65.9 147.25,-55.7 147.5,-55.7 147.5,-65.9 147.75,-65.9 147.75,-54.5 148,-54.5 148,-54.5 148.25,-54.5 148.25,-44.3 148.5,-44.3 148.5,-48.9 148.75,-48.9 148.75,-54.5 149,-54.5 149,-79.5 149.25,-79.5 149.25,-54.5 149.5,-54.5 149.5,-69.3 149.75,-69.3 149.75,-58 150,-58 150,-53.4 150.25,-53.4 150.25,-48.9 150.5,-48.9 150.5,-61.4 150.75,-61.4 150.75,-46.6 151,-46.6 151,-69.3 151.25,-69.3 151.25,-62.5 151.5,-62.5 151.5,-61.4 151.75,-61.4 151.75,-72.7 152,-72.7 152,-52.3 152.25,-52.3 152.25,-64.8 152.5,-64.8 152.5,-47.7 152.75,-47.7 152.75,-61.4 153,-61.4 153,-59.1 153.25,-59.1 153.25,-54.5 153.5,-54.5 153.5,-52.3 153.75,-52.3 153.75,-62.5 154,-62.5 154,-58 154.25,-58 154.25,-50 154.5,-50 154.5,-52.3 154.75,-52.3 154.75,-59.1 155,-59.1 155,-79.5 155.25,-79.5 155.25,-56.8 155.5,-56.8 155.5,-53.4 155.75,-53.4 155.75,-60.2 156,-60.2 156,-60.2 156.25,-60.2 156.25,-58 156.5,-58 156.5,-64.8 156.75,-64.8 156.75,-64.8 157,-64.8 157,-51.1 157.25,-51.1 157.25,-63.6 157.5,-63.6 157.5,-55.7 157.75,-55.7 157.75,-56.8 158,-56.8 158,-56.8 158.25,-56.8 158.25,-50 158.5,-50 158.5,-54.5 158.75,-54.5 158.75,-47.7 159,-47.7 159,-64.8 159.25,-64.8 159.25,-45.5 159.5,-45.5 159.5,-52.3 159.75,-52.3 159.75,-70.5 160,-70.5 160,-62.5 160.25,-62.5 160.25,-61.4 160.5,-61.4 160.5,-46.6 160.75,-46.6 160.75,-55.7 161,-55.7 161,-60.2 161.25,-60.2 161.25,-50 161.5,-50 161.5,-63.6 161.75,-63.6 161.75,-52.3 162,-52.3 162,-59.1 162.25,-59.1 162.25,-52.3 162.5,-52.3 162.5,-59.1 162.75,-59.1 162.75,-45.5 163,-45.5 163,-52.3 163.25,-52.3 163.25,-47.7 163.5,-47.7 163.5,-78.4 163.75,-78.4 163.75,-55.7 164,-55.7 164,-69.3 164.25,-69.3 164.25,-54.5 164.5,-54.5 164.5,-44.3 164.75,-44.3 164.75,-55.7 165,-55.7 165,-55.7 165.25,-55.7 165.25,-70.5 165.5,-70.5 165.5,-48.9 165.75,-48.9 165.75,-59.1 166,-59.1 166,-56.8 166.25,-56.8 166.25,-56.8 166.5,-56.8 166.5,-37.5 166.75,-37.5 166.75,-61.4 167,-61.4 167,-40.9 167.25,-40.9 167.25,-51.1 167.5,-51.1 167.5,-54.5 167.75,-54.5 167.75,-54.5 168,-54.5 168,-68.2 168.25,-68.2 168.25,-54.5 168.5,-54.5 168.5,-52.3 168.75,-52.3 168.75,-56.8 169,-56.8 169,-54.5 169.25,-54.5 169.25,-54.5 169.5,-54.5 169.5,-42 169.75,-42 169.75,-42 170,-42 170,-62.5 170.25,-62.5 170.25,-39.8 170.5,-39.8 170.5,-54.5 170.75,-54.5 170.75,-47.7 171,-47.7 171,-60.2 171.25,-60.2 171.25,-62.5 171.5,-62.5 171.5,-51.1 171.75,-51.1 171.75,-48.9 172,-48.9 172,-54.5 172.25,-54.5 172.25,-47.7 172.5,-47.7 172.5,-56.8 172.75,-56.8 172.75,-68.2 173,-68.2 173,-48.9 173.25,-48.9 173.25,-61.4 173.5,-61.4 173.5,-59.1 173.75,-59.1 173.75,-72.7 174,-72.7 174,-50 174.25,-50 174.25,-52.3 174.5,-52.3 174.5,-55.7 174.75,-55.7 174.75,-60.2 175,-60.2 175,-53.4 175.25,-53.4 175.25,-50 175.5,-50 175.5,-56.8 175.75,-56.8 175.75,-52.3 176,-52.3 176,-61.4 176.25,-61.4 176.25,-51.1 176.5,-51.1 176.5,-38.6 176.75,-38.6 176.75,-45.5 177,-45.5 177,-50 177.25,-50 177.25,-51.1 177.5,-51.1 177.5,-53.4 177.75,-53.4 177.75,-53.4 178,-53.4 178,-63.6 178.25,-63.6 178.25,-62.5 178.5,-62.5 178.5,-56.8 178.75,-56.8 178.75,-54.5 179,-54.5 179,-51.1 179.25,-51.1 179.25,-58 179.5,-58 179.5,-59.1 179.75,-59.1 179.75,-44.3 180,-44.3 180,-46.6 180.25,-46.6 180.25,-61.4 180.5,-61.4 180.5,-55.7 180.75,-55.7 180.75,-48.9 181,-48.9 181,-68.2 181.25,-68.2 181.25,-65.9 181.5,-65.9 181.5,-55.7 181.75,-55.7 181.75,-64.8 182,-64.8 182,-60.2 182.25,-60.2 182.25,-59.1 182.5,-59.1 182.5,-54.5 182.75,-54.5 182.75,-56.8 183,-56.8 183,-67 183.25,-67 183.25,-54.5 183.5,-54.5 183.5,-47.7 183.75,-47.7 183.75,-51.1 184,-51.1 184,-62.5 184.25,-62.5 184.25,-45.5 184.5,-45.5 184.5,-52.3 184.75,-52.3 184.75,-64.8 185,-64.8 185,-67 185.25,-67 185.25,-61.4 185.5,-61.4 185.5,-38.6 185.75,-38.6 185.75,-45.5 186,-45.5 186,-62.5 186.25,-62.5 186.25,-54.5 186.5,-54.5 186.5,-60.2 186.75,-60.2 186.75,-76.1 187,-76.1 187,-73.9 187.25,-73.9 187.25,-54.5 187.5,-54.5 187.5,-56.8 187.75,-56.8 187.75,-65.9 188,-65.9 188,-65.9 188.25,-65.9 188.25,-52.3 188.5,-52.3 188.5,-58 188.75,-58 188.75,-59.1 189,-59.1 189,-87.5 189.25,-87.5 189.25,-54.5 189.5,-54.5 189.5,-48.9 189.75,-48.9 189.75,-52.3 190,-52.3 190,-58 190.25,-58 190.25,-71.6 190.5,-71.6 190.5,-69.3 190.75,-69.3 190.75,-52.3 191,-52.3 191,-59.1 191.25,-59.1 191.25,-55.7 191.5,-55.7 191.5,-52.3 191.75,-52.3 191.75,-62.5 192,-62.5 192,-61.4 192.25,-61.4 192.25,-71.6 192.5,-71.6 192.5,-58 192.75,-58 192.75,-55.7 193,-55.7 193,-51.1 193.25,-51.1 193.25,-64.8 193.5,-64.8 193.5,-62.5 193.75,-62.5 193.75,-64.8 194,-64.8 194,-77.3 194.25,-77.3 194.25,-59.1 194.5,-59.1 194.5,-54.5 194.75,-54.5 194.75,-65.9 195,-65.9 195,-78.4 195.25,-78.4 195.25,-61.4 195.5,-61.4 195.5,-56.8 195.75,-56.8 195.75,-64.8 196,-64.8 196,-77.3 196.25,-77.3 196.25,-46.6 196.5,-46.6 196.5,-87.5 196.75,-87.5 196.75,-60.2 197,-60.2 197,-75 197.25,-75 197.25,-59.1 197.5,-59.1 197.5,-78.4 197.75,-78.4 197.75,-60.2 198,-60.2 198,-65.9 198.25,-65.9 198.25,-63.6 198.5,-63.6 198.5,-61.4 198.75,-61.4 198.75,-78.4 199,-78.4 199,-48.9 199.25,-48.9 199.25,-62.5 199.5,-62.5 199.5,-97.7 199.75,-97.7 199.75,-68.2 200,-68.2 200,-69.3 200.25,-69.3 200.25,-56.8 200.5,-56.8 200.5,-100 200.75,-100 200.75,-70.5 201,-70.5 201,-62.5 201.25,-62.5 201.25,-46.6 201.5,-46.6 201.5,-54.5 201.75,-54.5 201.75,-67 202,-67 202,-64.8 202.25,-64.8 202.25,-65.9 202.5,-65.9 202.5,-71.6 202.75,-71.6 202.75,-63.6 203,-63.6 203,-75 203.25,-75 203.25,-68.2 203.5,-68.2 203.5,-70.5 203.75,-70.5 203.75,-61.4 204,-61.4 204,-78.4 204.25,-78.4 204.25,-58 204.5,-58 204.5,-64.8 204.75,-64.8 204.75,-65.9 205,-65.9 205,-85.2 205.25,-85.2 205.25,-62.5 205.5,-62.5 205.5,-81.8 205.75,-81.8 205.75,-75 206,-75 206,-69.3 206.25,-69.3 206.25,-88.6 206.5,-88.6 206.5,-70.5 206.75,-70.5 206.75,-84.1 207,-84.1 207,-65.9 207.25,-65.9 207.25,-81.8 207.5,-81.8 207.5,-70.5 207.75,-70.5 207.75,-65.9 208,-65.9 208,-62.5 208.25,-62.5 208.25,-79.5 208.5,-79.5 208.5,-70.5 208.75,-70.5 208.75,-64.8 209,-64.8 209,-60.2 209.25,-60.2 209.25,-71.6 209.5,-71.6 209.5,-76.1 209.75,-76.1 209.75,-86.4 210,-86.4 210,-84.1 210.25,-84.1 210.25,-75 210.5,-75 210.5,-70.5 210.75,-70.5 210.75,-73.9 211,-73.9 211,-86.4 211.25,-86.4 211.25,-77.3 211.5,-77.3 211.5,-70.5 211.75,-70.5 211.75,-67 212,-67 212,-62.5 212.25,-62.5 212.25,-75 212.5,-75 212.5,-76.1 212.75,-76.1 212.75,-61.4 213,-61.4 213,-75 213.25,-75 213.25,-58 213.5,-58 213.5,-73.9 213.75,-73.9 213.75,-62.5 214,-62.5 214,-63.6 214.25,-63.6 214.25,-79.5 214.5,-79.5 214.5,-78.4 214.75,-78.4 214.75,-80.7 215,-80.7 215,-76.1 215.25,-76.1 215.25,-77.3 215.5,-77.3 215.5,-92 215.75,-92 215.75,-76.1 216,-76.1 216,-56.8 216.25,-56.8 216.25,-71.6 216.5,-71.6 216.5,-86.4 216.75,-86.4 216.75,-58 217,-58 217,-67 217.25,-67 217.25,-72.7 217.5,-72.7 217.5,-62.5 217.75,-62.5 217.75,-71.6 218,-71.6 218,-86.4 218.25,-86.4 218.25,-59.1 218.5,-59.1 218.5,-71.6 218.75,-71.6 218.75,-71.6 219,-71.6 219,-78.4 219.25,-78.4 219.25,-72.7 219.5,-72.7 219.5,-89.8 219.75,-89.8 219.75,-75 220,-75 220,-55.7 220.25,-55.7 220.25,-54.5 220.5,-54.5 220.5,-64.8 220.75,-64.8 220.75,-72.7 221,-72.7 221,-76.1 221.25,-76.1 221.25,-76.1 221.5,-76.1 221.5,-83 221.75,-83 221.75,-72.7 222,-72.7 222,-72.7 222.25,-72.7 222.25,-69.3 222.5,-69.3 222.5,-53.4 222.75,-53.4 222.75,-60.2 223,-60.2 223,-54.5 223.25,-54.5 223.25,-76.1 223.5,-76.1 223.5,-85.2 223.75,-85.2 223.75,-73.9 224,-73.9 224,-62.5 224.25,-62.5 224.25,-78.4 224.5,-78.4 224.5,-67 224.75,-67 224.75,-65.9 225,-65.9 225,-79.5 225.25,-79.5 225.25,-69.3 225.5,-69.3 225.5,-62.5 225.75,-62.5 225.75,-47.7 226,-47.7 226,-86.4 226.25,-86.4 226.25,-63.6 226.5,-63.6 226.5,-55.7 226.75,-55.7 226.75,-61.4 227,-61.4 227,-71.6 227.25,-71.6 227.25,-83 227.5,-83 227.5,-71.6 227.75,-71.6 227.75,-47.7 228,-47.7 228,-58 228.25,-58 228.25,-71.6 228.5,-71.6 228.5,-69.3 228.75,-69.3 228.75,-67 229,-67 229,-51.1 229.25,-51.1 229.25,-61.4 229.5,-61.4 229.5,-60.2 229.75,-60.2 229.75,-58 230,-58 230,-76.1 230.25,-76.1 230.25,-58 230.5,-58 230.5,-68.2 230.75,-68.2 230.75,-76.1 231,-76.1 231,-69.3 231.25,-69.3 231.25,-60.2 231.5,-60.2 231.5,-68.2 231.75,-68.2 231.75,-60.2 232,-60.2 232,-54.5 232.25,-54.5 232.25,-67 232.5,-67 232.5,-61.4 232.75,-61.4 232.75,-58 233,-58 233,-56.8 233.25,-56.8 233.25,-62.5 233.5,-62.5 233.5,-53.4 233.75,-53.4 233.75,-53.4 234,-53.4 234,-52.3 234.25,-52.3 234.25,-55.7 234.5,-55.7 234.5,-51.1 234.75,-51.1 234.75,-73.9 235,-73.9 235,-55.7 235.25,-55.7 235.25,-45.5 235.5,-45.5 235.5,-61.4 235.75,-61.4 235.75,-47.7 236,-47.7 236,-54.5 236.25,-54.5 236.25,-62.5 236.5,-62.5 236.5,-50 236.75,-50 236.75,-44.3 237,-44.3 237,-61.4 237.25,-61.4 237.25,-53.4 237.5,-53.4 237.5,-64.8 237.75,-64.8 237.75,-56.8 238,-56.8 238,-50 238.25,-50 238.25,-54.5 238.5,-54.5 238.5,-56.8 238.75,-56.8 238.75,-58 239,-58 239,-60.2 239.25,-60.2 239.25,-56.8 239.5,-56.8 239.5,-54.5 239.75,-54.5 239.75,-68.2 240,-68.2 240,-59.1 240.25,-59.1 240.25,-45.5 240.5,-45.5 240.5,-48.9 240.75,-48.9 240.75,-52.3 241,-52.3 241,-54.5 241.25,-54.5 241.25,-52.3 241.5,-52.3 241.5,-60.2 241.75,-60.2 241.75,-46.6 242,-46.6 242,-31.8 242.25,-31.8 242.25,-52.3 242.5,-52.3 242.5,-44.3 242.75,-44.3 242.75,-48.9 243,-48.9 243,-61.4 243.25,-61.4 243.25,-46.6 243.5,-46.6 243.5,-63.6 243.75,-63.6 243.75,-54.5 244,-54.5 244,-46.6 244.25,-46.6 244.25,-46.6 244.5,-46.6 244.5,-46.6 244.75,-46.6 244.75,-47.7 245,-47.7 245,-54.5 245.25,-54.5 245.25,-30.7 245.5,-30.7 245.5,-55.7 245.75,-55.7 245.75,-58 246,-58 246,-45.5 246.25,-45.5 246.25,-45.5 246.5,-45.5 246.5,-58 246.75,-58 246.75,-59.1 247,-59.1 247,-55.7 247.25,-55.7 247.25,-55.7 247.5,-55.7 247.5,-53.4 247.75,-53.4 247.75,-42 248,-42 248,-48.9 248.25,-48.9 248.25,-37.5 248.5,-37.5 248.5,-48.9 248.75,-48.9 248.75,-44.3 249,-44.3 249,-52.3 249.25,-52.3 249.25,-43.2 249.5,-43.2 249.5,-45.5 249.75,-45.5 249.75,-61.4 250,-61.4 250,0\" style=\"fill:none; stroke:currentColor;\"/>\n",
       "</svg>\n",
       "</div>\n",
       "<div style=\"flex=grow:1;\">\n",
       "Regular(1000, 0, 200000, name='Area')<br/>\n",
       "<hr style=\"margin-top:.2em; margin-bottom:.2em;\"/>\n",
       "Double() Σ=38539.0 <em>(48609.0 with flow)</em>\n",
       "\n",
       "</div>\n",
       "</div>\n",
       "</html>"
      ],
      "text/plain": [
       "Hist(Regular(1000, 0, 200000, name='Area'), storage=Double()) # Sum: 38539.0 (48609.0 with flow)"
      ]
     },
     "execution_count": 17,
     "metadata": {},
     "output_type": "execute_result"
    }
   ],
   "source": [
    "h1 = hist.Hist.new.Reg(1000, 0, 200000, name=\"Area\").Double()\n",
    "h1.fill(ak.flatten(branches_cut['area']))"
   ]
  },
  {
   "cell_type": "markdown",
   "metadata": {
    "id": "6tm3TGtTdVkh"
   },
   "source": [
    "## Plotting\n",
    "\n",
    "### Hist Package\n",
    "\n",
    "The hist package is designed to quickly make plots in jupyter notebooks."
   ]
  },
  {
   "cell_type": "code",
   "execution_count": 18,
   "metadata": {
    "id": "SGdXntdHdVkh",
    "outputId": "6663a967-0e65-42d3-f308-8b5bc2ebcd3d"
   },
   "outputs": [
    {
     "data": {
      "text/html": [
       "<html>\n",
       "<div style=\"display:flex; align-items:center;\">\n",
       "<div style=\"width:290px;\">\n",
       "<svg xmlns=\"http://www.w3.org/2000/svg\" viewBox=\"-10 -105 270 120\">\n",
       "<line x1=\"-5\" y1=\"0\" x2=\"255\" y2=\"0\" style=\"fill:none;stroke-width:2;stroke:currentColor\"/>\n",
       "<text text-anchor=\"middle\" x=\"0\" y=\"15\" style=\"fill:currentColor;\">\n",
       "0\n",
       "</text>\n",
       "<text text-anchor=\"middle\" x=\"250\" y=\"15\" style=\"fill:currentColor;\">\n",
       "1.3e+03\n",
       "</text>\n",
       "<text text-anchor=\"middle\" x=\"125.0\" y=\"15\" style=\"fill:currentColor;\">\n",
       "Height\n",
       "</text>\n",
       "<polyline points=\"  0,0   0,-0 1.92308,-0 1.92308,-0 3.84615,-0 3.84615,-0 5.76923,-0 5.76923,-0 7.69231,-0 7.69231,-0 9.61538,-0 9.61538,-0 11.5385,-0 11.5385,-0 13.4615,-0 13.4615,-0 15.3846,-0 15.3846,-0 17.3077,-0 17.3077,-0 19.2308,-0 19.2308,-0 21.1538,-0 21.1538,-0 23.0769,-0 23.0769,-0  25,-0  25,-0 26.9231,-0 26.9231,-0 28.8462,-0 28.8462,-0 30.7692,-0 30.7692,-0 32.6923,-0 32.6923,-0 34.6154,-0 34.6154,-0 36.5385,-0 36.5385,-0 38.4615,-0 38.4615,-0 40.3846,-0 40.3846,-0 42.3077,-0 42.3077,-0 44.2308,-0 44.2308,-0 46.1538,-0 46.1538,-0 48.0769,-0 48.0769,-0  50,-0  50,-0 51.9231,-0 51.9231,-0 53.8462,-0 53.8462,-0 55.7692,-0 55.7692,-0 57.6923,-0 57.6923,-0 59.6154,-0 59.6154,-0 61.5385,-0 61.5385,-0 63.4615,-0 63.4615,-0 65.3846,-0 65.3846,-0 67.3077,-0 67.3077,-0 69.2308,-0 69.2308,-0 71.1538,-0 71.1538,-0 73.0769,-0 73.0769,-0  75,-0  75,-0 76.9231,-0 76.9231,-0 78.8462,-0 78.8462,-0 80.7692,-0 80.7692,-0 82.6923,-0 82.6923,-0 84.6154,-0 84.6154,-0 86.5385,-0 86.5385,-0 88.4615,-0 88.4615,-0 90.3846,-0 90.3846,-0 92.3077,-0 92.3077,-0 94.2308,-0 94.2308,-0 96.1538,-0 96.1538,-3.22 98.0769,-3.22 98.0769,-3.51 100,-3.51 100,-3.16 101.923,-3.16 101.923,-3.12 103.846,-3.12 103.846,-3.22 105.769,-3.22 105.769,-2.93 107.692,-2.93 107.692,-3.09 109.615,-3.09 109.615,-2.76 111.538,-2.76 111.538,-2.75 113.462,-2.75 113.462,-2.76 115.385,-2.76 115.385,-2.71 117.308,-2.71 117.308,-2.65 119.231,-2.65 119.231,-2.43 121.154,-2.43 121.154,-2.52 123.077,-2.52 123.077,-2.47 125,-2.47 125,-2.43 126.923,-2.43 126.923,-2.47 128.846,-2.47 128.846,-2.29 130.769,-2.29 130.769,-2.15 132.692,-2.15 132.692,-2.07 134.615,-2.07 134.615,-2.38 136.538,-2.38 136.538,-2.18 138.462,-2.18 138.462,-2.19 140.385,-2.19 140.385,-2.09 142.308,-2.09 142.308,-2.12 144.231,-2.12 144.231,-2.02 146.154,-2.02 146.154,-2.01 148.077,-2.01 148.077,-1.74 150,-1.74 150,-1.99 151.923,-1.99 151.923,-1.98 153.846,-1.98 153.846,-1.72 155.769,-1.72 155.769,-1.77 157.692,-1.77 157.692,-1.78 159.615,-1.78 159.615,-1.75 161.538,-1.75 161.538,-1.79 163.462,-1.79 163.462,-1.65 165.385,-1.65 165.385,-1.66 167.308,-1.66 167.308,-1.41 169.231,-1.41 169.231,-1.39 171.154,-1.39 171.154,-1.43 173.077,-1.43 173.077,-1.52 175,-1.52 175,-1.57 176.923,-1.57 176.923,-1.46 178.846,-1.46 178.846,-1.3 180.769,-1.3 180.769,-1.33 182.692,-1.33 182.692,-1.42 184.615,-1.42 184.615,-1.63 186.538,-1.63 186.538,-1.86 188.462,-1.86 188.462,-2.32 190.385,-2.32 190.385,-2.83 192.308,-2.83 192.308,-2.61 194.231,-2.61 194.231,-3.24 196.154,-3.24 196.154,-1.59 198.077,-1.59 198.077,-1.73 200,-1.73 200,-2.26 201.923,-2.26 201.923,-2.29 203.846,-2.29 203.846,-10.3 205.769,-10.3 205.769,-26.7 207.692,-26.7 207.692,-7.76 209.615,-7.76 209.615,-1.4 211.538,-1.4 211.538,-0.857 213.462,-0.857 213.462,-1 215.385,-1 215.385,-0.964 217.308,-0.964 217.308,-0.798 219.231,-0.798 219.231,-0.84 221.154,-0.84 221.154,-0.755 223.077,-0.755 223.077,-0.958 225,-0.958 225,-0.958 226.923,-0.958 226.923,-1.49 228.846,-1.49 228.846,-0.91 230.769,-0.91 230.769,-0.905 232.692,-0.905 232.692,-0.835 234.615,-0.835 234.615,-1.12 236.538,-1.12 236.538,-1.76 238.462,-1.76 238.462,-100 240.385,-100 240.385,-31.5 242.308,-31.5 242.308,-0.161 244.231,-0.161 244.231,-0.0589 246.154,-0.0589 246.154,-0.0375 248.077,-0.0375 248.077,-0.0428 250,-0.0428 250,0\" style=\"fill:none; stroke:currentColor;\"/>\n",
       "</svg>\n",
       "</div>\n",
       "<div style=\"flex=grow:1;\">\n",
       "Regular(130, 0, 1300, name='Height')<br/>\n",
       "<hr style=\"margin-top:.2em; margin-bottom:.2em;\"/>\n",
       "Double() Σ=58815.0 <em>(58829.0 with flow)</em>\n",
       "\n",
       "</div>\n",
       "</div>\n",
       "</html>"
      ],
      "text/plain": [
       "Hist(Regular(130, 0, 1300, name='Height'), storage=Double()) # Sum: 58815.0 (58829.0 with flow)"
      ]
     },
     "execution_count": 18,
     "metadata": {},
     "output_type": "execute_result"
    }
   ],
   "source": [
    "#Define a histogram\n",
    "h1 = hist.Hist.new.Reg(130, 0, 1300, name=\"Height\").Double()\n",
    "h1.fill(ak.flatten(branches['height']))"
   ]
  },
  {
   "cell_type": "markdown",
   "metadata": {
    "id": "EJGztqYcdVki"
   },
   "source": [
    "### MatPlotlib\n",
    "\n",
    "We can also use matplotlib plots to take advantage of python tools for plotting."
   ]
  },
  {
   "cell_type": "code",
   "execution_count": 19,
   "metadata": {
    "id": "xrocC7D2dVki",
    "outputId": "fc61a22f-fb27-46cb-9375-635530001d13"
   },
   "outputs": [
    {
     "data": {
      "image/png": "[encoded data removed]",
      "text/plain": [
       "<Figure size 432x288 with 1 Axes>"
      ]
     },
     "metadata": {
      "needs_background": "light"
     },
     "output_type": "display_data"
    }
   ],
   "source": [
    "plt.hist(ak.flatten(branches['height']), bins=140, range=(0, 1400))\n",
    "plt.show()"
   ]
  },
  {
   "cell_type": "markdown",
   "metadata": {
    "id": "aBKL4TlFdVki"
   },
   "source": [
    "### Root Histograms\n",
    "\n",
    "Finally we can still use root histograms by converting our entries to array objects. This method of plotting is a bit slow but allows us to use the traditional root tools and save our histograms to root files."
   ]
  },
  {
   "cell_type": "code",
   "execution_count": 20,
   "metadata": {
    "id": "ge1QqYQ_dVki",
    "outputId": "b3998f53-90a9-44f7-f427-fcd36b70556c"
   },
   "outputs": [
    {
     "data": {
      "image/png": "[encoded data removed]",
      "text/plain": [
       "<IPython.core.display.Image object>"
      ]
     },
     "metadata": {},
     "output_type": "display_data"
    }
   ],
   "source": [
    "#define root histogram\n",
    "h_height = r.TH1F(\"h_height\", \"Height\", 140, 0, 1400)\n",
    "\n",
    "#create array from awkward array\n",
    "heights = arr.array('d', ak.flatten(branches['height']))\n",
    "\n",
    "#fill the histogram\n",
    "#inputs are number of entries, values, and weights\n",
    "h_height.FillN(len(heights), heights, np.ones(len(heights)))\n",
    "\n",
    "#create a TCanvas to draw on\n",
    "c1 = r.TCanvas(\"c1\", \"c1\", 500, 400)\n",
    "\n",
    "c1.cd()\n",
    "h_height.Draw()\n",
    "c1.Draw()"
   ]
  },
  {
   "cell_type": "markdown",
   "metadata": {
    "id": "ZMjPrRQNdVki"
   },
   "source": [
    "## Iterating Over Multiple Files\n",
    "\n",
    "The equivalent of TChains is running with uproot iterate. This is what most of the analysis framework is based on."
   ]
  },
  {
   "cell_type": "code",
   "execution_count": 22,
   "metadata": {
    "id": "5C03dchTdVki",
    "outputId": "27ea1f57-3342-4d0a-bc06-9f9b9baa1a9d"
   },
   "outputs": [
    {
     "name": "stdout",
     "output_type": "stream",
     "text": [
      "30946 events passing cuts out of 32880 total\n"
     ]
    },
    {
     "name": "stderr",
     "output_type": "stream",
     "text": [
      "Warning in <TROOT::Append>: Replacing existing TH1: h_npulses (Potential memory leak).\n",
      "Warning in <TROOT::Append>: Replacing existing TH1: h_npulsesCut (Potential memory leak).\n",
      "Warning in <TCanvas::Constructor>: Deleting canvas with same name: c1\n"
     ]
    }
   ],
   "source": [
    "#define total events\n",
    "totalEvents = 0 #count total events\n",
    "passingEvents = 0 #count events passing cuts\n",
    "\n",
    "#define histograms\n",
    "h_npulses = r.TH1F(\"h_npulses\", \"Number of Pulses\", 50, 0, 50)\n",
    "h_npulsesCut = r.TH1F(\"h_npulsesCut\", \"Number of Pulses After Cuts\", 50, 0, 50)\n",
    "\n",
    "#define TCanvas for plotting\n",
    "c = r.TCanvas(\"c1\", \"c1\", 1000, 800)\n",
    "\n",
    "#use the uproot iterate method to loop over all files in our filelist\n",
    "#https://uproot.readthedocs.io/en/latest/uproot.behaviors.TBranch.iterate.html\n",
    "for events in uproot.iterate(\n",
    "\n",
    "        #list of files to run over\n",
    "        [\"/eos/experiment/milliqan/skims/signal/MilliQan_Run1500_v35_signal_beamOff_tight.root\"],\n",
    "\n",
    "        #branches defined above\n",
    "        [\"area\", \"height\", \"npulses\", \"chan\", \"type\"],\n",
    "\n",
    "        #if we want to make a cut we can define it here\n",
    "        #note cannot do this with jagged array (ex event and pulse level quantities)\n",
    "        cut=\"height>=0\",\n",
    "\n",
    "        #library used to load data\n",
    "        #default is awkward array (ak), can also use pandas (pd) or numpy (np)\n",
    "        library = 'ak',\n",
    "\n",
    "        #number of events or size per batch\n",
    "        step_size=1000,\n",
    "\n",
    "        #number of processors\n",
    "        num_workers=8\n",
    "\n",
    "    ):\n",
    "\n",
    "        totalEvents += len(events)\n",
    "\n",
    "        #next we can make some cuts on the data\n",
    "        #ex veto events with hits in top panels\n",
    "        panel_cut1 = ak.any(events[:, 'chan'] == 74, axis=1) #check if any pulse in event is channel 74 (front panel), axis=1 to check for any in event\n",
    "        panel_cut2 = ak.any(events[:, 'chan'] == 75, axis=1) #back panel\n",
    "\n",
    "        passing = events[~panel_cut1 & ~panel_cut2]\n",
    "        passingEvents += len(passing)\n",
    "\n",
    "        npulses_pre = ak.count(events['npulses'], axis=1) #count number of pulses in events, note cannot use npulses because some events have empty arrays due to cuts\n",
    "        npulses_post = ak.count(passing['npulses'], axis=1) #count number of pulses after panel cut\n",
    "\n",
    "        #turn awkward arrays into arrays\n",
    "        npulses_pre = arr.array('d', npulses_pre.to_list())\n",
    "        npulses_post = arr.array('d', npulses_post.to_list())\n",
    "\n",
    "        #fill histograms\n",
    "        if len(npulses_pre) > 0: h_npulses.FillN(len(npulses_pre), npulses_pre, np.ones(len(npulses_pre)))\n",
    "        if len(npulses_post) > 0: h_npulsesCut.FillN(len(npulses_post), npulses_post, np.ones(len(npulses_post)))\n",
    "\n",
    "print(\"{0} events passing cuts out of {1} total\".format(passingEvents, totalEvents))\n",
    "\n",
    "\n"
   ]
  },
  {
   "cell_type": "markdown",
   "metadata": {
    "id": "4R4H7eAqdVki"
   },
   "source": [
    "Make plot showing the number of pulses before and after cutting on top pannels."
   ]
  },
  {
   "cell_type": "code",
   "execution_count": 23,
   "metadata": {
    "id": "1YV35NtcdVki",
    "outputId": "62f6ece1-43f2-4d28-eeac-fdd91af78e98"
   },
   "outputs": [],
   "source": [
    "c.cd()\n",
    "\n",
    "r.gStyle.SetOptStat(0000) #remove stats box\n",
    "\n",
    "h_npulses.GetYaxis().SetTitle(\"Number of Events\")\n",
    "h_npulses.GetXaxis().SetTitle(\"Number of Pulses\")\n",
    "h_npulses.SetFillColorAlpha(4, 0.3)\n",
    "h_npulses.Draw()\n",
    "h_npulsesCut.SetLineColor(2)\n",
    "h_npulsesCut.SetFillColorAlpha(2, 0.3)\n",
    "h_npulsesCut.Draw(\"same\")\n",
    "\n",
    "l1 = r.TLegend(0.5, 0.6, 0.8, 0.7)\n",
    "l1.AddEntry(h_npulses)\n",
    "l1.AddEntry(h_npulsesCut)\n",
    "l1.Draw()\n",
    "\n",
    "c.Draw()"
   ]
  },
  {
   "cell_type": "markdown",
   "metadata": {
    "id": "8O0biAEXdVki"
   },
   "source": [
    "## MilliQan Processor"
   ]
  },
  {
   "cell_type": "markdown",
   "metadata": {},
   "source": [
    "To simplify the offline analysis we have designed some tools to work with our data and the uproot packages. The purpose is to centralize the code we use so that we can develop and use the same tools.\n",
    "\n",
    "We will need to load in the necessary packages from the analysis/utilities/ directory in order to take full advantage of the milliqan analysis framework. The tools we will use are \n",
    "\n",
    "milliqanProcessor: Essentially a wrapper for uproot iterate method. Runs over the given files list and applies all cuts, makes plots, and runs custom functions.\n",
    "\n",
    "milliqanScheduler: Creates schedule of cuts and plots to apply in the processor.\n",
    "\n",
    "milliqanCuts: Class defining generic cuts, centralize how we define our cuts. \n",
    "\n",
    "milliqanPlotter: Class for defining plots."
   ]
  },
  {
   "cell_type": "code",
   "execution_count": 24,
   "metadata": {
    "id": "6MhP5vhkdVki"
   },
   "outputs": [],
   "source": [
    "import os\n",
    "import sys\n",
    "sys.path.append(os.getcwd() + '/../utilities/')\n",
    "from milliqanProcessor import *\n",
    "from milliqanScheduler import *\n",
    "from milliqanCuts import *\n",
    "from milliqanPlotter import *\n",
    "from utilities import *\n",
    "\n",
    "import ROOT as r\n",
    "import uproot\n",
    "import hist\n",
    "import matplotlib.pyplot as plt\n",
    "import awkward as ak\n",
    "import numpy as np\n",
    "import pandas as pd\n",
    "import array as arr\n",
    "%jsroot on\n",
    "\n",
    "%load_ext autoreload\n",
    "%autoreload 2"
   ]
  },
  {
   "cell_type": "markdown",
   "metadata": {},
   "source": [
    "Similar to in uproot iterate we need to define a filelist that we want to run over and define the branches that we require to do our analysis."
   ]
  },
  {
   "cell_type": "code",
   "execution_count": 26,
   "metadata": {},
   "outputs": [],
   "source": [
    "#define a file list to run over\n",
    "filelist = ['/eos/experiment/milliqan/skims/signal/MilliQan_Run1500_v35_signal_beamOff_tight.root']\n",
    "\n",
    "#define the necessary branches to run over\n",
    "branches = ['event', 'tTrigger', 'boardsMatched', 'pickupFlag', 'fileNumber', 'runNumber', 'type', 'ipulse', 'nPE', 'chan',\n",
    "                'time_module_calibrated', 'timeFit_module_calibrated', 'row', 'column', 'layer', 'height', 'area', 'npulses', 'sidebandRMS']"
   ]
  },
  {
   "cell_type": "markdown",
   "metadata": {},
   "source": [
    "We can also get the total luminosity/run time of a file. For skims this is saves as TNamed objects in the root files while for normal offline files this is read throught the mqLumis.json file. There are functions for each case with examples below."
   ]
  },
  {
   "cell_type": "code",
   "execution_count": 27,
   "metadata": {},
   "outputs": [
    {
     "name": "stdout",
     "output_type": "stream",
     "text": [
      "Total luminosity 0.0 and run time 1982408.0s\n"
     ]
    }
   ],
   "source": [
    "#get the luminosity and run time\n",
    "\n",
    "lumi, runTime = getSkimLumis(filelist)\n",
    "\n",
    "#note that for offline files the function getLumiofFileList(filelist) will return the same info\n"
   ]
  },
  {
   "cell_type": "markdown",
   "metadata": {},
   "source": [
    "Next we want to define our cuts object and add all of the cuts we want to make for our analysis. \n",
    "\n",
    "The cuts can either come directly from the milliqanCuts class or they can be modifications of those functions using the \"getCut\" method. This method creates a lambda function of the existing cuts but allows us to change variables in the existing functions.\n",
    "\n",
    "Inputs for getCut are: <br>\n",
    "\n",
    "1. original cut function <br>\n",
    "2. name for the new branch <br>\n",
    "3. cut value(s) <br>\n",
    "    "
   ]
  },
  {
   "cell_type": "code",
   "execution_count": 28,
   "metadata": {},
   "outputs": [],
   "source": [
    "#define the milliqan cuts object\n",
    "mycuts = milliqanCuts()\n",
    "\n",
    "#example of changing cut value\n",
    "heightCut200 = getCutMod(mycuts.heightCut, mycuts, 'heightCut200', heightCut=500, cut=True)\n",
    "\n",
    "#example of cutting on events\n",
    "fourLayerCut = getCutMod(mycuts.oneHitPerLayerCut, mycuts, 'fourLayerCut', cut=True, multipleHits=True)\n"
   ]
  },
  {
   "cell_type": "markdown",
   "metadata": {},
   "source": [
    "Now we can define the plots to make.\n",
    "\n",
    "First we define the milliqanPlotter object that will be passed to the milliqanProcessor.\n",
    "\n",
    "Next we need to define the root histograms that we want to be created.\n",
    "\n",
    "Finally we need to add the histogram to our plotter using the addHistograms function. This functions takes as inputs <br>\n",
    "\n",
    "1. the root histogram <br>\n",
    "2. the branch to be plotted <br>\n",
    "3. any cuts to be applied before plotting (optional) <br>"
   ]
  },
  {
   "cell_type": "code",
   "execution_count": 29,
   "metadata": {},
   "outputs": [
    {
     "name": "stderr",
     "output_type": "stream",
     "text": [
      "Warning in <TROOT::Append>: Replacing existing TH1: h_height (Potential memory leak).\n"
     ]
    }
   ],
   "source": [
    "#define milliqan plotter\n",
    "myplotter = milliqanPlotter()\n",
    "\n",
    "#create root histogram \n",
    "h_height = r.TH1F(\"h_height\", \"Height\", 140, 0, 1400)\n",
    "\n",
    "#add root histogram to plotter\n",
    "myplotter.addHistograms(h_height, 'height')"
   ]
  },
  {
   "cell_type": "markdown",
   "metadata": {},
   "source": [
    "We can now define the order that we would like to create our cuts and plots. We do this by defining a list of both cuts and plots. \n",
    "\n",
    "Then we can create a milliQanScheduler object and pass our cutflow to the scheduler.\n",
    "\n",
    "If we want to inspect our schedule we can also print it out."
   ]
  },
  {
   "cell_type": "code",
   "execution_count": 30,
   "metadata": {},
   "outputs": [
    {
     "name": "stdout",
     "output_type": "stream",
     "text": [
      "----------------------------\n",
      "MilliQan Scheduler:\n",
      "\t0. totalEventCounter\n",
      "\t1. fullEventCounter\n",
      "\t2. fourLayerCut\n",
      "\t3. heightCut200\n",
      "\t4. h_height\n",
      "----------------------------\n"
     ]
    }
   ],
   "source": [
    "#defining the cutflow\n",
    "cutflow = [mycuts.totalEventCounter, mycuts.fullEventCounter, fourLayerCut, heightCut200, myplotter.dict['h_height']]\n",
    "\n",
    "#create a schedule of the cuts\n",
    "myschedule = milliQanScheduler(cutflow, mycuts, myplotter)\n",
    "\n",
    "#print out the schedule\n",
    "myschedule.printSchedule()"
   ]
  },
  {
   "cell_type": "markdown",
   "metadata": {},
   "source": [
    "Finally we can define our milliqanProcessor object!\n",
    "\n",
    " We need to pass this object:\n",
    " 1. List of files to run over\n",
    " 2. List of necessary input branches from root files\n",
    " 3. The schedule we created\n",
    " 4. The cut object we created\n",
    " 5. The plotter object we created\n",
    " \n",
    " Optionally we can also pass: <br>\n",
    " 1. max events to run over"
   ]
  },
  {
   "cell_type": "code",
   "execution_count": 31,
   "metadata": {},
   "outputs": [
    {
     "name": "stdout",
     "output_type": "stream",
     "text": [
      "\n",
      "Chosen quality level: \u001b[1;34m override \u001b[0m\n",
      "Chosen verbosity level: \u001b[1;34m minimal \n",
      "\u001b[0m\n",
      "\n",
      "\u001b[1;31mQuality check is being overridden. All files will be processed.\u001b[0m\n"
     ]
    }
   ],
   "source": [
    "#create the milliqan processor object\n",
    "myiterator = milliqanProcessor(filelist, branches, myschedule, step_size=1000, qualityLevel='override', max_events=10000)\n"
   ]
  },
  {
   "cell_type": "code",
   "execution_count": 32,
   "metadata": {},
   "outputs": [],
   "source": [
    "for key, value in myplotter.dict.items():\n",
    "    if value not in cutflow:\n",
    "        cutflow.append(value)"
   ]
  },
  {
   "cell_type": "markdown",
   "metadata": {},
   "source": [
    "The last step is to run the processor!"
   ]
  },
  {
   "cell_type": "code",
   "execution_count": 33,
   "metadata": {},
   "outputs": [
    {
     "name": "stdout",
     "output_type": "stream",
     "text": [
      "MilliQan Processor: Processing event 0...\n",
      "MilliQan Processor: Processing event 1000...\n",
      "MilliQan Processor: Processing event 2000...\n",
      "MilliQan Processor: Processing event 3000...\n",
      "MilliQan Processor: Processing event 4000...\n",
      "MilliQan Processor: Processing event 5000...\n",
      "MilliQan Processor: Processing event 6000...\n",
      "MilliQan Processor: Processing event 7000...\n",
      "MilliQan Processor: Processing event 8000...\n",
      "MilliQan Processor: Processing event 9000...\n",
      "Number of processed events 10000\n",
      "----------------------------------Cutflow Table----------------------------------------------------------------------------------\n",
      "Cut                       N Passing Events     Cum Event Eff % (Prev)    N Passing Pulses     Cum Pulse Eff % (Prev)    Cut Applied                   \n",
      "---------------------------------------------------------------------------------------------------------------------------------\n",
      "totalEventCounter         9000                 100.0 (100.0)             82141                100.0 (100.0)             False                         \n",
      "fullEventCounter          9000                 100.0 (100.0)             82141                100.0 (100.0)             False                         \n",
      "fourLayerCut              1431                 15.9 (15.9)               15542                18.921 (18.921)           True                          \n",
      "heightCut200              1160                 12.889 (81.062)           2806                 3.416 (18.054)            True                          \n",
      "--------------------------------------------------------------------------------------------------------------------------------\n"
     ]
    }
   ],
   "source": [
    "#run the milliqan processor\n",
    "myiterator.run()\n",
    "\n",
    "#we can also print out the cutflow\n",
    "mycuts.getCutflowCounts()"
   ]
  },
  {
   "cell_type": "markdown",
   "metadata": {},
   "source": [
    "We can now plot the histograms that we created"
   ]
  },
  {
   "cell_type": "code",
   "execution_count": 34,
   "metadata": {},
   "outputs": [
    {
     "name": "stderr",
     "output_type": "stream",
     "text": [
      "Warning in <TCanvas::Constructor>: Deleting canvas with same name: c1\n"
     ]
    },
    {
     "data": {
      "text/html": [
       "\n",
       "\n",
       "<div id=\"root_plot_1733325157345\" style=\"width: 400px; height: 400px; position: relative\">\n",
       "</div>\n",
       "\n",
       "<script>\n",
       "\n",
       "function display_root_plot_1733325157345(Core) {\n",
       "   let obj = Core.parse({\"_typename\":\"TCanvasWebSnapshot\",\"fUniqueID\":0,\"fBits\":0,\"fObjectID\":\"\",\"fOption\":\"\",\"fKind\":3,\"fSnapshot\":{\"_typename\":\"TCanvas\",\"fUniqueID\":0,\"fBits\":3342344,\"fLineColor\":1,\"fLineStyle\":1,\"fLineWidth\":1,\"fFillColor\":0,\"fFillStyle\":1001,\"fLeftMargin\":0.1,\"fRightMargin\":0.1,\"fBottomMargin\":0.1,\"fTopMargin\":0.1,\"fXfile\":2,\"fYfile\":2,\"fAfile\":1,\"fXstat\":0.99,\"fYstat\":0.99,\"fAstat\":2,\"fFrameFillColor\":0,\"fFrameLineColor\":1,\"fFrameFillStyle\":1001,\"fFrameLineStyle\":1,\"fFrameLineWidth\":1,\"fFrameBorderSize\":1,\"fFrameBorderMode\":0,\"fX1\":-175.000013038517,\"fY1\":-113.662508468517,\"fX2\":1575.00001303852,\"fY2\":1022.96250846852,\"fXtoAbsPixelk\":39.600002360344,\"fXtoPixelk\":39.600002360344,\"fXtoPixel\":0.226285710913794,\"fYtoAbsPixelk\":334.799997782707,\"fYtoPixelk\":334.799997782707,\"fYtoPixel\":-0.327284719636439,\"fUtoAbsPixelk\":0,\"fUtoPixelk\":0,\"fUtoPixel\":396,\"fVtoAbsPixelk\":372,\"fVtoPixelk\":372,\"fVtoPixel\":-372,\"fAbsPixeltoXk\":-175.000013038517,\"fPixeltoXk\":-175.000013038517,\"fPixeltoX\":4.41919198504301,\"fAbsPixeltoYk\":1022.96250846852,\"fPixeltoYk\":-113.662508468517,\"fPixeltoY\":-3.05544359391676,\"fXlowNDC\":0,\"fYlowNDC\":0,\"fXUpNDC\":1,\"fYUpNDC\":1,\"fWNDC\":1,\"fHNDC\":1,\"fAbsXlowNDC\":0,\"fAbsYlowNDC\":0,\"fAbsWNDC\":1,\"fAbsHNDC\":1,\"fUxmin\":0,\"fUymin\":0,\"fUxmax\":1400,\"fUymax\":909.3,\"fTheta\":30,\"fPhi\":30,\"fAspectRatio\":0,\"fNumber\":0,\"fTickx\":0,\"fTicky\":0,\"fLogx\":0,\"fLogy\":0,\"fLogz\":0,\"fPadPaint\":0,\"fCrosshair\":0,\"fCrosshairPos\":0,\"fBorderSize\":2,\"fBorderMode\":0,\"fModified\":false,\"fGridx\":false,\"fGridy\":false,\"fAbsCoord\":false,\"fEditable\":true,\"fFixedAspectRatio\":false,\"fPrimitives\":{\"_typename\":\"TList\",\"name\":\"TList\",\"arr\":[],\"opt\":[]},\"fExecs\":null,\"fName\":\"c1\",\"fTitle\":\"c1\",\"fNumPaletteColor\":0,\"fNextPaletteColor\":0,\"fDISPLAY\":\"$DISPLAY\",\"fDoubleBuffer\":0,\"fRetained\":true,\"fXsizeUser\":0,\"fYsizeUser\":0,\"fXsizeReal\":20,\"fYsizeReal\":20,\"fWindowTopX\":0,\"fWindowTopY\":0,\"fWindowWidth\":0,\"fWindowHeight\":0,\"fCw\":396,\"fCh\":372,\"fCatt\":{\"_typename\":\"TAttCanvas\",\"fXBetween\":2,\"fYBetween\":2,\"fTitleFromTop\":1.2,\"fXdate\":0.2,\"fYdate\":0.3,\"fAdate\":1},\"kMoveOpaque\":true,\"kResizeOpaque\":true,\"fHighLightColor\":2,\"fBatch\":true,\"kShowEventStatus\":false,\"kAutoExec\":true,\"kMenuBar\":true},\"fActive\":false,\"fReadOnly\":true,\"fWithoutPrimitives\":false,\"fHasExecs\":false,\"fPrimitives\":[{\"_typename\":\"TWebSnapshot\",\"fUniqueID\":0,\"fBits\":0,\"fObjectID\":\"\",\"fOption\":\"\",\"fKind\":4,\"fSnapshot\":{\"_typename\":\"TWebPainting\",\"fUniqueID\":0,\"fBits\":0,\"fOper\":\"0:255,255,255;1:0,0,0;2:255,0,0;3:0,255,0;4:0,0,255;5:255,255,0;6:255,0,255;7:0,255,255;8:89,211,84;9:89,84,216;10:254,254,254;11:192,182,172;12:76,76,76;13:102,102,102;14:127,127,127;15:153,153,153;16:178,178,178;17:204,204,204;18:229,229,229;19:242,242,242;20:204,198,170;21:204,198,170;22:193,191,168;23:186,181,163;24:178,165,150;25:183,163,155;26:173,153,140;27:155,142,130;28:135,102,86;29:175,206,198;30:132,193,163;31:137,168,160;32:130,158,140;33:173,188,198;34:122,142,153;35:117,137,145;36:104,130,150;37:109,122,132;38:124,153,209;39:127,127,155;40:170,165,191;41:211,206,135;42:221,186,135;43:188,158,130;44:198,153,124;45:191,130,119;46:206,94,96;47:170,142,147;48:165,119,122;49:147,104,112;50:211,89,84;51:146,0,255;52:122,0,255;53:98,0,255;54:74,0,255;55:51,0,255;56:27,0,255;57:3,0,255;58:0,20,255;59:0,44,255;60:0,68,255;61:0,91,255;62:0,115,255;63:0,139,255;64:0,163,255;65:0,187,255;66:0,210,255;67:0,234,255;68:0,255,251;69:0,255,227;70:0,255,204;71:0,255,180;72:0,255,156;73:0,255,132;74:0,255,108;75:0,255,85;76:0,255,61;77:0,255,37;78:0,255,13;79:10,255,0;80:34,255,0;81:57,255,0;82:81,255,0;83:105,255,0;84:129,255,0;85:153,255,0;86:176,255,0;87:200,255,0;88:224,255,0;89:248,255,0;90:255,238,0;91:255,214,0;92:255,190,0;93:255,166,0;94:255,142,0;95:255,119,0;96:255,95,0;97:255,71,0;98:255,47,0;99:255,23,0;110:254,254,254;201:91,91,91;202:122,122,122;203:183,183,183;204:214,214,214;205:137,15,15;206:183,20,20;207:234,71,71;208:239,117,117;209:15,137,15;210:20,183,20;211:71,234,71;212:117,239,117;213:15,15,137;214:20,20,183;215:71,71,234;216:117,117,239;217:137,137,15;218:183,183,20;219:234,234,71;220:239,239,117;221:137,15,137;222:183,20,183;223:234,71,234;224:239,117,239;225:15,137,137;226:20,183,183;227:71,234,234;228:117,239,239;390:255,255,204;391:255,255,153;392:204,204,153;393:255,255,102;394:204,204,102;395:153,153,102;396:255,255,51;397:204,204,51;398:153,153,51;399:102,102,51;400:255,255,0;401:204,204,0;402:153,153,0;403:102,102,0;404:51,51,0;406:204,255,204;407:153,255,153;408:153,204,153;409:102,255,102;410:102,204,102;411:102,153,102;412:51,255,51;413:51,204,51;414:51,153,51;415:51,102,51;416:0,255,0;417:0,204,0;418:0,153,0;419:0,102,0;420:0,51,0;422:204,255,255;423:153,255,255;424:153,204,204;425:102,255,255;426:102,204,204;427:102,153,153;428:51,255,255;429:51,204,204;430:51,153,153;431:51,102,102;432:0,255,255;433:0,204,204;434:0,153,153;435:0,102,102;436:0,51,51;590:204,204,255;591:153,153,255;592:153,153,204;593:102,102,255;594:102,102,204;595:102,102,153;596:51,51,255;597:51,51,204;598:51,51,153;599:51,51,102;600:0,0,255;601:0,0,204;602:0,0,153;603:0,0,102;604:0,0,51;606:255,204,255;607:255,153,255;608:204,153,204;609:255,102,255;610:204,102,204;611:153,102,153;612:255,51,255;613:204,51,204;614:153,51,153;615:102,51,102;616:255,0,255;617:204,0,204;618:153,0,153;619:102,0,102;620:51,0,51;622:255,204,204;623:255,153,153;624:204,153,153;625:255,102,102;626:204,102,102;627:153,102,102;628:255,51,51;629:204,51,51;630:153,51,51;631:102,51,51;632:255,0,0;633:204,0,0;634:153,0,0;635:102,0,0;636:51,0,0;791:255,204,153;792:204,153,102;793:153,102,51;794:153,102,0;795:204,153,51;796:255,204,102;797:255,153,0;798:255,204,51;799:204,153,0;800:255,204,0;801:255,153,51;802:204,102,0;803:102,51,0;804:153,51,0;805:204,102,51;806:255,153,102;807:255,102,0;808:255,102,51;809:204,51,0;810:255,51,0;811:153,255,51;812:102,204,0;813:51,102,0;814:51,153,0;815:102,204,51;816:153,255,102;817:102,255,0;818:102,255,51;819:51,204,0;820:51,255,0;821:204,255,153;822:153,204,102;823:102,153,51;824:102,153,0;825:153,204,51;826:204,255,102;827:153,255,0;828:204,255,51;829:153,204,0;830:204,255,0;831:153,255,204;832:102,204,153;833:51,153,102;834:0,153,102;835:51,204,153;836:102,255,204;837:0,255,102;838:51,255,204;839:0,204,153;840:0,255,204;841:51,255,153;842:0,204,102;843:0,102,51;844:0,153,51;845:51,204,102;846:102,255,153;847:0,255,153;848:51,255,102;849:0,204,51;850:0,255,51;851:153,204,255;852:102,153,204;853:51,102,153;854:0,51,153;855:51,102,204;856:102,153,255;857:0,102,255;858:51,102,255;859:0,51,204;860:0,51,255;861:51,153,255;862:0,102,204;863:0,51,102;864:0,102,153;865:51,153,204;866:102,204,255;867:0,153,255;868:51,204,255;869:0,153,204;870:0,204,255;871:204,153,255;872:153,102,204;873:102,51,153;874:102,0,153;875:153,51,204;876:204,102,255;877:153,0,255;878:204,51,255;879:153,0,204;880:204,0,255;881:153,51,255;882:102,0,204;883:51,0,102;884:51,0,153;885:102,51,204;886:153,102,255;887:102,0,255;888:102,51,255;889:51,0,204;890:51,0,255;891:255,51,153;892:204,0,102;893:102,0,51;894:153,0,51;895:204,51,102;896:255,102,153;897:255,0,102;898:255,51,102;899:204,0,51;900:255,0,51;901:255,153,204;902:204,102,153;903:153,51,102;904:153,0,102;905:204,51,153;906:255,102,204;907:255,0,153;908:204,0,153;909:255,51,204;910:255,0,153;920:204,204,204;921:153,153,153;922:102,102,102;923:51,51,51;924:53,42,134;925:51,44,137;926:50,45,140;927:49,47,143;928:48,48,146;929:46,50,148;930:45,51,151;931:44,53,154;932:43,55,157;933:42,56,160;934:40,58,162;935:39,59,165;936:38,61,168;937:37,63,171;938:35,64,174;939:34,66,176;940:33,67,179;941:32,69,182;942:31,71,185;943:29,72,187;944:28,74,190;945:27,75,193;946:26,77,196;947:24,79,199;948:23,80,201;949:22,82,204;950:21,83,207;951:19,85,210;952:18,86,213;953:17,88,215;954:16,90,218;955:15,91,221;956:15,92,221;957:15,94,220;958:15,95,220;959:15,96,220;960:15,97,220;961:15,98,220;962:16,99,219;963:16,100,219;964:16,102,219;965:16,103,219;966:16,104,218;967:16,105,218;968:17,106,218;969:17,107,218;970:17,109,217;971:17,110,217;972:17,111,217;973:17,112,217;974:17,113,216;975:18,114,216;976:18,115,216;977:18,117,216;978:18,118,215;979:18,119,215;980:18,120,215;981:18,121,215;982:19,122,215;983:19,123,214;984:19,125,214;985:19,126,214;986:19,127,214;987:19,128,213;988:19,129,213;989:19,130,213;990:18,131,212;991:18,132,212;992:17,134,211;993:17,135,211;994:16,136,211;995:16,137,210;996:15,138,210;997:15,139,210;998:15,140,209;999:14,141,209;1000:14,142,208;1001:13,143,208;1002:13,145,208;1003:12,146,207;1004:12,147,207;1005:12,148,207;1006:11,149,206;1007:11,150,206;1008:10,151,205;1009:10,152,205;1010:9,153,205;1011:9,154,204;1012:8,155,204;1013:8,157,204;1014:8,158,203;1015:7,159,203;1016:7,160,202;1017:6,161,202;1018:6,162,202;1019:5,163,201;1020:7,164,200;1021:8,164,199;1022:9,165,198;1023:10,166,197;1024:12,166,195;1025:13,167,194;1026:14,167,193;1027:15,168,192;1028:17,169,191;1029:18,169,189;1030:19,170,188;1031:20,170,187;1032:22,171,186;1033:23,172,185;1034:24,172,184;1035:25,173,182;1036:27,173,181;1037:28,174,180;1038:29,175,179;1039:30,175,178;1040:32,176,176;1041:33,176,175;1042:34,177,174;1043:35,178,173;1044:37,178,172;1045:38,179,170;1046:39,180,169;1047:40,180,168;1048:42,181,167;1049:43,181,166;1050:44,182,165;1051:45,183,163;1052:48,183,162;1053:51,183,161;1054:54,183,159;1055:57,184,158;1056:59,184,156;1057:62,184,155;1058:65,184,154;1059:68,185,152;1060:71,185,151;1061:73,185,149;1062:76,185,148;1063:79,186,146;1064:82,186,145;1065:84,186,144;1066:87,186,142;1067:90,187,141;1068:93,187,139;1069:96,187,138;1070:98,187,137;1071:101,188,135;1072:104,188,134;1073:107,188,132;1074:110,188,131;1075:112,189,130;1076:115,189,128;1077:118,189,127;1078:121,189,125;1079:124,190,124;1080:126,190,123;1081:129,190,121;1082:132,190,120;1083:135,191,118;1084:137,190,117;1085:139,190,117;1086:142,190,116;1087:144,190,115;1088:146,190,114;1089:148,190,113;1090:151,190,112;1091:153,190,111;1092:155,189,110;1093:158,189,109;1094:160,189,108;1095:162,189,107;1096:165,189,106;1097:167,189,105;1098:169,189,104;1099:171,188,104;1100:174,188,103;1101:176,188,102;1102:178,188,101;1103:181,188,100;1104:183,188,99;1105:185,188,98;1106:188,188,97;1107:190,187,96;1108:192,187,95;1109:194,187,94;1110:197,187,93;1111:199,187,92;1112:201,187,92;1113:204,187,91;1114:206,186,90;1115:208,186,89;1116:210,187,88;1117:211,187,86;1118:212,188,85;1119:214,188,84;1120:215,188,83;1121:217,189,81;1122:218,189,80;1123:220,190,79;1124:221,190,78;1125:222,191,77;1126:224,191,75;1127:225,191,74;1128:227,192,73;1129:228,192,72;1130:229,193,70;1131:231,193,69;1132:232,194,68;1133:234,194,67;1134:235,194,66;1135:236,195,64;1136:238,195,63;1137:239,196,62;1138:241,196,61;1139:242,197,59;1140:244,197,58;1141:245,197,57;1142:246,198,56;1143:248,198,55;1144:249,199,53;1145:251,199,52;1146:252,200,51;1147:253,200,50;1148:253,202,49;1149:253,203,47;1150:253,205,46;1151:253,206,45;1152:253,208,44;1153:252,209,43;1154:252,211,42;1155:252,213,41;1156:252,214,39;1157:252,216,38;1158:252,217,37;1159:252,219,36;1160:251,220,35;1161:251,222,34;1162:251,224,33;1163:251,225,31;1164:251,227,30;1165:251,228,29;1166:250,230,28;1167:250,231,27;1168:250,233,26;1169:250,235,25;1170:250,236,23;1171:250,238,22;1172:250,239,21;1173:249,241,20;1174:249,242,19;1175:249,244,18;1176:249,246,17;1177:249,247,16;1178:249,249,14;1179=0,0,255,0.300;1180=255,0,0,0.300\",\"fBuf\":[924,925,926,927,928,929,930,931,932,933,934,935,936,937,938,939,940,941,942,943,944,945,946,947,948,949,950,951,952,953,954,955,956,957,958,959,960,961,962,963,964,965,966,967,968,969,970,971,972,973,974,975,976,977,978,979,980,981,982,983,984,985,986,987,988,989,990,991,992,993,994,995,996,997,998,999,1000,1001,1002,1003,1004,1005,1006,1007,1008,1009,1010,1011,1012,1013,1014,1015,1016,1017,1018,1019,1020,1021,1022,1023,1024,1025,1026,1027,1028,1029,1030,1031,1032,1033,1034,1035,1036,1037,1038,1039,1040,1041,1042,1043,1044,1045,1046,1047,1048,1049,1050,1051,1052,1053,1054,1055,1056,1057,1058,1059,1060,1061,1062,1063,1064,1065,1066,1067,1068,1069,1070,1071,1072,1073,1074,1075,1076,1077,1078,1079,1080,1081,1082,1083,1084,1085,1086,1087,1088,1089,1090,1091,1092,1093,1094,1095,1096,1097,1098,1099,1100,1101,1102,1103,1104,1105,1106,1107,1108,1109,1110,1111,1112,1113,1114,1115,1116,1117,1118,1119,1120,1121,1122,1123,1124,1125,1126,1127,1128,1129,1130,1131,1132,1133,1134,1135,1136,1137,1138,1139,1140,1141,1142,1143,1144,1145,1146,1147,1148,1149,1150,1151,1152,1153,1154,1155,1156,1157,1158,1159,1160,1161,1162,1163,1164,1165,1166,1167,1168,1169,1170,1171,1172,1173,1174,1175,1176,1177,1178]}},{\"_typename\":\"TWebSnapshot\",\"fUniqueID\":0,\"fBits\":0,\"fObjectID\":\"\",\"fOption\":\"\",\"fKind\":5,\"fSnapshot\":{\"_typename\":\"TStyle\",\"fUniqueID\":0,\"fBits\":0,\"fName\":\"Modern\",\"fTitle\":\"Modern Style\",\"fLineColor\":1,\"fLineStyle\":1,\"fLineWidth\":1,\"fFillColor\":19,\"fFillStyle\":1001,\"fMarkerColor\":1,\"fMarkerStyle\":1,\"fMarkerSize\":1,\"fTextAngle\":0,\"fTextSize\":0.05,\"fTextAlign\":11,\"fTextColor\":1,\"fTextFont\":62,\"fXaxis\":{\"_typename\":\"TAttAxis\",\"fNdivisions\":510,\"fAxisColor\":1,\"fLabelColor\":1,\"fLabelFont\":42,\"fLabelOffset\":0.005,\"fLabelSize\":0.035,\"fTickLength\":0.03,\"fTitleOffset\":1,\"fTitleSize\":0.035,\"fTitleColor\":1,\"fTitleFont\":42},\"fYaxis\":{\"_typename\":\"TAttAxis\",\"fNdivisions\":510,\"fAxisColor\":1,\"fLabelColor\":1,\"fLabelFont\":42,\"fLabelOffset\":0.005,\"fLabelSize\":0.035,\"fTickLength\":0.03,\"fTitleOffset\":0,\"fTitleSize\":0.035,\"fTitleColor\":1,\"fTitleFont\":42},\"fZaxis\":{\"_typename\":\"TAttAxis\",\"fNdivisions\":510,\"fAxisColor\":1,\"fLabelColor\":1,\"fLabelFont\":42,\"fLabelOffset\":0.005,\"fLabelSize\":0.035,\"fTickLength\":0.03,\"fTitleOffset\":1,\"fTitleSize\":0.035,\"fTitleColor\":1,\"fTitleFont\":42},\"fBarWidth\":1,\"fBarOffset\":0,\"fColorModelPS\":0,\"fDrawBorder\":0,\"fOptLogx\":0,\"fOptLogy\":0,\"fOptLogz\":0,\"fOptDate\":0,\"fOptStat\":0,\"fOptTitle\":1,\"fOptFile\":0,\"fOptFit\":0,\"fShowEventStatus\":0,\"fShowEditor\":0,\"fShowToolBar\":0,\"fNumberContours\":20,\"fAttDate\":{\"_typename\":\"TAttText\",\"fTextAngle\":0,\"fTextSize\":0.025,\"fTextAlign\":11,\"fTextColor\":1,\"fTextFont\":62},\"fDateX\":0.01,\"fDateY\":0.01,\"fEndErrorSize\":2,\"fErrorX\":0.5,\"fFuncColor\":2,\"fFuncStyle\":1,\"fFuncWidth\":2,\"fGridColor\":0,\"fGridStyle\":3,\"fGridWidth\":1,\"fLegendBorderSize\":1,\"fLegendFillColor\":0,\"fLegendFont\":42,\"fLegendTextSize\":0,\"fHatchesLineWidth\":1,\"fHatchesSpacing\":1,\"fFrameFillColor\":0,\"fFrameLineColor\":1,\"fFrameFillStyle\":1001,\"fFrameLineStyle\":1,\"fFrameLineWidth\":1,\"fFrameBorderSize\":1,\"fFrameBorderMode\":0,\"fHistFillColor\":0,\"fHistLineColor\":602,\"fHistFillStyle\":1001,\"fHistLineStyle\":1,\"fHistLineWidth\":1,\"fHistMinimumZero\":false,\"fHistTopMargin\":0.05,\"fCanvasPreferGL\":false,\"fCanvasColor\":0,\"fCanvasBorderSize\":2,\"fCanvasBorderMode\":0,\"fCanvasDefH\":500,\"fCanvasDefW\":700,\"fCanvasDefX\":10,\"fCanvasDefY\":10,\"fPadColor\":0,\"fPadBorderSize\":2,\"fPadBorderMode\":0,\"fPadBottomMargin\":0.1,\"fPadTopMargin\":0.1,\"fPadLeftMargin\":0.1,\"fPadRightMargin\":0.1,\"fPadGridX\":false,\"fPadGridY\":false,\"fPadTickX\":0,\"fPadTickY\":0,\"fPaperSizeX\":20,\"fPaperSizeY\":26,\"fScreenFactor\":1,\"fStatColor\":0,\"fStatTextColor\":1,\"fStatBorderSize\":1,\"fStatFont\":42,\"fStatFontSize\":0,\"fStatStyle\":1001,\"fStatFormat\":\"6.4g\",\"fStatX\":0.98,\"fStatY\":0.935,\"fStatW\":0.2,\"fStatH\":0.16,\"fStripDecimals\":true,\"fTitleAlign\":23,\"fTitleColor\":0,\"fTitleTextColor\":1,\"fTitleBorderSize\":0,\"fTitleFont\":42,\"fTitleFontSize\":0.05,\"fTitleStyle\":0,\"fTitleX\":0.5,\"fTitleY\":0.995,\"fTitleW\":0,\"fTitleH\":0,\"fLegoInnerR\":0.5,\"fLineStyles\":[\"\",\"  \",\" 12 12\",\" 4 8\",\" 12 16 4 16\",\" 20 12 4 12\",\" 20 12 4 12 4 12 4 12\",\" 20 20\",\" 20 12 4 12 4 12\",\" 80 20\",\" 80 40 4 40\",\"  \",\"  \",\"  \",\"  \",\"  \",\"  \",\"  \",\"  \",\"  \",\"  \",\"  \",\"  \",\"  \",\"  \",\"  \",\"  \",\"  \",\"  \",\"  \"],\"fHeaderPS\":\"\",\"fTitlePS\":\"\",\"fFitFormat\":\"5.4g\",\"fPaintTextFormat\":\"g\",\"fLineScalePS\":3,\"fJoinLinePS\":0,\"fCapLinePS\":0,\"fTimeOffset\":788918400,\"fImageScaling\":1,\"fCandleWhiskerRange\":1,\"fCandleBoxRange\":0.5,\"fCandleScaled\":false,\"fViolinScaled\":true,\"fXAxisExpXOffset\":0,\"fXAxisExpYOffset\":0,\"fYAxisExpXOffset\":0,\"fYAxisExpYOffset\":0,\"fAxisMaxDigits\":5,\"fOrthoCamera\":false}},{\"_typename\":\"TWebSnapshot\",\"fUniqueID\":0,\"fBits\":0,\"fObjectID\":\"\",\"fOption\":\"\",\"fKind\":1,\"fSnapshot\":{\"_typename\":\"TFrame\",\"fUniqueID\":0,\"fBits\":8,\"fLineColor\":1,\"fLineStyle\":1,\"fLineWidth\":1,\"fFillColor\":0,\"fFillStyle\":1001,\"fX1\":0,\"fY1\":0,\"fX2\":1400,\"fY2\":909.3,\"fBorderSize\":1,\"fBorderMode\":0}},{\"_typename\":\"TWebSnapshot\",\"fUniqueID\":0,\"fBits\":0,\"fObjectID\":\"\",\"fOption\":\"\",\"fKind\":1,\"fSnapshot\":{\"_typename\":\"TH1F\",\"fUniqueID\":0,\"fBits\":520,\"fName\":\"h_height\",\"fTitle\":\"Height\",\"fLineColor\":602,\"fLineStyle\":1,\"fLineWidth\":1,\"fFillColor\":0,\"fFillStyle\":1001,\"fMarkerColor\":1,\"fMarkerStyle\":1,\"fMarkerSize\":1,\"fNcells\":142,\"fXaxis\":{\"_typename\":\"TAxis\",\"fUniqueID\":0,\"fBits\":0,\"fName\":\"xaxis\",\"fTitle\":\"\",\"fNdivisions\":510,\"fAxisColor\":1,\"fLabelColor\":1,\"fLabelFont\":42,\"fLabelOffset\":0.005,\"fLabelSize\":0.035,\"fTickLength\":0.03,\"fTitleOffset\":1,\"fTitleSize\":0.035,\"fTitleColor\":1,\"fTitleFont\":42,\"fNbins\":140,\"fXmin\":0,\"fXmax\":1400,\"fXbins\":[],\"fFirst\":0,\"fLast\":0,\"fBits2\":0,\"fTimeDisplay\":false,\"fTimeFormat\":\"\",\"fLabels\":null,\"fModLabs\":null},\"fYaxis\":{\"_typename\":\"TAxis\",\"fUniqueID\":0,\"fBits\":0,\"fName\":\"yaxis\",\"fTitle\":\"\",\"fNdivisions\":510,\"fAxisColor\":1,\"fLabelColor\":1,\"fLabelFont\":42,\"fLabelOffset\":0.005,\"fLabelSize\":0.035,\"fTickLength\":0.03,\"fTitleOffset\":0,\"fTitleSize\":0.035,\"fTitleColor\":1,\"fTitleFont\":42,\"fNbins\":1,\"fXmin\":0,\"fXmax\":1,\"fXbins\":[],\"fFirst\":0,\"fLast\":0,\"fBits2\":0,\"fTimeDisplay\":false,\"fTimeFormat\":\"\",\"fLabels\":null,\"fModLabs\":null},\"fZaxis\":{\"_typename\":\"TAxis\",\"fUniqueID\":0,\"fBits\":0,\"fName\":\"zaxis\",\"fTitle\":\"\",\"fNdivisions\":510,\"fAxisColor\":1,\"fLabelColor\":1,\"fLabelFont\":42,\"fLabelOffset\":0.005,\"fLabelSize\":0.035,\"fTickLength\":0.03,\"fTitleOffset\":1,\"fTitleSize\":0.035,\"fTitleColor\":1,\"fTitleFont\":42,\"fNbins\":1,\"fXmin\":0,\"fXmax\":1,\"fXbins\":[],\"fFirst\":0,\"fLast\":0,\"fBits2\":0,\"fTimeDisplay\":false,\"fTimeFormat\":\"\",\"fLabels\":null,\"fModLabs\":null},\"fBarOffset\":0,\"fBarWidth\":1000,\"fEntries\":2806,\"fTsumw\":2806,\"fTsumw2\":2806,\"fTsumwx\":2874236.98352051,\"fTsumwx2\":3120153614.95653,\"fMaximum\":-1111,\"fMinimum\":-1111,\"fNormFactor\":0,\"fContour\":[],\"fSumw2\":[],\"fOption\":\"\",\"fFunctions\":{\"_typename\":\"TList\",\"name\":\"TList\",\"arr\":[],\"opt\":[]},\"fBufferSize\":0,\"fBuffer\":[],\"fBinStatErrOpt\":0,\"fStatOverflows\":2,\"fArray\":[0,0,0,0,0,0,0,0,0,0,0,0,0,0,0,0,0,0,0,0,0,0,0,0,0,0,0,0,0,0,0,0,0,0,0,0,0,0,0,0,0,0,0,0,0,0,0,0,0,0,0,24,34,18,29,32,21,28,31,21,22,24,24,25,30,20,13,31,24,17,17,22,27,17,21,22,13,28,18,25,13,18,23,17,11,19,8,19,8,14,13,12,14,20,10,7,10,13,18,16,27,18,26,23,9,15,28,87,223,75,19,14,12,14,6,10,5,10,5,11,5,7,9,12,15,866,288,0,2,4,0,0,0,0,0,0,0,0,0,0,0,0]}},{\"_typename\":\"TWebSnapshot\",\"fUniqueID\":0,\"fBits\":0,\"fObjectID\":\"\",\"fOption\":\"blNDC\",\"fKind\":1,\"fSnapshot\":{\"_typename\":\"TPaveText\",\"fUniqueID\":0,\"fBits\":9,\"fLineColor\":1,\"fLineStyle\":1,\"fLineWidth\":1,\"fFillColor\":0,\"fFillStyle\":0,\"fX1\":552.133836180461,\"fY1\":943.94874254968,\"fX2\":847.866163819539,\"fY2\":1017.27938880368,\"fX1NDC\":0.41550505050505,\"fY1NDC\":0.930483875736114,\"fX2NDC\":0.584494949494949,\"fY2NDC\":0.995000004768372,\"fBorderSize\":0,\"fInit\":1,\"fShadowColor\":1,\"fCornerRadius\":0,\"fOption\":\"blNDC\",\"fName\":\"title\",\"fTextAngle\":0,\"fTextSize\":0,\"fTextAlign\":22,\"fTextColor\":1,\"fTextFont\":42,\"fLabel\":\"\",\"fLongest\":6,\"fMargin\":0.05,\"fLines\":{\"_typename\":\"TList\",\"name\":\"TList\",\"arr\":[{\"_typename\":\"TLatex\",\"fUniqueID\":0,\"fBits\":0,\"fName\":\"\",\"fTitle\":\"Height\",\"fTextAngle\":0,\"fTextSize\":0,\"fTextAlign\":0,\"fTextColor\":0,\"fTextFont\":0,\"fX\":0,\"fY\":0,\"fLineColor\":1,\"fLineStyle\":1,\"fLineWidth\":2,\"fLimitFactorSize\":3,\"fOriginSize\":0.0548387095332146}],\"opt\":[\"\"]}}}],\"fScripts\":\"\",\"fHighlightConnect\":false,\"fFixedSize\":false});\n",
       "   Core.settings.HandleKeys = false;\n",
       "   Core.draw(\"root_plot_1733325157345\", obj, \"\");\n",
       "}\n",
       "\n",
       "function script_load_root_plot_1733325157345(src, on_error) {\n",
       "    let script = document.createElement('script');\n",
       "    script.src = src;\n",
       "    script.onload = function() { display_root_plot_1733325157345(JSROOT); };\n",
       "    script.onerror = function() { script.remove(); on_error(); };\n",
       "    document.head.appendChild(script);\n",
       "}\n",
       "\n",
       "if (typeof requirejs !== 'undefined') {\n",
       "\n",
       "    // We are in jupyter notebooks, use require.js which should be configured already\n",
       "    requirejs.config({\n",
       "       paths: { 'JSRootCore' : [ 'build/jsroot', 'https://root.cern/js/7.7.2/build/jsroot', 'https://jsroot.gsi.de/7.7.2/build/jsroot' ] }\n",
       "    })(['JSRootCore'],  function(Core) {\n",
       "       display_root_plot_1733325157345(Core);\n",
       "    });\n",
       "\n",
       "} else if (typeof JSROOT !== 'undefined') {\n",
       "\n",
       "   // JSROOT already loaded, just use it\n",
       "   display_root_plot_1733325157345(JSROOT);\n",
       "\n",
       "} else {\n",
       "\n",
       "    // We are in jupyterlab without require.js, directly loading jsroot\n",
       "    // Jupyterlab might be installed in a different base_url so we need to know it.\n",
       "    try {\n",
       "        var base_url = JSON.parse(document.getElementById('jupyter-config-data').innerHTML).baseUrl;\n",
       "    } catch(_) {\n",
       "        var base_url = '/';\n",
       "    }\n",
       "\n",
       "    // Try loading a local version of requirejs and fallback to cdn if not possible.\n",
       "    script_load_root_plot_1733325157345(base_url + 'static/build/jsroot.js', function(){\n",
       "        console.error('Fail to load JSROOT locally, please check your jupyter_notebook_config.py file');\n",
       "        script_load_root_plot_1733325157345('https://root.cern/js/7.7.2/build/jsroot.js', function(){\n",
       "            document.getElementById(\"root_plot_1733325157345\").innerHTML = \"Failed to load JSROOT\";\n",
       "        });\n",
       "    });\n",
       "}\n",
       "\n",
       "</script>\n"
      ],
      "text/plain": [
       "<IPython.core.display.HTML object>"
      ]
     },
     "metadata": {},
     "output_type": "display_data"
    }
   ],
   "source": [
    "c1 = r.TCanvas(\"c1\", \"c1\", 400, 400)\n",
    "h_height.Draw()\n",
    "c1.Draw()"
   ]
  },
  {
   "cell_type": "markdown",
   "metadata": {},
   "source": [
    "## Example Analysis: Finding Beam Muons\n",
    "\n",
    "As an example analysis we will try to look for beam muons by comparing one run with beam on vs another with beam off. Some initial criteria we need to consider for this is\n",
    "\n",
    "### Event and Pulse Cuts:\n",
    "1. Boards Matched: Require that all digitizer boards are matched in the event\n",
    "2. Pickup Flag: Only use pulses passing the pickup flag cut\n",
    "\n",
    "### Branches \n",
    "1. 4 layers hit: we want there to be hits in all four layers of the detector\n",
    "2. Straight pulse path: we want to have pulses in a straight line path through the detector\n",
    "3. Channel pulse selection: there can be multiple pulses in a given channel. We need to decide which to use\n",
    "4. Bar hits: require all hits that we look at are in bars"
   ]
  },
  {
   "cell_type": "markdown",
   "metadata": {},
   "source": [
    "We also want to define a new cut function to create a branch for the things we want to plot. Here we want to recreate the plot made in the run 2 milliQan analysis looking at cosmic vs beam muon times between layers 1 and 3 (see below). Therefore we will create a function that calculates the times between pulses in different layers.\n",
    "\n",
    "<img src=\"https://github.com/carriganm95/milliqanOffline/blob/updateProcessor/Run3Detector/analysis/tutorial/milliqan_beam_muon_Run2.png?raw=true\" alt=\"Alternative text\" />"
   ]
  },
  {
   "cell_type": "code",
   "execution_count": 35,
   "metadata": {},
   "outputs": [],
   "source": [
    "#define function to get the time difference between pulses in layer1 and layer3\n",
    "@mqCut\n",
    "def timeDiff(self, cutName='timeDiff', branches=None):\n",
    "\n",
    "    times0 = self.events['timeFit_module_calibrated'][(self.events['layer']==0) & (self.events['type']==0)]\n",
    "    times3 = self.events['timeFit_module_calibrated'][(self.events['layer']==3) & (self.events['type']==0)]\n",
    "\n",
    "    combos = ak.cartesian([times0, times3], axis=1)\n",
    "\n",
    "    diff = combos['1'] - combos['0']\n",
    "\n",
    "    self.events[cutName] = diff"
   ]
  },
  {
   "cell_type": "markdown",
   "metadata": {},
   "source": [
    "### Creating our processor:\n",
    "\n",
    "Now we want to run on our beam on file: Run 1031\n",
    "\n",
    "We will select the branches that we need for this analysis and develop the cuts"
   ]
  },
  {
   "cell_type": "code",
   "execution_count": 40,
   "metadata": {},
   "outputs": [
    {
     "name": "stdout",
     "output_type": "stream",
     "text": [
      "----------------------------\n",
      "MilliQan Scheduler:\n",
      "\t0. totalEventCounter\n",
      "\t1. fullEventCounter\n",
      "\t2. boardMatchCut\n",
      "\t3. pickupCut\n",
      "\t4. centralTimeCut\n",
      "\t5. nPECut\n",
      "\t6. panelVeto\n",
      "\t7. fourLayerCut\n",
      "\t8. barCut\n",
      "\t9. firstPulseCut\n",
      "\t10. straightLineCut\n",
      "\t11. timeDiff\n",
      "\t12. h_timeDiff_beamOn\n",
      "----------------------------\n",
      "\n",
      "Chosen quality level: \u001b[1;34m override \u001b[0m\n",
      "Chosen verbosity level: \u001b[1;34m minimal \n",
      "\u001b[0m\n",
      "\n",
      "\u001b[1;31mQuality check is being overridden. All files will be processed.\u001b[0m\n",
      "MilliQan Processor: Processing event 0...\n",
      "MilliQan Processor: Processing event 10000...\n",
      "Number of processed events 11800\n",
      "----------------------------------Cutflow Table----------------------------------------------------------------------------------\n",
      "Cut                       N Passing Events     Cum Event Eff % (Prev)    N Passing Pulses     Cum Pulse Eff % (Prev)    Cut Applied                   \n",
      "---------------------------------------------------------------------------------------------------------------------------------\n",
      "totalEventCounter         11800                100.0 (100.0)             586060               100.0 (100.0)             False                         \n",
      "fullEventCounter          11800                100.0 (100.0)             586060               100.0 (100.0)             False                         \n",
      "boardMatchCut             11800                100.0 (100.0)             586060               100.0 (100.0)             True                          \n",
      "pickupCut                 11798                99.983 (99.983)           442163               75.447 (75.447)           True                          \n",
      "centralTimeCut            11798                99.983 (100.0)            254261               43.385 (57.504)           True                          \n",
      "nPECut                    11776                99.797 (99.814)           194982               33.27 (76.686)            True                          \n",
      "panelVeto                 4323                 36.636 (36.71)            29928                5.107 (15.349)            True                          \n",
      "fourLayerCut              559                  4.737 (12.931)            6671                 1.138 (22.29)             True                          \n",
      "barCut                    559                  4.737 (100.0)             4778                 0.815 (71.623)            True                          \n",
      "firstPulseCut             559                  4.737 (100.0)             4743                 0.809 (99.267)            True                          \n",
      "straightLineCut           26                   0.22 (4.651)              104                  0.018 (2.193)             True                          \n",
      "timeDiff                  26                   0.22 (100.0)              104                  0.018 (100.0)             False                         \n",
      "--------------------------------------------------------------------------------------------------------------------------------\n"
     ]
    },
    {
     "name": "stderr",
     "output_type": "stream",
     "text": [
      "Warning in <TROOT::Append>: Replacing existing TH1: h_timeDiff_beamOn (Potential memory leak).\n"
     ]
    }
   ],
   "source": [
    "#define a file list to run over\n",
    "filelist = ['/eos/experiment/milliqan/skims/beam/MilliQan_Run1500_v35_beam_beamOn_tight.root']\n",
    "\n",
    "#define the necessary branches to run over\n",
    "branches = ['event', 'tTrigger', 'boardsMatched', 'pickupFlag', 'fileNumber', 'runNumber', 'type', 'ipulse', 'nPE', 'chan',\n",
    "                'time_module_calibrated', 'timeFit_module_calibrated', 'row', 'column', 'layer', 'height', 'area', 'npulses', 'sidebandRMS']\n",
    "\n",
    "#define the milliqan cuts object\n",
    "mycuts = milliqanCuts()\n",
    "\n",
    "#require pulses are not pickup\n",
    "pickupCut = getCutMod(mycuts.pickupCut, mycuts, 'pickupCut', cut=True)\n",
    "\n",
    "#require that all digitizer boards are matched\n",
    "boardMatchCut = getCutMod(mycuts.boardsMatched, mycuts, 'boardMatchCut', cut=True)\n",
    "\n",
    "#Add four layer cut\n",
    "fourLayerCut = getCutMod(mycuts.oneHitPerLayerCut, mycuts, 'fourLayerCut', cut=True, multipleHits=True)\n",
    "\n",
    "#add first pulse cut\n",
    "firstPulseCut = getCutMod(mycuts.firstPulseCut, mycuts, 'firstPulseCut', cut=True)\n",
    "\n",
    "#bar cut\n",
    "barCut = getCutMod(mycuts.barCut, mycuts, 'barCut', cut=True)\n",
    "\n",
    "#nPE cut\n",
    "nPECut = getCutMod(mycuts.nPECut, mycuts, 'nPECut', nPECut=20, cut=True)\n",
    "\n",
    "#require pulses occured in trigger window\n",
    "centralTimeCut = getCutMod(mycuts.centralTime, mycuts, 'centralTimeCut', cut=True)\n",
    "\n",
    "#straight line cut\n",
    "straightLineCut = getCutMod(mycuts.straightLineCut, mycuts, 'straightLineCut', cut=True, limitPaths=True)\n",
    "\n",
    "#require no panels hit with nPE>nPECut (note panels have no nPE calibration, should actually be area cut)\n",
    "panelVeto = getCutMod(mycuts.panelVeto, mycuts, 'panelVeto', cut=True, nPECut=100e3)\n",
    "\n",
    "#Add our custom function\n",
    "setattr(milliqanCuts, 'timeDiff', timeDiff)\n",
    "\n",
    "#define milliqan plotter\n",
    "myplotter = milliqanPlotter()\n",
    "\n",
    "#create root histogram \n",
    "h_timeDiff_beamOn = r.TH1F(\"h_timeDiff_beamOn\", \"Time Diff\", 80, -80, 80)\n",
    "\n",
    "#add root histogram to plotter\n",
    "myplotter.addHistograms(h_timeDiff_beamOn, 'timeDiff')\n",
    "\n",
    "#defining the cutflow\n",
    "cutflow = [mycuts.totalEventCounter, mycuts.fullEventCounter, boardMatchCut, pickupCut, centralTimeCut, nPECut, panelVeto,\n",
    "           fourLayerCut, barCut, firstPulseCut, straightLineCut, mycuts.timeDiff, myplotter.dict['h_timeDiff_beamOn']]\n",
    "\n",
    "#create a schedule of the cuts\n",
    "myschedule = milliQanScheduler(cutflow, mycuts, myplotter)\n",
    "\n",
    "#print out the schedule\n",
    "myschedule.printSchedule()\n",
    "\n",
    "#create the milliqan processor object\n",
    "myiterator = milliqanProcessor(filelist, branches, myschedule, mycuts, myplotter, qualityLevel='override', goodRunsList=None)\n",
    "\n",
    "#run the milliqan processor\n",
    "myiterator.run()\n",
    "\n",
    "mycuts.getCutflowCounts()"
   ]
  },
  {
   "cell_type": "code",
   "execution_count": 41,
   "metadata": {},
   "outputs": [
    {
     "name": "stderr",
     "output_type": "stream",
     "text": [
      "Warning in <TCanvas::Constructor>: Deleting canvas with same name: c1\n"
     ]
    },
    {
     "data": {
      "text/html": [
       "\n",
       "\n",
       "<div id=\"root_plot_1733325388322\" style=\"width: 400px; height: 400px; position: relative\">\n",
       "</div>\n",
       "\n",
       "<script>\n",
       "\n",
       "function display_root_plot_1733325388322(Core) {\n",
       "   let obj = Core.parse({\"_typename\":\"TCanvasWebSnapshot\",\"fUniqueID\":0,\"fBits\":0,\"fObjectID\":\"\",\"fOption\":\"\",\"fKind\":3,\"fSnapshot\":{\"_typename\":\"TCanvas\",\"fUniqueID\":0,\"fBits\":3342344,\"fLineColor\":1,\"fLineStyle\":1,\"fLineWidth\":1,\"fFillColor\":0,\"fFillStyle\":1001,\"fLeftMargin\":0.1,\"fRightMargin\":0.1,\"fBottomMargin\":0.1,\"fTopMargin\":0.1,\"fXfile\":2,\"fYfile\":2,\"fAfile\":1,\"fXstat\":0.99,\"fYstat\":0.99,\"fAstat\":2,\"fFrameFillColor\":0,\"fFrameLineColor\":1,\"fFrameFillStyle\":1001,\"fFrameLineStyle\":1,\"fFrameLineWidth\":1,\"fFrameBorderSize\":1,\"fFrameBorderMode\":0,\"fX1\":-100.000001490116,\"fY1\":-0.52500003911555,\"fX2\":100.000001490116,\"fY2\":4.72500003911555,\"fXtoAbsPixelk\":198,\"fXtoPixelk\":198,\"fXtoPixel\":1.9799999704957,\"fYtoAbsPixelk\":334.799997782707,\"fYtoPixelk\":334.799997782707,\"fYtoPixel\":-70.8571418012891,\"fUtoAbsPixelk\":0,\"fUtoPixelk\":0,\"fUtoPixel\":396,\"fVtoAbsPixelk\":372,\"fVtoPixelk\":372,\"fVtoPixel\":-372,\"fAbsPixeltoXk\":-100.000001490116,\"fPixeltoXk\":-100.000001490116,\"fPixeltoX\":0.505050512576344,\"fAbsPixeltoYk\":4.72500003911555,\"fPixeltoYk\":-0.52500003911555,\"fPixeltoY\":-0.0141129034361051,\"fXlowNDC\":0,\"fYlowNDC\":0,\"fXUpNDC\":1,\"fYUpNDC\":1,\"fWNDC\":1,\"fHNDC\":1,\"fAbsXlowNDC\":0,\"fAbsYlowNDC\":0,\"fAbsWNDC\":1,\"fAbsHNDC\":1,\"fUxmin\":-80,\"fUymin\":0,\"fUxmax\":80,\"fUymax\":4.2,\"fTheta\":30,\"fPhi\":30,\"fAspectRatio\":0,\"fNumber\":0,\"fTickx\":0,\"fTicky\":0,\"fLogx\":0,\"fLogy\":0,\"fLogz\":0,\"fPadPaint\":0,\"fCrosshair\":0,\"fCrosshairPos\":0,\"fBorderSize\":2,\"fBorderMode\":0,\"fModified\":false,\"fGridx\":false,\"fGridy\":false,\"fAbsCoord\":false,\"fEditable\":true,\"fFixedAspectRatio\":false,\"fPrimitives\":{\"_typename\":\"TList\",\"name\":\"TList\",\"arr\":[],\"opt\":[]},\"fExecs\":null,\"fName\":\"c1\",\"fTitle\":\"c1\",\"fNumPaletteColor\":0,\"fNextPaletteColor\":0,\"fDISPLAY\":\"$DISPLAY\",\"fDoubleBuffer\":0,\"fRetained\":true,\"fXsizeUser\":0,\"fYsizeUser\":0,\"fXsizeReal\":20,\"fYsizeReal\":20,\"fWindowTopX\":0,\"fWindowTopY\":0,\"fWindowWidth\":0,\"fWindowHeight\":0,\"fCw\":396,\"fCh\":372,\"fCatt\":{\"_typename\":\"TAttCanvas\",\"fXBetween\":2,\"fYBetween\":2,\"fTitleFromTop\":1.2,\"fXdate\":0.2,\"fYdate\":0.3,\"fAdate\":1},\"kMoveOpaque\":true,\"kResizeOpaque\":true,\"fHighLightColor\":2,\"fBatch\":true,\"kShowEventStatus\":false,\"kAutoExec\":true,\"kMenuBar\":true},\"fActive\":false,\"fReadOnly\":true,\"fWithoutPrimitives\":false,\"fHasExecs\":false,\"fPrimitives\":[{\"_typename\":\"TWebSnapshot\",\"fUniqueID\":0,\"fBits\":0,\"fObjectID\":\"\",\"fOption\":\"\",\"fKind\":4,\"fSnapshot\":{\"_typename\":\"TWebPainting\",\"fUniqueID\":0,\"fBits\":0,\"fOper\":\"0:255,255,255;1:0,0,0;2:255,0,0;3:0,255,0;4:0,0,255;5:255,255,0;6:255,0,255;7:0,255,255;8:89,211,84;9:89,84,216;10:254,254,254;11:192,182,172;12:76,76,76;13:102,102,102;14:127,127,127;15:153,153,153;16:178,178,178;17:204,204,204;18:229,229,229;19:242,242,242;20:204,198,170;21:204,198,170;22:193,191,168;23:186,181,163;24:178,165,150;25:183,163,155;26:173,153,140;27:155,142,130;28:135,102,86;29:175,206,198;30:132,193,163;31:137,168,160;32:130,158,140;33:173,188,198;34:122,142,153;35:117,137,145;36:104,130,150;37:109,122,132;38:124,153,209;39:127,127,155;40:170,165,191;41:211,206,135;42:221,186,135;43:188,158,130;44:198,153,124;45:191,130,119;46:206,94,96;47:170,142,147;48:165,119,122;49:147,104,112;50:211,89,84;51:146,0,255;52:122,0,255;53:98,0,255;54:74,0,255;55:51,0,255;56:27,0,255;57:3,0,255;58:0,20,255;59:0,44,255;60:0,68,255;61:0,91,255;62:0,115,255;63:0,139,255;64:0,163,255;65:0,187,255;66:0,210,255;67:0,234,255;68:0,255,251;69:0,255,227;70:0,255,204;71:0,255,180;72:0,255,156;73:0,255,132;74:0,255,108;75:0,255,85;76:0,255,61;77:0,255,37;78:0,255,13;79:10,255,0;80:34,255,0;81:57,255,0;82:81,255,0;83:105,255,0;84:129,255,0;85:153,255,0;86:176,255,0;87:200,255,0;88:224,255,0;89:248,255,0;90:255,238,0;91:255,214,0;92:255,190,0;93:255,166,0;94:255,142,0;95:255,119,0;96:255,95,0;97:255,71,0;98:255,47,0;99:255,23,0;110:254,254,254;201:91,91,91;202:122,122,122;203:183,183,183;204:214,214,214;205:137,15,15;206:183,20,20;207:234,71,71;208:239,117,117;209:15,137,15;210:20,183,20;211:71,234,71;212:117,239,117;213:15,15,137;214:20,20,183;215:71,71,234;216:117,117,239;217:137,137,15;218:183,183,20;219:234,234,71;220:239,239,117;221:137,15,137;222:183,20,183;223:234,71,234;224:239,117,239;225:15,137,137;226:20,183,183;227:71,234,234;228:117,239,239;390:255,255,204;391:255,255,153;392:204,204,153;393:255,255,102;394:204,204,102;395:153,153,102;396:255,255,51;397:204,204,51;398:153,153,51;399:102,102,51;400:255,255,0;401:204,204,0;402:153,153,0;403:102,102,0;404:51,51,0;406:204,255,204;407:153,255,153;408:153,204,153;409:102,255,102;410:102,204,102;411:102,153,102;412:51,255,51;413:51,204,51;414:51,153,51;415:51,102,51;416:0,255,0;417:0,204,0;418:0,153,0;419:0,102,0;420:0,51,0;422:204,255,255;423:153,255,255;424:153,204,204;425:102,255,255;426:102,204,204;427:102,153,153;428:51,255,255;429:51,204,204;430:51,153,153;431:51,102,102;432:0,255,255;433:0,204,204;434:0,153,153;435:0,102,102;436:0,51,51;590:204,204,255;591:153,153,255;592:153,153,204;593:102,102,255;594:102,102,204;595:102,102,153;596:51,51,255;597:51,51,204;598:51,51,153;599:51,51,102;600:0,0,255;601:0,0,204;602:0,0,153;603:0,0,102;604:0,0,51;606:255,204,255;607:255,153,255;608:204,153,204;609:255,102,255;610:204,102,204;611:153,102,153;612:255,51,255;613:204,51,204;614:153,51,153;615:102,51,102;616:255,0,255;617:204,0,204;618:153,0,153;619:102,0,102;620:51,0,51;622:255,204,204;623:255,153,153;624:204,153,153;625:255,102,102;626:204,102,102;627:153,102,102;628:255,51,51;629:204,51,51;630:153,51,51;631:102,51,51;632:255,0,0;633:204,0,0;634:153,0,0;635:102,0,0;636:51,0,0;791:255,204,153;792:204,153,102;793:153,102,51;794:153,102,0;795:204,153,51;796:255,204,102;797:255,153,0;798:255,204,51;799:204,153,0;800:255,204,0;801:255,153,51;802:204,102,0;803:102,51,0;804:153,51,0;805:204,102,51;806:255,153,102;807:255,102,0;808:255,102,51;809:204,51,0;810:255,51,0;811:153,255,51;812:102,204,0;813:51,102,0;814:51,153,0;815:102,204,51;816:153,255,102;817:102,255,0;818:102,255,51;819:51,204,0;820:51,255,0;821:204,255,153;822:153,204,102;823:102,153,51;824:102,153,0;825:153,204,51;826:204,255,102;827:153,255,0;828:204,255,51;829:153,204,0;830:204,255,0;831:153,255,204;832:102,204,153;833:51,153,102;834:0,153,102;835:51,204,153;836:102,255,204;837:0,255,102;838:51,255,204;839:0,204,153;840:0,255,204;841:51,255,153;842:0,204,102;843:0,102,51;844:0,153,51;845:51,204,102;846:102,255,153;847:0,255,153;848:51,255,102;849:0,204,51;850:0,255,51;851:153,204,255;852:102,153,204;853:51,102,153;854:0,51,153;855:51,102,204;856:102,153,255;857:0,102,255;858:51,102,255;859:0,51,204;860:0,51,255;861:51,153,255;862:0,102,204;863:0,51,102;864:0,102,153;865:51,153,204;866:102,204,255;867:0,153,255;868:51,204,255;869:0,153,204;870:0,204,255;871:204,153,255;872:153,102,204;873:102,51,153;874:102,0,153;875:153,51,204;876:204,102,255;877:153,0,255;878:204,51,255;879:153,0,204;880:204,0,255;881:153,51,255;882:102,0,204;883:51,0,102;884:51,0,153;885:102,51,204;886:153,102,255;887:102,0,255;888:102,51,255;889:51,0,204;890:51,0,255;891:255,51,153;892:204,0,102;893:102,0,51;894:153,0,51;895:204,51,102;896:255,102,153;897:255,0,102;898:255,51,102;899:204,0,51;900:255,0,51;901:255,153,204;902:204,102,153;903:153,51,102;904:153,0,102;905:204,51,153;906:255,102,204;907:255,0,153;908:204,0,153;909:255,51,204;910:255,0,153;920:204,204,204;921:153,153,153;922:102,102,102;923:51,51,51;924:53,42,134;925:51,44,137;926:50,45,140;927:49,47,143;928:48,48,146;929:46,50,148;930:45,51,151;931:44,53,154;932:43,55,157;933:42,56,160;934:40,58,162;935:39,59,165;936:38,61,168;937:37,63,171;938:35,64,174;939:34,66,176;940:33,67,179;941:32,69,182;942:31,71,185;943:29,72,187;944:28,74,190;945:27,75,193;946:26,77,196;947:24,79,199;948:23,80,201;949:22,82,204;950:21,83,207;951:19,85,210;952:18,86,213;953:17,88,215;954:16,90,218;955:15,91,221;956:15,92,221;957:15,94,220;958:15,95,220;959:15,96,220;960:15,97,220;961:15,98,220;962:16,99,219;963:16,100,219;964:16,102,219;965:16,103,219;966:16,104,218;967:16,105,218;968:17,106,218;969:17,107,218;970:17,109,217;971:17,110,217;972:17,111,217;973:17,112,217;974:17,113,216;975:18,114,216;976:18,115,216;977:18,117,216;978:18,118,215;979:18,119,215;980:18,120,215;981:18,121,215;982:19,122,215;983:19,123,214;984:19,125,214;985:19,126,214;986:19,127,214;987:19,128,213;988:19,129,213;989:19,130,213;990:18,131,212;991:18,132,212;992:17,134,211;993:17,135,211;994:16,136,211;995:16,137,210;996:15,138,210;997:15,139,210;998:15,140,209;999:14,141,209;1000:14,142,208;1001:13,143,208;1002:13,145,208;1003:12,146,207;1004:12,147,207;1005:12,148,207;1006:11,149,206;1007:11,150,206;1008:10,151,205;1009:10,152,205;1010:9,153,205;1011:9,154,204;1012:8,155,204;1013:8,157,204;1014:8,158,203;1015:7,159,203;1016:7,160,202;1017:6,161,202;1018:6,162,202;1019:5,163,201;1020:7,164,200;1021:8,164,199;1022:9,165,198;1023:10,166,197;1024:12,166,195;1025:13,167,194;1026:14,167,193;1027:15,168,192;1028:17,169,191;1029:18,169,189;1030:19,170,188;1031:20,170,187;1032:22,171,186;1033:23,172,185;1034:24,172,184;1035:25,173,182;1036:27,173,181;1037:28,174,180;1038:29,175,179;1039:30,175,178;1040:32,176,176;1041:33,176,175;1042:34,177,174;1043:35,178,173;1044:37,178,172;1045:38,179,170;1046:39,180,169;1047:40,180,168;1048:42,181,167;1049:43,181,166;1050:44,182,165;1051:45,183,163;1052:48,183,162;1053:51,183,161;1054:54,183,159;1055:57,184,158;1056:59,184,156;1057:62,184,155;1058:65,184,154;1059:68,185,152;1060:71,185,151;1061:73,185,149;1062:76,185,148;1063:79,186,146;1064:82,186,145;1065:84,186,144;1066:87,186,142;1067:90,187,141;1068:93,187,139;1069:96,187,138;1070:98,187,137;1071:101,188,135;1072:104,188,134;1073:107,188,132;1074:110,188,131;1075:112,189,130;1076:115,189,128;1077:118,189,127;1078:121,189,125;1079:124,190,124;1080:126,190,123;1081:129,190,121;1082:132,190,120;1083:135,191,118;1084:137,190,117;1085:139,190,117;1086:142,190,116;1087:144,190,115;1088:146,190,114;1089:148,190,113;1090:151,190,112;1091:153,190,111;1092:155,189,110;1093:158,189,109;1094:160,189,108;1095:162,189,107;1096:165,189,106;1097:167,189,105;1098:169,189,104;1099:171,188,104;1100:174,188,103;1101:176,188,102;1102:178,188,101;1103:181,188,100;1104:183,188,99;1105:185,188,98;1106:188,188,97;1107:190,187,96;1108:192,187,95;1109:194,187,94;1110:197,187,93;1111:199,187,92;1112:201,187,92;1113:204,187,91;1114:206,186,90;1115:208,186,89;1116:210,187,88;1117:211,187,86;1118:212,188,85;1119:214,188,84;1120:215,188,83;1121:217,189,81;1122:218,189,80;1123:220,190,79;1124:221,190,78;1125:222,191,77;1126:224,191,75;1127:225,191,74;1128:227,192,73;1129:228,192,72;1130:229,193,70;1131:231,193,69;1132:232,194,68;1133:234,194,67;1134:235,194,66;1135:236,195,64;1136:238,195,63;1137:239,196,62;1138:241,196,61;1139:242,197,59;1140:244,197,58;1141:245,197,57;1142:246,198,56;1143:248,198,55;1144:249,199,53;1145:251,199,52;1146:252,200,51;1147:253,200,50;1148:253,202,49;1149:253,203,47;1150:253,205,46;1151:253,206,45;1152:253,208,44;1153:252,209,43;1154:252,211,42;1155:252,213,41;1156:252,214,39;1157:252,216,38;1158:252,217,37;1159:252,219,36;1160:251,220,35;1161:251,222,34;1162:251,224,33;1163:251,225,31;1164:251,227,30;1165:251,228,29;1166:250,230,28;1167:250,231,27;1168:250,233,26;1169:250,235,25;1170:250,236,23;1171:250,238,22;1172:250,239,21;1173:249,241,20;1174:249,242,19;1175:249,244,18;1176:249,246,17;1177:249,247,16;1178:249,249,14;1179=0,0,255,0.300;1180=255,0,0,0.300\",\"fBuf\":[924,925,926,927,928,929,930,931,932,933,934,935,936,937,938,939,940,941,942,943,944,945,946,947,948,949,950,951,952,953,954,955,956,957,958,959,960,961,962,963,964,965,966,967,968,969,970,971,972,973,974,975,976,977,978,979,980,981,982,983,984,985,986,987,988,989,990,991,992,993,994,995,996,997,998,999,1000,1001,1002,1003,1004,1005,1006,1007,1008,1009,1010,1011,1012,1013,1014,1015,1016,1017,1018,1019,1020,1021,1022,1023,1024,1025,1026,1027,1028,1029,1030,1031,1032,1033,1034,1035,1036,1037,1038,1039,1040,1041,1042,1043,1044,1045,1046,1047,1048,1049,1050,1051,1052,1053,1054,1055,1056,1057,1058,1059,1060,1061,1062,1063,1064,1065,1066,1067,1068,1069,1070,1071,1072,1073,1074,1075,1076,1077,1078,1079,1080,1081,1082,1083,1084,1085,1086,1087,1088,1089,1090,1091,1092,1093,1094,1095,1096,1097,1098,1099,1100,1101,1102,1103,1104,1105,1106,1107,1108,1109,1110,1111,1112,1113,1114,1115,1116,1117,1118,1119,1120,1121,1122,1123,1124,1125,1126,1127,1128,1129,1130,1131,1132,1133,1134,1135,1136,1137,1138,1139,1140,1141,1142,1143,1144,1145,1146,1147,1148,1149,1150,1151,1152,1153,1154,1155,1156,1157,1158,1159,1160,1161,1162,1163,1164,1165,1166,1167,1168,1169,1170,1171,1172,1173,1174,1175,1176,1177,1178]}},{\"_typename\":\"TWebSnapshot\",\"fUniqueID\":0,\"fBits\":0,\"fObjectID\":\"\",\"fOption\":\"\",\"fKind\":5,\"fSnapshot\":{\"_typename\":\"TStyle\",\"fUniqueID\":0,\"fBits\":0,\"fName\":\"Modern\",\"fTitle\":\"Modern Style\",\"fLineColor\":1,\"fLineStyle\":1,\"fLineWidth\":1,\"fFillColor\":19,\"fFillStyle\":1001,\"fMarkerColor\":1,\"fMarkerStyle\":1,\"fMarkerSize\":1,\"fTextAngle\":0,\"fTextSize\":0.05,\"fTextAlign\":11,\"fTextColor\":1,\"fTextFont\":62,\"fXaxis\":{\"_typename\":\"TAttAxis\",\"fNdivisions\":510,\"fAxisColor\":1,\"fLabelColor\":1,\"fLabelFont\":42,\"fLabelOffset\":0.005,\"fLabelSize\":0.035,\"fTickLength\":0.03,\"fTitleOffset\":1,\"fTitleSize\":0.035,\"fTitleColor\":1,\"fTitleFont\":42},\"fYaxis\":{\"_typename\":\"TAttAxis\",\"fNdivisions\":510,\"fAxisColor\":1,\"fLabelColor\":1,\"fLabelFont\":42,\"fLabelOffset\":0.005,\"fLabelSize\":0.035,\"fTickLength\":0.03,\"fTitleOffset\":0,\"fTitleSize\":0.035,\"fTitleColor\":1,\"fTitleFont\":42},\"fZaxis\":{\"_typename\":\"TAttAxis\",\"fNdivisions\":510,\"fAxisColor\":1,\"fLabelColor\":1,\"fLabelFont\":42,\"fLabelOffset\":0.005,\"fLabelSize\":0.035,\"fTickLength\":0.03,\"fTitleOffset\":1,\"fTitleSize\":0.035,\"fTitleColor\":1,\"fTitleFont\":42},\"fBarWidth\":1,\"fBarOffset\":0,\"fColorModelPS\":0,\"fDrawBorder\":0,\"fOptLogx\":0,\"fOptLogy\":0,\"fOptLogz\":0,\"fOptDate\":0,\"fOptStat\":0,\"fOptTitle\":1,\"fOptFile\":0,\"fOptFit\":0,\"fShowEventStatus\":0,\"fShowEditor\":0,\"fShowToolBar\":0,\"fNumberContours\":20,\"fAttDate\":{\"_typename\":\"TAttText\",\"fTextAngle\":0,\"fTextSize\":0.025,\"fTextAlign\":11,\"fTextColor\":1,\"fTextFont\":62},\"fDateX\":0.01,\"fDateY\":0.01,\"fEndErrorSize\":2,\"fErrorX\":0.5,\"fFuncColor\":2,\"fFuncStyle\":1,\"fFuncWidth\":2,\"fGridColor\":0,\"fGridStyle\":3,\"fGridWidth\":1,\"fLegendBorderSize\":1,\"fLegendFillColor\":0,\"fLegendFont\":42,\"fLegendTextSize\":0,\"fHatchesLineWidth\":1,\"fHatchesSpacing\":1,\"fFrameFillColor\":0,\"fFrameLineColor\":1,\"fFrameFillStyle\":1001,\"fFrameLineStyle\":1,\"fFrameLineWidth\":1,\"fFrameBorderSize\":1,\"fFrameBorderMode\":0,\"fHistFillColor\":0,\"fHistLineColor\":602,\"fHistFillStyle\":1001,\"fHistLineStyle\":1,\"fHistLineWidth\":1,\"fHistMinimumZero\":false,\"fHistTopMargin\":0.05,\"fCanvasPreferGL\":false,\"fCanvasColor\":0,\"fCanvasBorderSize\":2,\"fCanvasBorderMode\":0,\"fCanvasDefH\":500,\"fCanvasDefW\":700,\"fCanvasDefX\":10,\"fCanvasDefY\":10,\"fPadColor\":0,\"fPadBorderSize\":2,\"fPadBorderMode\":0,\"fPadBottomMargin\":0.1,\"fPadTopMargin\":0.1,\"fPadLeftMargin\":0.1,\"fPadRightMargin\":0.1,\"fPadGridX\":false,\"fPadGridY\":false,\"fPadTickX\":0,\"fPadTickY\":0,\"fPaperSizeX\":20,\"fPaperSizeY\":26,\"fScreenFactor\":1,\"fStatColor\":0,\"fStatTextColor\":1,\"fStatBorderSize\":1,\"fStatFont\":42,\"fStatFontSize\":0,\"fStatStyle\":1001,\"fStatFormat\":\"6.4g\",\"fStatX\":0.98,\"fStatY\":0.935,\"fStatW\":0.2,\"fStatH\":0.16,\"fStripDecimals\":true,\"fTitleAlign\":23,\"fTitleColor\":0,\"fTitleTextColor\":1,\"fTitleBorderSize\":0,\"fTitleFont\":42,\"fTitleFontSize\":0.05,\"fTitleStyle\":0,\"fTitleX\":0.5,\"fTitleY\":0.995,\"fTitleW\":0,\"fTitleH\":0,\"fLegoInnerR\":0.5,\"fLineStyles\":[\"\",\"  \",\" 12 12\",\" 4 8\",\" 12 16 4 16\",\" 20 12 4 12\",\" 20 12 4 12 4 12 4 12\",\" 20 20\",\" 20 12 4 12 4 12\",\" 80 20\",\" 80 40 4 40\",\"  \",\"  \",\"  \",\"  \",\"  \",\"  \",\"  \",\"  \",\"  \",\"  \",\"  \",\"  \",\"  \",\"  \",\"  \",\"  \",\"  \",\"  \",\"  \"],\"fHeaderPS\":\"\",\"fTitlePS\":\"\",\"fFitFormat\":\"5.4g\",\"fPaintTextFormat\":\"g\",\"fLineScalePS\":3,\"fJoinLinePS\":0,\"fCapLinePS\":0,\"fTimeOffset\":788918400,\"fImageScaling\":1,\"fCandleWhiskerRange\":1,\"fCandleBoxRange\":0.5,\"fCandleScaled\":false,\"fViolinScaled\":true,\"fXAxisExpXOffset\":0,\"fXAxisExpYOffset\":0,\"fYAxisExpXOffset\":0,\"fYAxisExpYOffset\":0,\"fAxisMaxDigits\":5,\"fOrthoCamera\":false}},{\"_typename\":\"TWebSnapshot\",\"fUniqueID\":0,\"fBits\":0,\"fObjectID\":\"\",\"fOption\":\"\",\"fKind\":1,\"fSnapshot\":{\"_typename\":\"TFrame\",\"fUniqueID\":0,\"fBits\":8,\"fLineColor\":1,\"fLineStyle\":1,\"fLineWidth\":1,\"fFillColor\":0,\"fFillStyle\":1001,\"fX1\":-80,\"fY1\":0,\"fX2\":80,\"fY2\":4.2,\"fBorderSize\":1,\"fBorderMode\":0}},{\"_typename\":\"TWebSnapshot\",\"fUniqueID\":0,\"fBits\":0,\"fObjectID\":\"\",\"fOption\":\"\",\"fKind\":1,\"fSnapshot\":{\"_typename\":\"TH1F\",\"fUniqueID\":0,\"fBits\":520,\"fName\":\"h_timeDiff_beamOn\",\"fTitle\":\"Time Diff\",\"fLineColor\":602,\"fLineStyle\":1,\"fLineWidth\":1,\"fFillColor\":0,\"fFillStyle\":1001,\"fMarkerColor\":1,\"fMarkerStyle\":1,\"fMarkerSize\":1,\"fNcells\":82,\"fXaxis\":{\"_typename\":\"TAxis\",\"fUniqueID\":0,\"fBits\":0,\"fName\":\"xaxis\",\"fTitle\":\"\",\"fNdivisions\":510,\"fAxisColor\":1,\"fLabelColor\":1,\"fLabelFont\":42,\"fLabelOffset\":0.005,\"fLabelSize\":0.035,\"fTickLength\":0.03,\"fTitleOffset\":1,\"fTitleSize\":0.035,\"fTitleColor\":1,\"fTitleFont\":42,\"fNbins\":80,\"fXmin\":-80,\"fXmax\":80,\"fXbins\":[],\"fFirst\":0,\"fLast\":0,\"fBits2\":0,\"fTimeDisplay\":false,\"fTimeFormat\":\"\",\"fLabels\":null,\"fModLabs\":null},\"fYaxis\":{\"_typename\":\"TAxis\",\"fUniqueID\":0,\"fBits\":0,\"fName\":\"yaxis\",\"fTitle\":\"\",\"fNdivisions\":510,\"fAxisColor\":1,\"fLabelColor\":1,\"fLabelFont\":42,\"fLabelOffset\":0.005,\"fLabelSize\":0.035,\"fTickLength\":0.03,\"fTitleOffset\":0,\"fTitleSize\":0.035,\"fTitleColor\":1,\"fTitleFont\":42,\"fNbins\":1,\"fXmin\":0,\"fXmax\":1,\"fXbins\":[],\"fFirst\":0,\"fLast\":0,\"fBits2\":0,\"fTimeDisplay\":false,\"fTimeFormat\":\"\",\"fLabels\":null,\"fModLabs\":null},\"fZaxis\":{\"_typename\":\"TAxis\",\"fUniqueID\":0,\"fBits\":0,\"fName\":\"zaxis\",\"fTitle\":\"\",\"fNdivisions\":510,\"fAxisColor\":1,\"fLabelColor\":1,\"fLabelFont\":42,\"fLabelOffset\":0.005,\"fLabelSize\":0.035,\"fTickLength\":0.03,\"fTitleOffset\":1,\"fTitleSize\":0.035,\"fTitleColor\":1,\"fTitleFont\":42,\"fNbins\":1,\"fXmin\":0,\"fXmax\":1,\"fXbins\":[],\"fFirst\":0,\"fLast\":0,\"fBits2\":0,\"fTimeDisplay\":false,\"fTimeFormat\":\"\",\"fLabels\":null,\"fModLabs\":null},\"fBarOffset\":0,\"fBarWidth\":1000,\"fEntries\":26,\"fTsumw\":26,\"fTsumw2\":26,\"fTsumwx\":-37.1488037109375,\"fTsumwx2\":3663.59584207833,\"fMaximum\":-1111,\"fMinimum\":-1111,\"fNormFactor\":0,\"fContour\":[],\"fSumw2\":[],\"fOption\":\"\",\"fFunctions\":{\"_typename\":\"TList\",\"name\":\"TList\",\"arr\":[],\"opt\":[]},\"fBufferSize\":0,\"fBuffer\":[],\"fBinStatErrOpt\":0,\"fStatOverflows\":2,\"fArray\":[0,0,0,0,0,0,0,0,0,0,0,0,0,0,0,0,0,0,0,0,0,0,0,0,0,1,1,0,0,0,0,0,0,1,0,2,1,1,2,4,0,3,3,0,2,2,0,0,1,1,0,0,1,0,0,0,0,0,0,0,0,0,0,0,0,0,0,0,0,0,0,0,0,0,0,0,0,0,0,0,0,0]}},{\"_typename\":\"TWebSnapshot\",\"fUniqueID\":0,\"fBits\":0,\"fObjectID\":\"\",\"fOption\":\"blNDC\",\"fKind\":1,\"fSnapshot\":{\"_typename\":\"TPaveText\",\"fUniqueID\":0,\"fBits\":9,\"fLineColor\":1,\"fLineStyle\":1,\"fLineWidth\":1,\"fFillColor\":0,\"fFillStyle\":0,\"fX1\":-22.4545457891443,\"fY1\":4.41000005515293,\"fX2\":22.4545457891443,\"fY2\":4.69875006375835,\"fX1NDC\":0.387727272727273,\"fY1NDC\":0.940000003948808,\"fX2NDC\":0.612272727272727,\"fY2NDC\":0.995000004768372,\"fBorderSize\":0,\"fInit\":1,\"fShadowColor\":1,\"fCornerRadius\":0,\"fOption\":\"blNDC\",\"fName\":\"title\",\"fTextAngle\":0,\"fTextSize\":0,\"fTextAlign\":22,\"fTextColor\":1,\"fTextFont\":42,\"fLabel\":\"\",\"fLongest\":9,\"fMargin\":0.05,\"fLines\":{\"_typename\":\"TList\",\"name\":\"TList\",\"arr\":[{\"_typename\":\"TLatex\",\"fUniqueID\":0,\"fBits\":0,\"fName\":\"\",\"fTitle\":\"Time Diff\",\"fTextAngle\":0,\"fTextSize\":0,\"fTextAlign\":0,\"fTextColor\":0,\"fTextFont\":0,\"fX\":0,\"fY\":0,\"fLineColor\":1,\"fLineStyle\":1,\"fLineWidth\":2,\"fLimitFactorSize\":3,\"fOriginSize\":0.0467500016093254}],\"opt\":[\"\"]}}}],\"fScripts\":\"\",\"fHighlightConnect\":false,\"fFixedSize\":false});\n",
       "   Core.settings.HandleKeys = false;\n",
       "   Core.draw(\"root_plot_1733325388322\", obj, \"\");\n",
       "}\n",
       "\n",
       "function script_load_root_plot_1733325388322(src, on_error) {\n",
       "    let script = document.createElement('script');\n",
       "    script.src = src;\n",
       "    script.onload = function() { display_root_plot_1733325388322(JSROOT); };\n",
       "    script.onerror = function() { script.remove(); on_error(); };\n",
       "    document.head.appendChild(script);\n",
       "}\n",
       "\n",
       "if (typeof requirejs !== 'undefined') {\n",
       "\n",
       "    // We are in jupyter notebooks, use require.js which should be configured already\n",
       "    requirejs.config({\n",
       "       paths: { 'JSRootCore' : [ 'build/jsroot', 'https://root.cern/js/7.7.2/build/jsroot', 'https://jsroot.gsi.de/7.7.2/build/jsroot' ] }\n",
       "    })(['JSRootCore'],  function(Core) {\n",
       "       display_root_plot_1733325388322(Core);\n",
       "    });\n",
       "\n",
       "} else if (typeof JSROOT !== 'undefined') {\n",
       "\n",
       "   // JSROOT already loaded, just use it\n",
       "   display_root_plot_1733325388322(JSROOT);\n",
       "\n",
       "} else {\n",
       "\n",
       "    // We are in jupyterlab without require.js, directly loading jsroot\n",
       "    // Jupyterlab might be installed in a different base_url so we need to know it.\n",
       "    try {\n",
       "        var base_url = JSON.parse(document.getElementById('jupyter-config-data').innerHTML).baseUrl;\n",
       "    } catch(_) {\n",
       "        var base_url = '/';\n",
       "    }\n",
       "\n",
       "    // Try loading a local version of requirejs and fallback to cdn if not possible.\n",
       "    script_load_root_plot_1733325388322(base_url + 'static/build/jsroot.js', function(){\n",
       "        console.error('Fail to load JSROOT locally, please check your jupyter_notebook_config.py file');\n",
       "        script_load_root_plot_1733325388322('https://root.cern/js/7.7.2/build/jsroot.js', function(){\n",
       "            document.getElementById(\"root_plot_1733325388322\").innerHTML = \"Failed to load JSROOT\";\n",
       "        });\n",
       "    });\n",
       "}\n",
       "\n",
       "</script>\n"
      ],
      "text/plain": [
       "<IPython.core.display.HTML object>"
      ]
     },
     "metadata": {},
     "output_type": "display_data"
    }
   ],
   "source": [
    "#check out output histogram\n",
    "\n",
    "c1 = r.TCanvas(\"c1\", \"c1\", 400, 400)\n",
    "c1.cd()\n",
    "h_timeDiff_beamOn.Draw()\n",
    "c1.Draw()"
   ]
  },
  {
   "cell_type": "markdown",
   "metadata": {},
   "source": [
    "Note that we can also save all of our plots to a root output file"
   ]
  },
  {
   "cell_type": "code",
   "execution_count": 39,
   "metadata": {},
   "outputs": [
    {
     "name": "stdout",
     "output_type": "stream",
     "text": [
      "MilliQan_Run1400_v35_beam_beamOn_tight.root\n",
      "MilliQan_Run1500_v35_beam_beamOn_tight.root\n",
      "MilliQan_Run1600_v35_beam_beamOn_tight.root\n",
      "MilliQan_Run1700_v35_beam_beamOn_tight.root\n",
      "MilliQan_Run1800_v35_beam_beamOn_tight.root\n",
      "MilliQan_Run1900_v35_beam_beamOn_tight.root\n"
     ]
    }
   ],
   "source": [
    "ls /eos/experiment/milliqan/skims/beam/"
   ]
  },
  {
   "cell_type": "code",
   "execution_count": 42,
   "metadata": {},
   "outputs": [],
   "source": [
    "outputFile = 'MilliQan_beamMuon_test.root'\n",
    "myplotter.saveHistograms(outputFile)\n"
   ]
  },
  {
   "cell_type": "markdown",
   "metadata": {},
   "source": [
    "Now we will repeat the same process but with the beam off file: Run 1035"
   ]
  },
  {
   "cell_type": "code",
   "execution_count": 43,
   "metadata": {},
   "outputs": [
    {
     "name": "stdout",
     "output_type": "stream",
     "text": [
      "MilliQan_Run1300_v35_cosmic_beamOff_tight.root\n",
      "MilliQan_Run1400_v35_cosmic_beamOff_tight.root\n",
      "MilliQan_Run1500_v35_cosmic_beamOff_tight.root\n",
      "MilliQan_Run1600_v35_cosmic_beamOff_tight.root\n",
      "MilliQan_Run1700_v35_cosmic_beamOff_tight.root\n",
      "MilliQan_Run1800_v35_cosmic_beamOff_tight.root\n",
      "MilliQan_Run1900_v35_cosmic_beamOff_tight.root\n"
     ]
    }
   ],
   "source": [
    "ls /eos/experiment/milliqan/skims/cosmic"
   ]
  },
  {
   "cell_type": "code",
   "execution_count": 44,
   "metadata": {},
   "outputs": [
    {
     "name": "stdout",
     "output_type": "stream",
     "text": [
      "----------------------------\n",
      "MilliQan Scheduler:\n",
      "\t0. totalEventCounter\n",
      "\t1. fullEventCounter\n",
      "\t2. boardMatchCut\n",
      "\t3. pickupCut\n",
      "\t4. centralTimeCut\n",
      "\t5. nPECut\n",
      "\t6. layerCut\n",
      "\t7. fourLayerCut\n",
      "\t8. barCut\n",
      "\t9. firstPulseCut\n",
      "\t10. straightLineCut\n",
      "\t11. timeDiff\n",
      "\t12. h_timeDiff_beamOff\n",
      "----------------------------\n",
      "\n",
      "Chosen quality level: \u001b[1;34m override \u001b[0m\n",
      "Chosen verbosity level: \u001b[1;34m minimal \n",
      "\u001b[0m\n",
      "\n",
      "\u001b[1;31mQuality check is being overridden. All files will be processed.\u001b[0m\n",
      "MilliQan Processor: Processing event 0...\n",
      "MilliQan Processor: Processing event 10000...\n",
      "MilliQan Processor: Processing event 20000...\n",
      "MilliQan Processor: Processing event 30000...\n",
      "MilliQan Processor: Processing event 40000...\n",
      "Number of processed events 45081\n",
      "----------------------------------Cutflow Table----------------------------------------------------------------------------------\n",
      "Cut                       N Passing Events     Cum Event Eff % (Prev)    N Passing Pulses     Cum Pulse Eff % (Prev)    Cut Applied                   \n",
      "---------------------------------------------------------------------------------------------------------------------------------\n",
      "totalEventCounter         45081                100.0 (100.0)             2433303              100.0 (100.0)             False                         \n",
      "fullEventCounter          45081                100.0 (100.0)             2433303              100.0 (100.0)             False                         \n",
      "boardMatchCut             45081                100.0 (100.0)             2433303              100.0 (100.0)             True                          \n",
      "pickupCut                 45081                100.0 (100.0)             1923651              79.055 (79.055)           True                          \n",
      "centralTimeCut            45081                100.0 (100.0)             1100974              45.246 (57.234)           True                          \n",
      "nPECut                    45005                99.831 (99.831)           599565               24.64 (54.458)            True                          \n",
      "layerCut                  45005                99.831 (100.0)            599565               24.64 (100.0)             False                         \n",
      "fourLayerCut              5174                 11.477 (11.497)           120585               4.956 (20.112)            True                          \n",
      "barCut                    5174                 11.477 (100.0)            88996                3.657 (73.804)            True                          \n",
      "firstPulseCut             5174                 11.477 (100.0)            88380                3.632 (99.308)            True                          \n",
      "straightLineCut           427                  0.947 (8.253)             1708                 0.07 (1.933)              True                          \n",
      "timeDiff                  427                  0.947 (100.0)             1708                 0.07 (100.0)              False                         \n",
      "--------------------------------------------------------------------------------------------------------------------------------\n"
     ]
    }
   ],
   "source": [
    "#define a file list to run over\n",
    "filelist = ['/eos/experiment/milliqan/skims/cosmic/MilliQan_Run1500_v35_cosmic_beamOff_tight.root']\n",
    "\n",
    "#define the necessary branches to run over\n",
    "branches = ['event', 'tTrigger', 'boardsMatched', 'pickupFlag', 'fileNumber', 'runNumber', 'type', 'ipulse', 'nPE', 'chan',\n",
    "                'time_module_calibrated', 'timeFit_module_calibrated', 'row', 'column', 'layer', 'height', 'area', 'npulses', 'sidebandRMS']\n",
    "\n",
    "#define the milliqan cuts object\n",
    "mycuts = milliqanCuts()\n",
    "\n",
    "#require pulses are not pickup\n",
    "pickupCut = getCutMod(mycuts.pickupCut, mycuts, 'pickupCut', cut=True)\n",
    "\n",
    "#require that all digitizer boards are matched\n",
    "boardMatchCut = getCutMod(mycuts.boardsMatched, mycuts, 'boardMatchCut', cut=True)\n",
    "\n",
    "#Add four layer cut\n",
    "fourLayerCut = getCutMod(mycuts.oneHitPerLayerCut, mycuts, 'fourLayerCut', cut=True, multipleHits=True)\n",
    "\n",
    "#add first pulse cut\n",
    "firstPulseCut = getCutMod(mycuts.firstPulseCut, mycuts, 'firstPulseCut', cut=True)\n",
    "\n",
    "#bar cut\n",
    "barCut = getCutMod(mycuts.barCut, mycuts, 'barCut', cut=True)\n",
    "\n",
    "#nPE cut\n",
    "nPECut = getCutMod(mycuts.nPECut, mycuts, 'nPECut', nPECut=50, cut=True)\n",
    "\n",
    "#require pulses occured in trigger window\n",
    "centralTimeCut = getCutMod(mycuts.centralTime, mycuts, 'centralTimeCut', cut=True)\n",
    "\n",
    "#straight line cut\n",
    "straightLineCut = getCutMod(mycuts.straightLineCut, mycuts, 'straightLineCut', cut=True, limitPaths=True)\n",
    "\n",
    "#Add our custom function\n",
    "setattr(milliqanCuts, 'timeDiff', timeDiff)\n",
    "\n",
    "#define milliqan plotter\n",
    "myplotter = milliqanPlotter()\n",
    "\n",
    "#create root histogram \n",
    "h_timeDiff_beamOff = r.TH1F(\"h_timeDiff_beamOff\", \"Time Diff\", 80, -80, 80)\n",
    "\n",
    "#add root histogram to plotter\n",
    "myplotter.addHistograms(h_timeDiff_beamOff, 'timeDiff')\n",
    "\n",
    "#defining the cutflow\n",
    "cutflow = [mycuts.totalEventCounter, mycuts.fullEventCounter, boardMatchCut, pickupCut, centralTimeCut, nPECut, mycuts.layerCut, \n",
    "           fourLayerCut, barCut, firstPulseCut, straightLineCut, mycuts.timeDiff, myplotter.dict['h_timeDiff_beamOff']]\n",
    "\n",
    "#create a schedule of the cuts\n",
    "myschedule = milliQanScheduler(cutflow, mycuts, myplotter)\n",
    "\n",
    "#print out the schedule\n",
    "myschedule.printSchedule()\n",
    "\n",
    "#create the milliqan processor object\n",
    "myiterator = milliqanProcessor(filelist, branches, myschedule, mycuts, myplotter, qualityLevel='override', goodRunsList=None)\n",
    "\n",
    "#run the milliqan processor\n",
    "myiterator.run()\n",
    "\n",
    "mycuts.getCutflowCounts()"
   ]
  },
  {
   "cell_type": "code",
   "execution_count": 45,
   "metadata": {},
   "outputs": [
    {
     "name": "stdout",
     "output_type": "stream",
     "text": [
      "Beam On: \n",
      "\tEntries: 26.0\n",
      "\tMean: -1.4288001427283654 +/- 2.3110608830958284\n",
      "\tstd: 11.7841445400066\n",
      "Beam Off: \n",
      "\tEntries: 427.0\n",
      "\tMean: -11.199772211651053 +/- 0.5807967618352843\n",
      "\tstd: 12.001571694757994\n"
     ]
    },
    {
     "data": {
      "text/html": [
       "\n",
       "\n",
       "<div id=\"root_plot_1733325446232\" style=\"width: 400px; height: 400px; position: relative\">\n",
       "</div>\n",
       "\n",
       "<script>\n",
       "\n",
       "function display_root_plot_1733325446232(Core) {\n",
       "   let obj = Core.parse({\"_typename\":\"TCanvasWebSnapshot\",\"fUniqueID\":0,\"fBits\":0,\"fObjectID\":\"\",\"fOption\":\"\",\"fKind\":3,\"fSnapshot\":{\"_typename\":\"TCanvas\",\"fUniqueID\":0,\"fBits\":3342344,\"fLineColor\":1,\"fLineStyle\":1,\"fLineWidth\":1,\"fFillColor\":0,\"fFillStyle\":1001,\"fLeftMargin\":0.1,\"fRightMargin\":0.1,\"fBottomMargin\":0.1,\"fTopMargin\":0.1,\"fXfile\":2,\"fYfile\":2,\"fAfile\":1,\"fXstat\":0.99,\"fYstat\":0.99,\"fAstat\":2,\"fFrameFillColor\":0,\"fFrameLineColor\":1,\"fFrameFillStyle\":1001,\"fFrameLineStyle\":1,\"fFrameLineWidth\":1,\"fFrameBorderSize\":1,\"fFrameBorderMode\":0,\"fX1\":-100.000001490116,\"fY1\":-0.0201923099489741,\"fX2\":100.000001490116,\"fY2\":0.181730777505212,\"fXtoAbsPixelk\":198,\"fXtoPixelk\":198,\"fXtoPixel\":1.9799999704957,\"fYtoAbsPixelk\":334.799997782707,\"fYtoPixelk\":334.799997782707,\"fYtoPixel\":-1842.28561820303,\"fUtoAbsPixelk\":0,\"fUtoPixelk\":0,\"fUtoPixel\":396,\"fVtoAbsPixelk\":372,\"fVtoPixelk\":372,\"fVtoPixel\":-372,\"fAbsPixeltoXk\":-100.000001490116,\"fPixeltoXk\":-100.000001490116,\"fPixeltoX\":0.505050512576344,\"fAbsPixeltoYk\":0.181730777505212,\"fPixeltoYk\":-0.0201923099489741,\"fPixeltoY\":-5.42803998532759e-4,\"fXlowNDC\":0,\"fYlowNDC\":0,\"fXUpNDC\":1,\"fYUpNDC\":1,\"fWNDC\":1,\"fHNDC\":1,\"fAbsXlowNDC\":0,\"fAbsYlowNDC\":0,\"fAbsWNDC\":1,\"fAbsHNDC\":1,\"fUxmin\":-80,\"fUymin\":0,\"fUxmax\":80,\"fUymax\":0.161538467556238,\"fTheta\":30,\"fPhi\":30,\"fAspectRatio\":0,\"fNumber\":0,\"fTickx\":0,\"fTicky\":0,\"fLogx\":0,\"fLogy\":0,\"fLogz\":0,\"fPadPaint\":0,\"fCrosshair\":0,\"fCrosshairPos\":0,\"fBorderSize\":2,\"fBorderMode\":0,\"fModified\":false,\"fGridx\":false,\"fGridy\":false,\"fAbsCoord\":false,\"fEditable\":true,\"fFixedAspectRatio\":false,\"fPrimitives\":{\"_typename\":\"TList\",\"name\":\"TList\",\"arr\":[],\"opt\":[]},\"fExecs\":null,\"fName\":\"c1\",\"fTitle\":\"c1\",\"fNumPaletteColor\":0,\"fNextPaletteColor\":0,\"fDISPLAY\":\"$DISPLAY\",\"fDoubleBuffer\":0,\"fRetained\":true,\"fXsizeUser\":0,\"fYsizeUser\":0,\"fXsizeReal\":20,\"fYsizeReal\":20,\"fWindowTopX\":0,\"fWindowTopY\":0,\"fWindowWidth\":0,\"fWindowHeight\":0,\"fCw\":396,\"fCh\":372,\"fCatt\":{\"_typename\":\"TAttCanvas\",\"fXBetween\":2,\"fYBetween\":2,\"fTitleFromTop\":1.2,\"fXdate\":0.2,\"fYdate\":0.3,\"fAdate\":1},\"kMoveOpaque\":true,\"kResizeOpaque\":true,\"fHighLightColor\":2,\"fBatch\":true,\"kShowEventStatus\":false,\"kAutoExec\":true,\"kMenuBar\":true},\"fActive\":false,\"fReadOnly\":true,\"fWithoutPrimitives\":false,\"fHasExecs\":false,\"fPrimitives\":[{\"_typename\":\"TWebSnapshot\",\"fUniqueID\":0,\"fBits\":0,\"fObjectID\":\"\",\"fOption\":\"\",\"fKind\":4,\"fSnapshot\":{\"_typename\":\"TWebPainting\",\"fUniqueID\":0,\"fBits\":0,\"fOper\":\"0:255,255,255;1:0,0,0;2:255,0,0;3:0,255,0;4:0,0,255;5:255,255,0;6:255,0,255;7:0,255,255;8:89,211,84;9:89,84,216;10:254,254,254;11:192,182,172;12:76,76,76;13:102,102,102;14:127,127,127;15:153,153,153;16:178,178,178;17:204,204,204;18:229,229,229;19:242,242,242;20:204,198,170;21:204,198,170;22:193,191,168;23:186,181,163;24:178,165,150;25:183,163,155;26:173,153,140;27:155,142,130;28:135,102,86;29:175,206,198;30:132,193,163;31:137,168,160;32:130,158,140;33:173,188,198;34:122,142,153;35:117,137,145;36:104,130,150;37:109,122,132;38:124,153,209;39:127,127,155;40:170,165,191;41:211,206,135;42:221,186,135;43:188,158,130;44:198,153,124;45:191,130,119;46:206,94,96;47:170,142,147;48:165,119,122;49:147,104,112;50:211,89,84;51:146,0,255;52:122,0,255;53:98,0,255;54:74,0,255;55:51,0,255;56:27,0,255;57:3,0,255;58:0,20,255;59:0,44,255;60:0,68,255;61:0,91,255;62:0,115,255;63:0,139,255;64:0,163,255;65:0,187,255;66:0,210,255;67:0,234,255;68:0,255,251;69:0,255,227;70:0,255,204;71:0,255,180;72:0,255,156;73:0,255,132;74:0,255,108;75:0,255,85;76:0,255,61;77:0,255,37;78:0,255,13;79:10,255,0;80:34,255,0;81:57,255,0;82:81,255,0;83:105,255,0;84:129,255,0;85:153,255,0;86:176,255,0;87:200,255,0;88:224,255,0;89:248,255,0;90:255,238,0;91:255,214,0;92:255,190,0;93:255,166,0;94:255,142,0;95:255,119,0;96:255,95,0;97:255,71,0;98:255,47,0;99:255,23,0;110:254,254,254;201:91,91,91;202:122,122,122;203:183,183,183;204:214,214,214;205:137,15,15;206:183,20,20;207:234,71,71;208:239,117,117;209:15,137,15;210:20,183,20;211:71,234,71;212:117,239,117;213:15,15,137;214:20,20,183;215:71,71,234;216:117,117,239;217:137,137,15;218:183,183,20;219:234,234,71;220:239,239,117;221:137,15,137;222:183,20,183;223:234,71,234;224:239,117,239;225:15,137,137;226:20,183,183;227:71,234,234;228:117,239,239;390:255,255,204;391:255,255,153;392:204,204,153;393:255,255,102;394:204,204,102;395:153,153,102;396:255,255,51;397:204,204,51;398:153,153,51;399:102,102,51;400:255,255,0;401:204,204,0;402:153,153,0;403:102,102,0;404:51,51,0;406:204,255,204;407:153,255,153;408:153,204,153;409:102,255,102;410:102,204,102;411:102,153,102;412:51,255,51;413:51,204,51;414:51,153,51;415:51,102,51;416:0,255,0;417:0,204,0;418:0,153,0;419:0,102,0;420:0,51,0;422:204,255,255;423:153,255,255;424:153,204,204;425:102,255,255;426:102,204,204;427:102,153,153;428:51,255,255;429:51,204,204;430:51,153,153;431:51,102,102;432:0,255,255;433:0,204,204;434:0,153,153;435:0,102,102;436:0,51,51;590:204,204,255;591:153,153,255;592:153,153,204;593:102,102,255;594:102,102,204;595:102,102,153;596:51,51,255;597:51,51,204;598:51,51,153;599:51,51,102;600:0,0,255;601:0,0,204;602:0,0,153;603:0,0,102;604:0,0,51;606:255,204,255;607:255,153,255;608:204,153,204;609:255,102,255;610:204,102,204;611:153,102,153;612:255,51,255;613:204,51,204;614:153,51,153;615:102,51,102;616:255,0,255;617:204,0,204;618:153,0,153;619:102,0,102;620:51,0,51;622:255,204,204;623:255,153,153;624:204,153,153;625:255,102,102;626:204,102,102;627:153,102,102;628:255,51,51;629:204,51,51;630:153,51,51;631:102,51,51;632:255,0,0;633:204,0,0;634:153,0,0;635:102,0,0;636:51,0,0;791:255,204,153;792:204,153,102;793:153,102,51;794:153,102,0;795:204,153,51;796:255,204,102;797:255,153,0;798:255,204,51;799:204,153,0;800:255,204,0;801:255,153,51;802:204,102,0;803:102,51,0;804:153,51,0;805:204,102,51;806:255,153,102;807:255,102,0;808:255,102,51;809:204,51,0;810:255,51,0;811:153,255,51;812:102,204,0;813:51,102,0;814:51,153,0;815:102,204,51;816:153,255,102;817:102,255,0;818:102,255,51;819:51,204,0;820:51,255,0;821:204,255,153;822:153,204,102;823:102,153,51;824:102,153,0;825:153,204,51;826:204,255,102;827:153,255,0;828:204,255,51;829:153,204,0;830:204,255,0;831:153,255,204;832:102,204,153;833:51,153,102;834:0,153,102;835:51,204,153;836:102,255,204;837:0,255,102;838:51,255,204;839:0,204,153;840:0,255,204;841:51,255,153;842:0,204,102;843:0,102,51;844:0,153,51;845:51,204,102;846:102,255,153;847:0,255,153;848:51,255,102;849:0,204,51;850:0,255,51;851:153,204,255;852:102,153,204;853:51,102,153;854:0,51,153;855:51,102,204;856:102,153,255;857:0,102,255;858:51,102,255;859:0,51,204;860:0,51,255;861:51,153,255;862:0,102,204;863:0,51,102;864:0,102,153;865:51,153,204;866:102,204,255;867:0,153,255;868:51,204,255;869:0,153,204;870:0,204,255;871:204,153,255;872:153,102,204;873:102,51,153;874:102,0,153;875:153,51,204;876:204,102,255;877:153,0,255;878:204,51,255;879:153,0,204;880:204,0,255;881:153,51,255;882:102,0,204;883:51,0,102;884:51,0,153;885:102,51,204;886:153,102,255;887:102,0,255;888:102,51,255;889:51,0,204;890:51,0,255;891:255,51,153;892:204,0,102;893:102,0,51;894:153,0,51;895:204,51,102;896:255,102,153;897:255,0,102;898:255,51,102;899:204,0,51;900:255,0,51;901:255,153,204;902:204,102,153;903:153,51,102;904:153,0,102;905:204,51,153;906:255,102,204;907:255,0,153;908:204,0,153;909:255,51,204;910:255,0,153;920:204,204,204;921:153,153,153;922:102,102,102;923:51,51,51;924:53,42,134;925:51,44,137;926:50,45,140;927:49,47,143;928:48,48,146;929:46,50,148;930:45,51,151;931:44,53,154;932:43,55,157;933:42,56,160;934:40,58,162;935:39,59,165;936:38,61,168;937:37,63,171;938:35,64,174;939:34,66,176;940:33,67,179;941:32,69,182;942:31,71,185;943:29,72,187;944:28,74,190;945:27,75,193;946:26,77,196;947:24,79,199;948:23,80,201;949:22,82,204;950:21,83,207;951:19,85,210;952:18,86,213;953:17,88,215;954:16,90,218;955:15,91,221;956:15,92,221;957:15,94,220;958:15,95,220;959:15,96,220;960:15,97,220;961:15,98,220;962:16,99,219;963:16,100,219;964:16,102,219;965:16,103,219;966:16,104,218;967:16,105,218;968:17,106,218;969:17,107,218;970:17,109,217;971:17,110,217;972:17,111,217;973:17,112,217;974:17,113,216;975:18,114,216;976:18,115,216;977:18,117,216;978:18,118,215;979:18,119,215;980:18,120,215;981:18,121,215;982:19,122,215;983:19,123,214;984:19,125,214;985:19,126,214;986:19,127,214;987:19,128,213;988:19,129,213;989:19,130,213;990:18,131,212;991:18,132,212;992:17,134,211;993:17,135,211;994:16,136,211;995:16,137,210;996:15,138,210;997:15,139,210;998:15,140,209;999:14,141,209;1000:14,142,208;1001:13,143,208;1002:13,145,208;1003:12,146,207;1004:12,147,207;1005:12,148,207;1006:11,149,206;1007:11,150,206;1008:10,151,205;1009:10,152,205;1010:9,153,205;1011:9,154,204;1012:8,155,204;1013:8,157,204;1014:8,158,203;1015:7,159,203;1016:7,160,202;1017:6,161,202;1018:6,162,202;1019:5,163,201;1020:7,164,200;1021:8,164,199;1022:9,165,198;1023:10,166,197;1024:12,166,195;1025:13,167,194;1026:14,167,193;1027:15,168,192;1028:17,169,191;1029:18,169,189;1030:19,170,188;1031:20,170,187;1032:22,171,186;1033:23,172,185;1034:24,172,184;1035:25,173,182;1036:27,173,181;1037:28,174,180;1038:29,175,179;1039:30,175,178;1040:32,176,176;1041:33,176,175;1042:34,177,174;1043:35,178,173;1044:37,178,172;1045:38,179,170;1046:39,180,169;1047:40,180,168;1048:42,181,167;1049:43,181,166;1050:44,182,165;1051:45,183,163;1052:48,183,162;1053:51,183,161;1054:54,183,159;1055:57,184,158;1056:59,184,156;1057:62,184,155;1058:65,184,154;1059:68,185,152;1060:71,185,151;1061:73,185,149;1062:76,185,148;1063:79,186,146;1064:82,186,145;1065:84,186,144;1066:87,186,142;1067:90,187,141;1068:93,187,139;1069:96,187,138;1070:98,187,137;1071:101,188,135;1072:104,188,134;1073:107,188,132;1074:110,188,131;1075:112,189,130;1076:115,189,128;1077:118,189,127;1078:121,189,125;1079:124,190,124;1080:126,190,123;1081:129,190,121;1082:132,190,120;1083:135,191,118;1084:137,190,117;1085:139,190,117;1086:142,190,116;1087:144,190,115;1088:146,190,114;1089:148,190,113;1090:151,190,112;1091:153,190,111;1092:155,189,110;1093:158,189,109;1094:160,189,108;1095:162,189,107;1096:165,189,106;1097:167,189,105;1098:169,189,104;1099:171,188,104;1100:174,188,103;1101:176,188,102;1102:178,188,101;1103:181,188,100;1104:183,188,99;1105:185,188,98;1106:188,188,97;1107:190,187,96;1108:192,187,95;1109:194,187,94;1110:197,187,93;1111:199,187,92;1112:201,187,92;1113:204,187,91;1114:206,186,90;1115:208,186,89;1116:210,187,88;1117:211,187,86;1118:212,188,85;1119:214,188,84;1120:215,188,83;1121:217,189,81;1122:218,189,80;1123:220,190,79;1124:221,190,78;1125:222,191,77;1126:224,191,75;1127:225,191,74;1128:227,192,73;1129:228,192,72;1130:229,193,70;1131:231,193,69;1132:232,194,68;1133:234,194,67;1134:235,194,66;1135:236,195,64;1136:238,195,63;1137:239,196,62;1138:241,196,61;1139:242,197,59;1140:244,197,58;1141:245,197,57;1142:246,198,56;1143:248,198,55;1144:249,199,53;1145:251,199,52;1146:252,200,51;1147:253,200,50;1148:253,202,49;1149:253,203,47;1150:253,205,46;1151:253,206,45;1152:253,208,44;1153:252,209,43;1154:252,211,42;1155:252,213,41;1156:252,214,39;1157:252,216,38;1158:252,217,37;1159:252,219,36;1160:251,220,35;1161:251,222,34;1162:251,224,33;1163:251,225,31;1164:251,227,30;1165:251,228,29;1166:250,230,28;1167:250,231,27;1168:250,233,26;1169:250,235,25;1170:250,236,23;1171:250,238,22;1172:250,239,21;1173:249,241,20;1174:249,242,19;1175:249,244,18;1176:249,246,17;1177:249,247,16;1178:249,249,14;1179=0,0,255,0.300;1180=255,0,0,0.300\",\"fBuf\":[924,925,926,927,928,929,930,931,932,933,934,935,936,937,938,939,940,941,942,943,944,945,946,947,948,949,950,951,952,953,954,955,956,957,958,959,960,961,962,963,964,965,966,967,968,969,970,971,972,973,974,975,976,977,978,979,980,981,982,983,984,985,986,987,988,989,990,991,992,993,994,995,996,997,998,999,1000,1001,1002,1003,1004,1005,1006,1007,1008,1009,1010,1011,1012,1013,1014,1015,1016,1017,1018,1019,1020,1021,1022,1023,1024,1025,1026,1027,1028,1029,1030,1031,1032,1033,1034,1035,1036,1037,1038,1039,1040,1041,1042,1043,1044,1045,1046,1047,1048,1049,1050,1051,1052,1053,1054,1055,1056,1057,1058,1059,1060,1061,1062,1063,1064,1065,1066,1067,1068,1069,1070,1071,1072,1073,1074,1075,1076,1077,1078,1079,1080,1081,1082,1083,1084,1085,1086,1087,1088,1089,1090,1091,1092,1093,1094,1095,1096,1097,1098,1099,1100,1101,1102,1103,1104,1105,1106,1107,1108,1109,1110,1111,1112,1113,1114,1115,1116,1117,1118,1119,1120,1121,1122,1123,1124,1125,1126,1127,1128,1129,1130,1131,1132,1133,1134,1135,1136,1137,1138,1139,1140,1141,1142,1143,1144,1145,1146,1147,1148,1149,1150,1151,1152,1153,1154,1155,1156,1157,1158,1159,1160,1161,1162,1163,1164,1165,1166,1167,1168,1169,1170,1171,1172,1173,1174,1175,1176,1177,1178]}},{\"_typename\":\"TWebSnapshot\",\"fUniqueID\":0,\"fBits\":0,\"fObjectID\":\"\",\"fOption\":\"\",\"fKind\":5,\"fSnapshot\":{\"_typename\":\"TStyle\",\"fUniqueID\":0,\"fBits\":0,\"fName\":\"Modern\",\"fTitle\":\"Modern Style\",\"fLineColor\":1,\"fLineStyle\":1,\"fLineWidth\":1,\"fFillColor\":19,\"fFillStyle\":1001,\"fMarkerColor\":1,\"fMarkerStyle\":1,\"fMarkerSize\":1,\"fTextAngle\":0,\"fTextSize\":0.05,\"fTextAlign\":11,\"fTextColor\":1,\"fTextFont\":62,\"fXaxis\":{\"_typename\":\"TAttAxis\",\"fNdivisions\":510,\"fAxisColor\":1,\"fLabelColor\":1,\"fLabelFont\":42,\"fLabelOffset\":0.005,\"fLabelSize\":0.035,\"fTickLength\":0.03,\"fTitleOffset\":1,\"fTitleSize\":0.035,\"fTitleColor\":1,\"fTitleFont\":42},\"fYaxis\":{\"_typename\":\"TAttAxis\",\"fNdivisions\":510,\"fAxisColor\":1,\"fLabelColor\":1,\"fLabelFont\":42,\"fLabelOffset\":0.005,\"fLabelSize\":0.035,\"fTickLength\":0.03,\"fTitleOffset\":0,\"fTitleSize\":0.035,\"fTitleColor\":1,\"fTitleFont\":42},\"fZaxis\":{\"_typename\":\"TAttAxis\",\"fNdivisions\":510,\"fAxisColor\":1,\"fLabelColor\":1,\"fLabelFont\":42,\"fLabelOffset\":0.005,\"fLabelSize\":0.035,\"fTickLength\":0.03,\"fTitleOffset\":1,\"fTitleSize\":0.035,\"fTitleColor\":1,\"fTitleFont\":42},\"fBarWidth\":1,\"fBarOffset\":0,\"fColorModelPS\":0,\"fDrawBorder\":0,\"fOptLogx\":0,\"fOptLogy\":0,\"fOptLogz\":0,\"fOptDate\":0,\"fOptStat\":0,\"fOptTitle\":1,\"fOptFile\":0,\"fOptFit\":0,\"fShowEventStatus\":0,\"fShowEditor\":0,\"fShowToolBar\":0,\"fNumberContours\":20,\"fAttDate\":{\"_typename\":\"TAttText\",\"fTextAngle\":0,\"fTextSize\":0.025,\"fTextAlign\":11,\"fTextColor\":1,\"fTextFont\":62},\"fDateX\":0.01,\"fDateY\":0.01,\"fEndErrorSize\":2,\"fErrorX\":0.5,\"fFuncColor\":2,\"fFuncStyle\":1,\"fFuncWidth\":2,\"fGridColor\":0,\"fGridStyle\":3,\"fGridWidth\":1,\"fLegendBorderSize\":1,\"fLegendFillColor\":0,\"fLegendFont\":42,\"fLegendTextSize\":0,\"fHatchesLineWidth\":1,\"fHatchesSpacing\":1,\"fFrameFillColor\":0,\"fFrameLineColor\":1,\"fFrameFillStyle\":1001,\"fFrameLineStyle\":1,\"fFrameLineWidth\":1,\"fFrameBorderSize\":1,\"fFrameBorderMode\":0,\"fHistFillColor\":0,\"fHistLineColor\":602,\"fHistFillStyle\":1001,\"fHistLineStyle\":1,\"fHistLineWidth\":1,\"fHistMinimumZero\":false,\"fHistTopMargin\":0.05,\"fCanvasPreferGL\":false,\"fCanvasColor\":0,\"fCanvasBorderSize\":2,\"fCanvasBorderMode\":0,\"fCanvasDefH\":500,\"fCanvasDefW\":700,\"fCanvasDefX\":10,\"fCanvasDefY\":10,\"fPadColor\":0,\"fPadBorderSize\":2,\"fPadBorderMode\":0,\"fPadBottomMargin\":0.1,\"fPadTopMargin\":0.1,\"fPadLeftMargin\":0.1,\"fPadRightMargin\":0.1,\"fPadGridX\":false,\"fPadGridY\":false,\"fPadTickX\":0,\"fPadTickY\":0,\"fPaperSizeX\":20,\"fPaperSizeY\":26,\"fScreenFactor\":1,\"fStatColor\":0,\"fStatTextColor\":1,\"fStatBorderSize\":1,\"fStatFont\":42,\"fStatFontSize\":0,\"fStatStyle\":1001,\"fStatFormat\":\"6.4g\",\"fStatX\":0.98,\"fStatY\":0.935,\"fStatW\":0.2,\"fStatH\":0.16,\"fStripDecimals\":true,\"fTitleAlign\":23,\"fTitleColor\":0,\"fTitleTextColor\":1,\"fTitleBorderSize\":0,\"fTitleFont\":42,\"fTitleFontSize\":0.05,\"fTitleStyle\":0,\"fTitleX\":0.5,\"fTitleY\":0.995,\"fTitleW\":0,\"fTitleH\":0,\"fLegoInnerR\":0.5,\"fLineStyles\":[\"\",\"  \",\" 12 12\",\" 4 8\",\" 12 16 4 16\",\" 20 12 4 12\",\" 20 12 4 12 4 12 4 12\",\" 20 20\",\" 20 12 4 12 4 12\",\" 80 20\",\" 80 40 4 40\",\"  \",\"  \",\"  \",\"  \",\"  \",\"  \",\"  \",\"  \",\"  \",\"  \",\"  \",\"  \",\"  \",\"  \",\"  \",\"  \",\"  \",\"  \",\"  \"],\"fHeaderPS\":\"\",\"fTitlePS\":\"\",\"fFitFormat\":\"5.4g\",\"fPaintTextFormat\":\"g\",\"fLineScalePS\":3,\"fJoinLinePS\":0,\"fCapLinePS\":0,\"fTimeOffset\":788918400,\"fImageScaling\":1,\"fCandleWhiskerRange\":1,\"fCandleBoxRange\":0.5,\"fCandleScaled\":false,\"fViolinScaled\":true,\"fXAxisExpXOffset\":0,\"fXAxisExpYOffset\":0,\"fYAxisExpXOffset\":0,\"fYAxisExpYOffset\":0,\"fAxisMaxDigits\":5,\"fOrthoCamera\":false}},{\"_typename\":\"TWebSnapshot\",\"fUniqueID\":0,\"fBits\":0,\"fObjectID\":\"\",\"fOption\":\"\",\"fKind\":1,\"fSnapshot\":{\"_typename\":\"TFrame\",\"fUniqueID\":0,\"fBits\":8,\"fLineColor\":1,\"fLineStyle\":1,\"fLineWidth\":1,\"fFillColor\":0,\"fFillStyle\":1001,\"fX1\":-80,\"fY1\":0,\"fX2\":80,\"fY2\":0.161538467556238,\"fBorderSize\":1,\"fBorderMode\":0}},{\"_typename\":\"TWebSnapshot\",\"fUniqueID\":0,\"fBits\":0,\"fObjectID\":\"\",\"fOption\":\"hist\",\"fKind\":1,\"fSnapshot\":{\"_typename\":\"TH1F\",\"fUniqueID\":0,\"fBits\":520,\"fName\":\"h_timeDiff_beamOn\",\"fTitle\":\"Time Diff\",\"fLineColor\":602,\"fLineStyle\":1,\"fLineWidth\":1,\"fFillColor\":0,\"fFillStyle\":1001,\"fMarkerColor\":1,\"fMarkerStyle\":1,\"fMarkerSize\":1,\"fNcells\":82,\"fXaxis\":{\"_typename\":\"TAxis\",\"fUniqueID\":0,\"fBits\":0,\"fName\":\"xaxis\",\"fTitle\":\"\",\"fNdivisions\":510,\"fAxisColor\":1,\"fLabelColor\":1,\"fLabelFont\":42,\"fLabelOffset\":0.005,\"fLabelSize\":0.035,\"fTickLength\":0.03,\"fTitleOffset\":1,\"fTitleSize\":0.035,\"fTitleColor\":1,\"fTitleFont\":42,\"fNbins\":80,\"fXmin\":-80,\"fXmax\":80,\"fXbins\":[],\"fFirst\":0,\"fLast\":0,\"fBits2\":0,\"fTimeDisplay\":false,\"fTimeFormat\":\"\",\"fLabels\":null,\"fModLabs\":null},\"fYaxis\":{\"_typename\":\"TAxis\",\"fUniqueID\":0,\"fBits\":0,\"fName\":\"yaxis\",\"fTitle\":\"\",\"fNdivisions\":510,\"fAxisColor\":1,\"fLabelColor\":1,\"fLabelFont\":42,\"fLabelOffset\":0.005,\"fLabelSize\":0.035,\"fTickLength\":0.03,\"fTitleOffset\":0,\"fTitleSize\":0.035,\"fTitleColor\":1,\"fTitleFont\":42,\"fNbins\":1,\"fXmin\":0,\"fXmax\":1,\"fXbins\":[],\"fFirst\":0,\"fLast\":0,\"fBits2\":0,\"fTimeDisplay\":false,\"fTimeFormat\":\"\",\"fLabels\":null,\"fModLabs\":null},\"fZaxis\":{\"_typename\":\"TAxis\",\"fUniqueID\":0,\"fBits\":0,\"fName\":\"zaxis\",\"fTitle\":\"\",\"fNdivisions\":510,\"fAxisColor\":1,\"fLabelColor\":1,\"fLabelFont\":42,\"fLabelOffset\":0.005,\"fLabelSize\":0.035,\"fTickLength\":0.03,\"fTitleOffset\":1,\"fTitleSize\":0.035,\"fTitleColor\":1,\"fTitleFont\":42,\"fNbins\":1,\"fXmin\":0,\"fXmax\":1,\"fXbins\":[],\"fFirst\":0,\"fLast\":0,\"fBits2\":0,\"fTimeDisplay\":false,\"fTimeFormat\":\"\",\"fLabels\":null,\"fModLabs\":null},\"fBarOffset\":0,\"fBarWidth\":1000,\"fEntries\":26,\"fTsumw\":1,\"fTsumw2\":0.0384615384615385,\"fTsumwx\":-1.42880014272837,\"fTsumwx2\":140.907532387628,\"fMaximum\":-1111,\"fMinimum\":-1111,\"fNormFactor\":0,\"fContour\":[],\"fSumw2\":[0,0,0,0,0,0,0,0,0,0,0,0,0,0,0,0,0,0,0,0,0,0,0,0,0,0.0014792899408284,0.0014792899408284,0,0,0,0,0,0,0.0014792899408284,0,0.00295857988165681,0.0014792899408284,0.0014792899408284,0.00295857988165681,0.00591715976331361,0,0.00443786982248521,0.00443786982248521,0,0.00295857988165681,0.00295857988165681,0,0,0.0014792899408284,0.0014792899408284,0,0,0.0014792899408284,0,0,0,0,0,0,0,0,0,0,0,0,0,0,0,0,0,0,0,0,0,0,0,0,0,0,0,0,0],\"fOption\":\"\",\"fFunctions\":{\"_typename\":\"TList\",\"name\":\"TList\",\"arr\":[],\"opt\":[]},\"fBufferSize\":0,\"fBuffer\":[],\"fBinStatErrOpt\":0,\"fStatOverflows\":2,\"fArray\":[0,0,0,0,0,0,0,0,0,0,0,0,0,0,0,0,0,0,0,0,0,0,0,0,0,0.03846154,0.03846154,0,0,0,0,0,0,0.03846154,0,0.07692308,0.03846154,0.03846154,0.07692308,0.1538462,0,0.1153846,0.1153846,0,0.07692308,0.07692308,0,0,0.03846154,0.03846154,0,0,0.03846154,0,0,0,0,0,0,0,0,0,0,0,0,0,0,0,0,0,0,0,0,0,0,0,0,0,0,0,0,0]}},{\"_typename\":\"TWebSnapshot\",\"fUniqueID\":0,\"fBits\":0,\"fObjectID\":\"\",\"fOption\":\"hist sames\",\"fKind\":1,\"fSnapshot\":{\"_typename\":\"TH1F\",\"fUniqueID\":0,\"fBits\":520,\"fName\":\"h_timeDiff_beamOff\",\"fTitle\":\"Time Diff\",\"fLineColor\":2,\"fLineStyle\":1,\"fLineWidth\":1,\"fFillColor\":0,\"fFillStyle\":1001,\"fMarkerColor\":1,\"fMarkerStyle\":1,\"fMarkerSize\":1,\"fNcells\":82,\"fXaxis\":{\"_typename\":\"TAxis\",\"fUniqueID\":0,\"fBits\":0,\"fName\":\"xaxis\",\"fTitle\":\"\",\"fNdivisions\":510,\"fAxisColor\":1,\"fLabelColor\":1,\"fLabelFont\":42,\"fLabelOffset\":0.005,\"fLabelSize\":0.035,\"fTickLength\":0.03,\"fTitleOffset\":1,\"fTitleSize\":0.035,\"fTitleColor\":1,\"fTitleFont\":42,\"fNbins\":80,\"fXmin\":-80,\"fXmax\":80,\"fXbins\":[],\"fFirst\":0,\"fLast\":0,\"fBits2\":0,\"fTimeDisplay\":false,\"fTimeFormat\":\"\",\"fLabels\":null,\"fModLabs\":null},\"fYaxis\":{\"_typename\":\"TAxis\",\"fUniqueID\":0,\"fBits\":0,\"fName\":\"yaxis\",\"fTitle\":\"\",\"fNdivisions\":510,\"fAxisColor\":1,\"fLabelColor\":1,\"fLabelFont\":42,\"fLabelOffset\":0.005,\"fLabelSize\":0.035,\"fTickLength\":0.03,\"fTitleOffset\":0,\"fTitleSize\":0.035,\"fTitleColor\":1,\"fTitleFont\":42,\"fNbins\":1,\"fXmin\":0,\"fXmax\":1,\"fXbins\":[],\"fFirst\":0,\"fLast\":0,\"fBits2\":0,\"fTimeDisplay\":false,\"fTimeFormat\":\"\",\"fLabels\":null,\"fModLabs\":null},\"fZaxis\":{\"_typename\":\"TAxis\",\"fUniqueID\":0,\"fBits\":0,\"fName\":\"zaxis\",\"fTitle\":\"\",\"fNdivisions\":510,\"fAxisColor\":1,\"fLabelColor\":1,\"fLabelFont\":42,\"fLabelOffset\":0.005,\"fLabelSize\":0.035,\"fTickLength\":0.03,\"fTitleOffset\":1,\"fTitleSize\":0.035,\"fTitleColor\":1,\"fTitleFont\":42,\"fNbins\":1,\"fXmin\":0,\"fXmax\":1,\"fXbins\":[],\"fFirst\":0,\"fLast\":0,\"fBits2\":0,\"fTimeDisplay\":false,\"fTimeFormat\":\"\",\"fLabels\":null,\"fModLabs\":null},\"fBarOffset\":0,\"fBarWidth\":1000,\"fEntries\":427,\"fTsumw\":1.00945626477541,\"fTsumw2\":0.00238642142972911,\"fTsumwx\":-11.3056802231087,\"fTsumwx2\":272.020825188704,\"fMaximum\":-1111,\"fMinimum\":-1111,\"fNormFactor\":0,\"fContour\":[],\"fSumw2\":[0,0,0,0,0,0,0,0,0,0,0,0,0,0,5.58880896892063e-6,0,0,5.58880896892063e-6,0,1.11776179378413e-5,5.58880896892063e-6,1.11776179378413e-5,1.11776179378413e-5,5.58880896892063e-6,4.47104717513651e-5,3.35328538135238e-5,1.67664269067619e-5,7.82433255648889e-5,8.38321345338095e-5,8.94209435027301e-5,1.34131415254095e-4,1.50897842160857e-4,1.50897842160857e-4,1.34131415254095e-4,1.62075460098698e-4,1.7884188700546e-4,1.67664269067619e-4,1.22953797316254e-4,1.45309033191936e-4,1.06187370409492e-4,1.00598561440571e-4,9.50097524716508e-5,1.11776179378413e-4,5.58880896892063e-5,5.58880896892063e-5,3.35328538135238e-5,1.67664269067619e-5,1.67664269067619e-5,1.67664269067619e-5,0,5.58880896892063e-6,0,5.58880896892063e-6,1.11776179378413e-5,0,0,5.58880896892063e-6,0,0,0,0,0,0,0,0,0,0,0,0,0,0,0,0,0,0,0,0,0,0,0,0,0],\"fOption\":\"\",\"fFunctions\":{\"_typename\":\"TList\",\"name\":\"TList\",\"arr\":[],\"opt\":[]},\"fBufferSize\":0,\"fBuffer\":[],\"fBinStatErrOpt\":0,\"fStatOverflows\":2,\"fArray\":[0,0,0,0,0,0,0,0,0,0,0,0,0,0,0.002364066,0,0,0.002364066,0,0.004728132,0.002364066,0.004728132,0.004728132,0.002364066,0.01891253,0.0141844,0.007092198,0.03309693,0.03546099,0.03782506,0.05673759,0.06382979,0.06382979,0.05673759,0.06855792,0.07565012,0.07092199,0.05200946,0.06146572,0.04491726,0.04255319,0.04018912,0.04728132,0.02364066,0.02364066,0.0141844,0.007092198,0.007092198,0.007092198,0,0.002364066,0,0.002364066,0.004728132,0,0,0.002364066,0,0,0,0,0,0,0,0,0,0,0,0,0,0,0,0,0,0,0,0,0,0,0,0,0]}},{\"_typename\":\"TWebSnapshot\",\"fUniqueID\":0,\"fBits\":0,\"fObjectID\":\"\",\"fOption\":\"blNDC\",\"fKind\":1,\"fSnapshot\":{\"_typename\":\"TPaveText\",\"fUniqueID\":0,\"fBits\":9,\"fLineColor\":1,\"fLineStyle\":1,\"fLineWidth\":1,\"fFillColor\":0,\"fFillStyle\":0,\"fX1\":-22.4545457891443,\"fY1\":0.169615393055317,\"fX2\":22.4545457891443,\"fY2\":0.180721163030786,\"fX1NDC\":0.387727272727273,\"fY1NDC\":0.940000003948808,\"fX2NDC\":0.612272727272727,\"fY2NDC\":0.995000004768372,\"fBorderSize\":0,\"fInit\":1,\"fShadowColor\":1,\"fCornerRadius\":0,\"fOption\":\"blNDC\",\"fName\":\"title\",\"fTextAngle\":0,\"fTextSize\":0,\"fTextAlign\":22,\"fTextColor\":1,\"fTextFont\":42,\"fLabel\":\"\",\"fLongest\":9,\"fMargin\":0.05,\"fLines\":{\"_typename\":\"TList\",\"name\":\"TList\",\"arr\":[{\"_typename\":\"TLatex\",\"fUniqueID\":0,\"fBits\":0,\"fName\":\"\",\"fTitle\":\"Time Diff\",\"fTextAngle\":0,\"fTextSize\":0,\"fTextAlign\":0,\"fTextColor\":0,\"fTextFont\":0,\"fX\":0,\"fY\":0,\"fLineColor\":1,\"fLineStyle\":1,\"fLineWidth\":2,\"fLimitFactorSize\":3,\"fOriginSize\":0.0467500016093254}],\"opt\":[\"\"]}}}],\"fScripts\":\"\",\"fHighlightConnect\":false,\"fFixedSize\":false});\n",
       "   Core.settings.HandleKeys = false;\n",
       "   Core.draw(\"root_plot_1733325446232\", obj, \"\");\n",
       "}\n",
       "\n",
       "function script_load_root_plot_1733325446232(src, on_error) {\n",
       "    let script = document.createElement('script');\n",
       "    script.src = src;\n",
       "    script.onload = function() { display_root_plot_1733325446232(JSROOT); };\n",
       "    script.onerror = function() { script.remove(); on_error(); };\n",
       "    document.head.appendChild(script);\n",
       "}\n",
       "\n",
       "if (typeof requirejs !== 'undefined') {\n",
       "\n",
       "    // We are in jupyter notebooks, use require.js which should be configured already\n",
       "    requirejs.config({\n",
       "       paths: { 'JSRootCore' : [ 'build/jsroot', 'https://root.cern/js/7.7.2/build/jsroot', 'https://jsroot.gsi.de/7.7.2/build/jsroot' ] }\n",
       "    })(['JSRootCore'],  function(Core) {\n",
       "       display_root_plot_1733325446232(Core);\n",
       "    });\n",
       "\n",
       "} else if (typeof JSROOT !== 'undefined') {\n",
       "\n",
       "   // JSROOT already loaded, just use it\n",
       "   display_root_plot_1733325446232(JSROOT);\n",
       "\n",
       "} else {\n",
       "\n",
       "    // We are in jupyterlab without require.js, directly loading jsroot\n",
       "    // Jupyterlab might be installed in a different base_url so we need to know it.\n",
       "    try {\n",
       "        var base_url = JSON.parse(document.getElementById('jupyter-config-data').innerHTML).baseUrl;\n",
       "    } catch(_) {\n",
       "        var base_url = '/';\n",
       "    }\n",
       "\n",
       "    // Try loading a local version of requirejs and fallback to cdn if not possible.\n",
       "    script_load_root_plot_1733325446232(base_url + 'static/build/jsroot.js', function(){\n",
       "        console.error('Fail to load JSROOT locally, please check your jupyter_notebook_config.py file');\n",
       "        script_load_root_plot_1733325446232('https://root.cern/js/7.7.2/build/jsroot.js', function(){\n",
       "            document.getElementById(\"root_plot_1733325446232\").innerHTML = \"Failed to load JSROOT\";\n",
       "        });\n",
       "    });\n",
       "}\n",
       "\n",
       "</script>\n"
      ],
      "text/plain": [
       "<IPython.core.display.HTML object>"
      ]
     },
     "metadata": {},
     "output_type": "display_data"
    }
   ],
   "source": [
    "\n",
    "h1_scaled = h_timeDiff_beamOn.Clone()\n",
    "scale1 = h1_scaled.Integral(20, 60)\n",
    "if scale1>0: h1_scaled.Scale(1/scale1)\n",
    "\n",
    "h_timeDiff_beamOff.SetLineColor(2)\n",
    "h2_scaled = h_timeDiff_beamOff.Clone()\n",
    "scale2 = h2_scaled.Integral(20, 60)\n",
    "if scale2>0: h2_scaled.Scale(1/scale2)\n",
    "\n",
    "h1_scaled.Draw(\"hist\")\n",
    "h2_scaled.Draw(\"hist sames\")\n",
    "\n",
    "c1.Draw()\n",
    "\n",
    "print(\"Beam On: \\n\\tEntries: {0}\\n\\tMean: {1} +/- {2}\\n\\tstd: {3}\".format(h_timeDiff_beamOn.GetEntries(), h_timeDiff_beamOn.GetMean(), h_timeDiff_beamOn.GetMeanError(), h_timeDiff_beamOn.GetStdDev()))\n",
    "print(\"Beam Off: \\n\\tEntries: {0}\\n\\tMean: {1} +/- {2}\\n\\tstd: {3}\".format(h_timeDiff_beamOff.GetEntries(), h_timeDiff_beamOff.GetMean(), h_timeDiff_beamOff.GetMeanError(), h_timeDiff_beamOff.GetStdDev()))"
   ]
  },
  {
   "cell_type": "code",
   "execution_count": null,
   "metadata": {},
   "outputs": [],
   "source": []
  }
 ],
 "metadata": {
  "colab": {
   "provenance": []
  },
  "kernelspec": {
   "display_name": "Python 3",
   "language": "python",
   "name": "python3"
  },
  "language_info": {
   "codemirror_mode": {
    "name": "ipython",
    "version": 3
   },
   "file_extension": ".py",
   "mimetype": "text/x-python",
   "name": "python",
   "nbconvert_exporter": "python",
   "pygments_lexer": "ipython3",
   "version": "3.11.9"
  }
 },
 "nbformat": 4,
 "nbformat_minor": 4
}
