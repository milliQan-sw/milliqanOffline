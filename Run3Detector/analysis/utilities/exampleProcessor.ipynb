{
 "cells": [
  {
   "cell_type": "code",
   "execution_count": 8,
   "metadata": {},
   "outputs": [
    {
     "name": "stdout",
     "output_type": "stream",
     "text": [
      "The autoreload extension is already loaded. To reload it, use:\n",
      "  %reload_ext autoreload\n"
     ]
    }
   ],
   "source": [
    "import ROOT as r\n",
    "import uproot\n",
    "import hist\n",
    "import matplotlib.pyplot as plt\n",
    "import awkward as ak\n",
    "import numpy as np\n",
    "import array as arr\n",
    "from milliqanProcessor import *\n",
    "from milliqanScheduler import *\n",
    "from milliqanCuts import *\n",
    "from milliqanPlotter import *\n",
    "import os\n",
    "from functools import partial\n",
    "\n",
    "%load_ext autoreload\n",
    "%autoreload 2"
   ]
  },
  {
   "cell_type": "code",
   "execution_count": 9,
   "metadata": {},
   "outputs": [],
   "source": [
    "def getMaxPulseTime(events):\n",
    "    t_0 = events.time_module_calibrated[(events.eventCuts) & (events.layer0) & (events.straightPulses)]\n",
    "    t_1 = events.time_module_calibrated[(events.eventCuts) & (events.layer1) & (events.straightPulses)]\n",
    "    t_2 = events.time_module_calibrated[(events.eventCuts) & (events.layer2) & (events.straightPulses)]\n",
    "    t_3 = events.time_module_calibrated[(events.eventCuts) & (events.layer3) & (events.straightPulses)]\n",
    "\n",
    "    #example of getting max value mask\n",
    "    events['max_height'] = events.height == ak.max(events.height, axis=1, keepdims=True)\n",
    "\n",
    "    passingHeights0 = events.height[(events.eventCuts) & (events.layer0) & (events.straightPulses)]\n",
    "    passingHeights1 = events.height[(events.eventCuts) & (events.layer1) & (events.straightPulses)]\n",
    "    passingHeights2 = events.height[(events.eventCuts) & (events.layer2) & (events.straightPulses)]\n",
    "    passingHeights3 = events.height[(events.eventCuts) & (events.layer3) & (events.straightPulses)]\n",
    "\n",
    "    #print(len(ak.drop_none(ak.flatten(ak.max(passingHeights0, axis=1, keepdims=True)))), len(ak.drop_none(ak.flatten(ak.max(passingHeights1, axis=1, keepdims=True)))), len(ak.drop_none(ak.flatten(ak.max(passingHeights2, axis=1, keepdims=True)))), len(ak.drop_none(ak.flatten(ak.max(passingHeights3, axis=1, keepdims=True)))))\n",
    "\n",
    "    max_pulse0 = ak.pad_none(passingHeights0, 1, axis=1) == ak.max(passingHeights0, axis=1, keepdims=True, initial=0)\n",
    "    max_pulse1 = ak.pad_none(passingHeights1, 1, axis=1) == ak.max(passingHeights1, axis=1, keepdims=True, initial=0)\n",
    "    max_pulse2 = ak.pad_none(passingHeights2, 1, axis=1) == ak.max(passingHeights2, axis=1, keepdims=True, initial=0)\n",
    "    max_pulse3 = ak.pad_none(passingHeights3, 1, axis=1) == ak.max(passingHeights3, axis=1, keepdims=True, initial=0)\n",
    "\n",
    "    #print(ak.pad_none(passingHeights0, 1, axis=1))\n",
    "    #print(ak.max(passingHeights0, axis=1, keepdims=True, initial=0))\n",
    "\n",
    "    #print(ak.drop_none(max_pulse0, axis=1))\n",
    "\n",
    "    t_0 = t_0[ak.drop_none(max_pulse0, axis=1)]\n",
    "    t_1 = t_1[ak.drop_none(max_pulse1, axis=1)]\n",
    "    t_2 = t_2[ak.drop_none(max_pulse2, axis=1)]\n",
    "    t_3 = t_3[ak.drop_none(max_pulse3, axis=1)]\n",
    "\n",
    "    return t_0, t_1, t_2, t_3"
   ]
  },
  {
   "cell_type": "code",
   "execution_count": 11,
   "metadata": {},
   "outputs": [
    {
     "name": "stdout",
     "output_type": "stream",
     "text": [
      "{'h_height': <milliqanPlotter.milliqanPlot object at 0x29c474940>}\n",
      "----------------------------\n",
      "MilliQan Scheduler:\n",
      "\t0. layerCut\n",
      "\t1. fourLayerCut\n",
      "\t2. straightLineCut\n",
      "\t3. heightCut200\n",
      "\t4. eventCuts\n",
      "\t5. h_height\n",
      "----------------------------\n",
      "None\n",
      "Number of events 1000\n"
     ]
    },
    {
     "name": "stderr",
     "output_type": "stream",
     "text": [
      "Warning in <TROOT::Append>: Replacing existing TH1: h_height (Potential memory leak).\n"
     ]
    }
   ],
   "source": [
    "if __name__ == \"__main__\":\n",
    "\n",
    "    #define a file list to run over\n",
    "    filelist = ['~/Desktop/MilliQan/data/MilliQan_Run1185.1_v33.root:t']\n",
    "\n",
    "    #define the necessary branches to run over\n",
    "    branches = ['boardsMatched', 'time_module_calibrated', 'height', 'area', 'column', 'row', 'layer']\n",
    "\n",
    "    #define the milliqan cuts object\n",
    "    mycuts = milliqanCuts()\n",
    "\n",
    "    #example of changing cut value\n",
    "    heightCut200 = mycuts.getCut(mycuts.heightCut, 'heightCut200', cut=200)\n",
    "\n",
    "    #example of cutting on events\n",
    "    fourLayerCut = mycuts.getCut(mycuts.fourLayerCut, 'fourLayerCut', cut=False)\n",
    "\n",
    "    #example of creating a combined cut\n",
    "    eventCuts = mycuts.getCut(mycuts.combineCuts, 'eventCuts', ['fourLayerCut', 'straightLineCut', 'heightCut200'])\n",
    "\n",
    "    #define milliqan plotter\n",
    "    myplotter = milliqanPlotter()\n",
    "\n",
    "    #create root histogram \n",
    "    h_height = r.TH1F(\"h_height\", \"Height\", 140, 0, 1400)\n",
    "\n",
    "    #add root histogram to plotter\n",
    "    myplotter.addHistograms(h_height, 'height', 'eventCuts')\n",
    "\n",
    "    #defining the cutflow\n",
    "    cutflow = [mycuts.layerCut, mycuts.fourLayerCut, mycuts.straightLineCut, heightCut200, eventCuts, myplotter.dict['h_height']]\n",
    "\n",
    "    #create a schedule of the cuts\n",
    "    myschedule = milliQanScheduler(cutflow, mycuts, myplotter)\n",
    "\n",
    "    #print out the schedule\n",
    "    myschedule.printSchedule()\n",
    "    \n",
    "    #branchesToMake = [layerCut, fourLayerCut]#, 'straightLineCut', \"combineCuts(['fourLayers', 'straightPath']; 'eventCuts')\", 'threeAreaSaturatedInLine(50000)', \"combineCuts(['eventCuts', 'three_sat']; 'eventCuts')\"]\n",
    "\n",
    "    #create the milliqan processor object\n",
    "    myiterator = milliqanProcessor(filelist, branches, myschedule, mycuts, myplotter)\n",
    "\n",
    "    #set custom functions inside iterator if desired\n",
    "    #myiterator.setCustomFunction(getMaxPulseTime)\n",
    "\n",
    "    #run the milliqan processor\n",
    "    myiterator.run()\n",
    "\n",
    "\n",
    "    #note: need a way to make cuts on pulses because \n",
    "    #   events = events[pulseCut] \n",
    "    # will not work due to the shape of arrays"
   ]
  },
  {
   "cell_type": "code",
   "execution_count": 12,
   "metadata": {},
   "outputs": [
    {
     "data": {
      "image/png": "[encoded data removed]",
      "text/plain": [
       "<IPython.core.display.Image object>"
      ]
     },
     "metadata": {},
     "output_type": "display_data"
    }
   ],
   "source": [
    "c1 = r.TCanvas(\"c1\", \"c1\", 600, 600)\n",
    "c1.cd()\n",
    "h_height.Draw()\n",
    "c1.Draw()\n"
   ]
  },
  {
   "cell_type": "code",
   "execution_count": 7,
   "metadata": {},
   "outputs": [
    {
     "data": {
      "text/plain": [
       "type"
      ]
     },
     "execution_count": 7,
     "metadata": {},
     "output_type": "execute_result"
    }
   ],
   "source": [
    "type(milliqanPlot)"
   ]
  },
  {
   "cell_type": "code",
   "execution_count": 25,
   "metadata": {},
   "outputs": [
    {
     "ename": "AttributeError",
     "evalue": "'list' object has no attribute 'layer'",
     "output_type": "error",
     "traceback": [
      "\u001b[0;31m---------------------------------------------------------------------------\u001b[0m",
      "\u001b[0;31mAttributeError\u001b[0m                            Traceback (most recent call last)",
      "\u001b[1;32m/Users/michaelcarrigan/Desktop/MilliQan/offline/milliqanOffline/Run3Detector/analysis/utilities/exampleProcessor.ipynb Cell 6\u001b[0m line \u001b[0;36m1\n\u001b[0;32m----> <a href='vscode-notebook-cell:/Users/michaelcarrigan/Desktop/MilliQan/offline/milliqanOffline/Run3Detector/analysis/utilities/exampleProcessor.ipynb#W5sZmlsZQ%3D%3D?line=0'>1</a>\u001b[0m mycuts\u001b[39m.\u001b[39;49mlayerCut() \u001b[39min\u001b[39;00m \u001b[39mdir\u001b[39m(milliqanCuts)\n",
      "File \u001b[0;32m~/Desktop/MilliQan/offline/milliqanOffline/Run3Detector/analysis/utilities/milliqanCuts.py:20\u001b[0m, in \u001b[0;36mmilliqanCuts.layerCut\u001b[0;34m(self)\u001b[0m\n\u001b[1;32m     19\u001b[0m \u001b[39mdef\u001b[39;00m \u001b[39mlayerCut\u001b[39m(\u001b[39mself\u001b[39m):\n\u001b[0;32m---> 20\u001b[0m     \u001b[39mself\u001b[39m\u001b[39m.\u001b[39mevents[\u001b[39m'\u001b[39m\u001b[39mlayer0\u001b[39m\u001b[39m'\u001b[39m] \u001b[39m=\u001b[39m \u001b[39mself\u001b[39;49m\u001b[39m.\u001b[39;49mevents\u001b[39m.\u001b[39;49mlayer \u001b[39m==\u001b[39m \u001b[39m0\u001b[39m\n\u001b[1;32m     21\u001b[0m     \u001b[39mself\u001b[39m\u001b[39m.\u001b[39mevents[\u001b[39m'\u001b[39m\u001b[39mlayer1\u001b[39m\u001b[39m'\u001b[39m] \u001b[39m=\u001b[39m \u001b[39mself\u001b[39m\u001b[39m.\u001b[39mevents\u001b[39m.\u001b[39mlayer \u001b[39m==\u001b[39m \u001b[39m1\u001b[39m\n\u001b[1;32m     22\u001b[0m     \u001b[39mself\u001b[39m\u001b[39m.\u001b[39mevents[\u001b[39m'\u001b[39m\u001b[39mlayer2\u001b[39m\u001b[39m'\u001b[39m] \u001b[39m=\u001b[39m \u001b[39mself\u001b[39m\u001b[39m.\u001b[39mevents\u001b[39m.\u001b[39mlayer \u001b[39m==\u001b[39m \u001b[39m2\u001b[39m\n",
      "\u001b[0;31mAttributeError\u001b[0m: 'list' object has no attribute 'layer'"
     ]
    }
   ],
   "source": [
    "mycuts.layerCut() in dir(milliqanCuts)"
   ]
  },
  {
   "cell_type": "code",
   "execution_count": 109,
   "metadata": {},
   "outputs": [
    {
     "data": {
      "text/plain": [
       "<function milliqanCuts.getLambda.<locals>.<lambda>(x)>"
      ]
     },
     "execution_count": 109,
     "metadata": {},
     "output_type": "execute_result"
    }
   ],
   "source": [
    "thisAreaCut"
   ]
  },
  {
   "cell_type": "code",
   "execution_count": 120,
   "metadata": {},
   "outputs": [
    {
     "data": {
      "text/plain": [
       "function"
      ]
     },
     "execution_count": 120,
     "metadata": {},
     "output_type": "execute_result"
    }
   ],
   "source": [
    "import types\n",
    "types.LambdaType"
   ]
  },
  {
   "cell_type": "code",
   "execution_count": 123,
   "metadata": {},
   "outputs": [
    {
     "data": {
      "text/plain": [
       "'<lambda>'"
      ]
     },
     "execution_count": 123,
     "metadata": {},
     "output_type": "execute_result"
    }
   ],
   "source": [
    "thisAreaCut.__code__.co_name"
   ]
  },
  {
   "cell_type": "code",
   "execution_count": null,
   "metadata": {},
   "outputs": [],
   "source": []
  }
 ],
 "metadata": {
  "kernelspec": {
   "display_name": "Python 3",
   "language": "python",
   "name": "python3"
  },
  "language_info": {
   "codemirror_mode": {
    "name": "ipython",
    "version": 3
   },
   "file_extension": ".py",
   "mimetype": "text/x-python",
   "name": "python",
   "nbconvert_exporter": "python",
   "pygments_lexer": "ipython3",
   "version": "3.10.12"
  }
 },
 "nbformat": 4,
 "nbformat_minor": 2
}
